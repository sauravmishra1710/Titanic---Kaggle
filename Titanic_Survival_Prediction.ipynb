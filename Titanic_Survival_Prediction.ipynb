{
 "cells": [
  {
   "cell_type": "markdown",
   "metadata": {},
   "source": [
    "# Titanic: Machine Learning from Disaster\n",
    "\n",
    "## Problem Description\n",
    "\n",
    "The sinking of the RMS Titanic is one of the most infamous shipwrecks in history.  On April 15, 1912, during her maiden voyage, the Titanic sank after colliding with an iceberg, killing 1502 out of 2224 passengers and crew. This sensational tragedy shocked the international community and led to better safety regulations for ships.\n",
    "One of the reasons that the shipwreck led to such loss of life was that there were not enough lifeboats for the passengers and crew. Although there was some element of luck involved in surviving the sinking, some groups of people were more likely to survive than others, such as women, children, and the upper-class.\n",
    "In this challenge, we ask you to complete the analysis of what sorts of people were likely to survive. In particular, we ask you to apply the tools of machine learning to predict which passengers survived the tragedy.\n"
   ]
  },
  {
   "cell_type": "code",
   "execution_count": 1,
   "metadata": {
    "scrolled": true
   },
   "outputs": [],
   "source": [
    "# Import the required libraries\n",
    "\n",
    "import numpy as np\n",
    "import pandas as pd\n",
    "\n",
    "import matplotlib.pyplot as plt \n",
    "import seaborn as sns\n",
    "\n",
    "from sklearn.preprocessing import RobustScaler\n",
    "from sklearn.model_selection import train_test_split, GridSearchCV\n",
    "from sklearn.metrics import recall_score, accuracy_score, confusion_matrix, f1_score\n",
    "from sklearn.metrics import precision_score, auc, roc_auc_score, roc_curve, precision_recall_curve\n",
    "\n",
    "from sklearn.ensemble import AdaBoostClassifier\n",
    "from xgboost import XGBClassifier\n",
    "from lightgbm import LGBMClassifier\n",
    "\n",
    "# Ignore Warnings\n",
    "import warnings\n",
    "warnings.filterwarnings('ignore')\n",
    "\n",
    "# To display all the columns\n",
    "pd.options.display.max_columns = None\n",
    "\n",
    "# To display all the rows\n",
    "pd.options.display.max_rows = None\n",
    "\n",
    "# To map Empty Strings or numpy.inf as Na Values\n",
    "pd.options.mode.use_inf_as_na = True\n",
    "\n",
    "pd.options.display.expand_frame_repr =  False\n",
    "\n",
    "%matplotlib inline\n",
    "\n",
    "# Set Style\n",
    "sns.set(style = \"whitegrid\")"
   ]
  },
  {
   "cell_type": "markdown",
   "metadata": {},
   "source": [
    "# Data Import"
   ]
  },
  {
   "cell_type": "code",
   "execution_count": 2,
   "metadata": {
    "scrolled": true
   },
   "outputs": [
    {
     "data": {
      "text/html": [
       "<div>\n",
       "<style scoped>\n",
       "    .dataframe tbody tr th:only-of-type {\n",
       "        vertical-align: middle;\n",
       "    }\n",
       "\n",
       "    .dataframe tbody tr th {\n",
       "        vertical-align: top;\n",
       "    }\n",
       "\n",
       "    .dataframe thead th {\n",
       "        text-align: right;\n",
       "    }\n",
       "</style>\n",
       "<table border=\"1\" class=\"dataframe\">\n",
       "  <thead>\n",
       "    <tr style=\"text-align: right;\">\n",
       "      <th></th>\n",
       "      <th>PassengerId</th>\n",
       "      <th>Survived</th>\n",
       "      <th>Pclass</th>\n",
       "      <th>Name</th>\n",
       "      <th>Sex</th>\n",
       "      <th>Age</th>\n",
       "      <th>SibSp</th>\n",
       "      <th>Parch</th>\n",
       "      <th>Ticket</th>\n",
       "      <th>Fare</th>\n",
       "      <th>Cabin</th>\n",
       "      <th>Embarked</th>\n",
       "    </tr>\n",
       "  </thead>\n",
       "  <tbody>\n",
       "    <tr>\n",
       "      <th>0</th>\n",
       "      <td>1</td>\n",
       "      <td>0</td>\n",
       "      <td>3</td>\n",
       "      <td>Braund, Mr. Owen Harris</td>\n",
       "      <td>male</td>\n",
       "      <td>22.0</td>\n",
       "      <td>1</td>\n",
       "      <td>0</td>\n",
       "      <td>A/5 21171</td>\n",
       "      <td>7.2500</td>\n",
       "      <td>NaN</td>\n",
       "      <td>S</td>\n",
       "    </tr>\n",
       "    <tr>\n",
       "      <th>1</th>\n",
       "      <td>2</td>\n",
       "      <td>1</td>\n",
       "      <td>1</td>\n",
       "      <td>Cumings, Mrs. John Bradley (Florence Briggs Th...</td>\n",
       "      <td>female</td>\n",
       "      <td>38.0</td>\n",
       "      <td>1</td>\n",
       "      <td>0</td>\n",
       "      <td>PC 17599</td>\n",
       "      <td>71.2833</td>\n",
       "      <td>C85</td>\n",
       "      <td>C</td>\n",
       "    </tr>\n",
       "    <tr>\n",
       "      <th>2</th>\n",
       "      <td>3</td>\n",
       "      <td>1</td>\n",
       "      <td>3</td>\n",
       "      <td>Heikkinen, Miss. Laina</td>\n",
       "      <td>female</td>\n",
       "      <td>26.0</td>\n",
       "      <td>0</td>\n",
       "      <td>0</td>\n",
       "      <td>STON/O2. 3101282</td>\n",
       "      <td>7.9250</td>\n",
       "      <td>NaN</td>\n",
       "      <td>S</td>\n",
       "    </tr>\n",
       "    <tr>\n",
       "      <th>3</th>\n",
       "      <td>4</td>\n",
       "      <td>1</td>\n",
       "      <td>1</td>\n",
       "      <td>Futrelle, Mrs. Jacques Heath (Lily May Peel)</td>\n",
       "      <td>female</td>\n",
       "      <td>35.0</td>\n",
       "      <td>1</td>\n",
       "      <td>0</td>\n",
       "      <td>113803</td>\n",
       "      <td>53.1000</td>\n",
       "      <td>C123</td>\n",
       "      <td>S</td>\n",
       "    </tr>\n",
       "    <tr>\n",
       "      <th>4</th>\n",
       "      <td>5</td>\n",
       "      <td>0</td>\n",
       "      <td>3</td>\n",
       "      <td>Allen, Mr. William Henry</td>\n",
       "      <td>male</td>\n",
       "      <td>35.0</td>\n",
       "      <td>0</td>\n",
       "      <td>0</td>\n",
       "      <td>373450</td>\n",
       "      <td>8.0500</td>\n",
       "      <td>NaN</td>\n",
       "      <td>S</td>\n",
       "    </tr>\n",
       "  </tbody>\n",
       "</table>\n",
       "</div>"
      ],
      "text/plain": [
       "   PassengerId  Survived  Pclass                                               Name     Sex   Age  SibSp  Parch            Ticket     Fare Cabin Embarked\n",
       "0            1         0       3                            Braund, Mr. Owen Harris    male  22.0      1      0         A/5 21171   7.2500   NaN        S\n",
       "1            2         1       1  Cumings, Mrs. John Bradley (Florence Briggs Th...  female  38.0      1      0          PC 17599  71.2833   C85        C\n",
       "2            3         1       3                             Heikkinen, Miss. Laina  female  26.0      0      0  STON/O2. 3101282   7.9250   NaN        S\n",
       "3            4         1       1       Futrelle, Mrs. Jacques Heath (Lily May Peel)  female  35.0      1      0            113803  53.1000  C123        S\n",
       "4            5         0       3                           Allen, Mr. William Henry    male  35.0      0      0            373450   8.0500   NaN        S"
      ]
     },
     "execution_count": 2,
     "metadata": {},
     "output_type": "execute_result"
    }
   ],
   "source": [
    "# train data\n",
    "titanic_data = pd.read_csv('train.csv', low_memory = False, skipinitialspace = True, float_precision = 2)\n",
    "\n",
    "# data glimpse\n",
    "titanic_data.head()"
   ]
  },
  {
   "cell_type": "code",
   "execution_count": 3,
   "metadata": {},
   "outputs": [
    {
     "data": {
      "text/html": [
       "<div>\n",
       "<style scoped>\n",
       "    .dataframe tbody tr th:only-of-type {\n",
       "        vertical-align: middle;\n",
       "    }\n",
       "\n",
       "    .dataframe tbody tr th {\n",
       "        vertical-align: top;\n",
       "    }\n",
       "\n",
       "    .dataframe thead th {\n",
       "        text-align: right;\n",
       "    }\n",
       "</style>\n",
       "<table border=\"1\" class=\"dataframe\">\n",
       "  <thead>\n",
       "    <tr style=\"text-align: right;\">\n",
       "      <th></th>\n",
       "      <th>PassengerId</th>\n",
       "      <th>Pclass</th>\n",
       "      <th>Name</th>\n",
       "      <th>Sex</th>\n",
       "      <th>Age</th>\n",
       "      <th>SibSp</th>\n",
       "      <th>Parch</th>\n",
       "      <th>Ticket</th>\n",
       "      <th>Fare</th>\n",
       "      <th>Cabin</th>\n",
       "      <th>Embarked</th>\n",
       "    </tr>\n",
       "  </thead>\n",
       "  <tbody>\n",
       "    <tr>\n",
       "      <th>0</th>\n",
       "      <td>892</td>\n",
       "      <td>3</td>\n",
       "      <td>Kelly, Mr. James</td>\n",
       "      <td>male</td>\n",
       "      <td>34.5</td>\n",
       "      <td>0</td>\n",
       "      <td>0</td>\n",
       "      <td>330911</td>\n",
       "      <td>7.8292</td>\n",
       "      <td>NaN</td>\n",
       "      <td>Q</td>\n",
       "    </tr>\n",
       "    <tr>\n",
       "      <th>1</th>\n",
       "      <td>893</td>\n",
       "      <td>3</td>\n",
       "      <td>Wilkes, Mrs. James (Ellen Needs)</td>\n",
       "      <td>female</td>\n",
       "      <td>47.0</td>\n",
       "      <td>1</td>\n",
       "      <td>0</td>\n",
       "      <td>363272</td>\n",
       "      <td>7.0000</td>\n",
       "      <td>NaN</td>\n",
       "      <td>S</td>\n",
       "    </tr>\n",
       "    <tr>\n",
       "      <th>2</th>\n",
       "      <td>894</td>\n",
       "      <td>2</td>\n",
       "      <td>Myles, Mr. Thomas Francis</td>\n",
       "      <td>male</td>\n",
       "      <td>62.0</td>\n",
       "      <td>0</td>\n",
       "      <td>0</td>\n",
       "      <td>240276</td>\n",
       "      <td>9.6875</td>\n",
       "      <td>NaN</td>\n",
       "      <td>Q</td>\n",
       "    </tr>\n",
       "    <tr>\n",
       "      <th>3</th>\n",
       "      <td>895</td>\n",
       "      <td>3</td>\n",
       "      <td>Wirz, Mr. Albert</td>\n",
       "      <td>male</td>\n",
       "      <td>27.0</td>\n",
       "      <td>0</td>\n",
       "      <td>0</td>\n",
       "      <td>315154</td>\n",
       "      <td>8.6625</td>\n",
       "      <td>NaN</td>\n",
       "      <td>S</td>\n",
       "    </tr>\n",
       "    <tr>\n",
       "      <th>4</th>\n",
       "      <td>896</td>\n",
       "      <td>3</td>\n",
       "      <td>Hirvonen, Mrs. Alexander (Helga E Lindqvist)</td>\n",
       "      <td>female</td>\n",
       "      <td>22.0</td>\n",
       "      <td>1</td>\n",
       "      <td>1</td>\n",
       "      <td>3101298</td>\n",
       "      <td>12.2875</td>\n",
       "      <td>NaN</td>\n",
       "      <td>S</td>\n",
       "    </tr>\n",
       "  </tbody>\n",
       "</table>\n",
       "</div>"
      ],
      "text/plain": [
       "   PassengerId  Pclass                                          Name     Sex   Age  SibSp  Parch   Ticket     Fare Cabin Embarked\n",
       "0          892       3                              Kelly, Mr. James    male  34.5      0      0   330911   7.8292   NaN        Q\n",
       "1          893       3              Wilkes, Mrs. James (Ellen Needs)  female  47.0      1      0   363272   7.0000   NaN        S\n",
       "2          894       2                     Myles, Mr. Thomas Francis    male  62.0      0      0   240276   9.6875   NaN        Q\n",
       "3          895       3                              Wirz, Mr. Albert    male  27.0      0      0   315154   8.6625   NaN        S\n",
       "4          896       3  Hirvonen, Mrs. Alexander (Helga E Lindqvist)  female  22.0      1      1  3101298  12.2875   NaN        S"
      ]
     },
     "execution_count": 3,
     "metadata": {},
     "output_type": "execute_result"
    }
   ],
   "source": [
    "# test data\n",
    "titanic_test_data = pd.read_csv('test.csv', low_memory = False, skipinitialspace = True, float_precision = 2)\n",
    "\n",
    "# data glimpse\n",
    "titanic_test_data.head()"
   ]
  },
  {
   "cell_type": "markdown",
   "metadata": {},
   "source": [
    "## VariableDefinitionKey \n",
    "    -- survival - Survival 0 = No, 1 = Yes \n",
    "    -- pclass - Ticket class 1 = 1st, 2 = 2nd, 3 = 3rd \n",
    "    -- sex - Sex \n",
    "    -- Age - Age in years \n",
    "    -- sibsp - # of siblings / spouses aboard the Titanic parch # of parents / children aboard the Titanic \n",
    "    -- ticket - Ticket number \n",
    "    -- fare - Passenger fare \n",
    "    -- cabin - Cabin number \n",
    "    -- embarked - Port of Embarkation C = Cherbourg, Q = Queenstown, S = Southampton \n",
    "\n",
    "## Variable Notes\n",
    "pclass: A proxy for socio-economic status (SES)\n",
    "1st = Upper\n",
    "2nd = Middle\n",
    "3rd = Lower\n",
    "\n",
    "age: Age is fractional if less than 1. If the age is estimated, is it in the form of xx.5\n",
    "\n",
    "sibsp: The dataset defines family relations in this way...\n",
    "Sibling = brother, sister, stepbrother, stepsister\n",
    "Spouse = husband, wife (mistresses and fiancés were ignored)\n",
    "\n",
    "parch: The dataset defines family relations in this way...\n",
    "\n",
    "Parent = mother, father\n",
    "\n",
    "Child = daughter, son, stepdaughter, stepson\n",
    "Some children travelled only with a nanny, therefore parch=0 for them."
   ]
  },
  {
   "cell_type": "code",
   "execution_count": 4,
   "metadata": {},
   "outputs": [
    {
     "name": "stdout",
     "output_type": "stream",
     "text": [
      "Train Data Shape: (891, 12)\n",
      "Test Data Shape: (418, 11)\n"
     ]
    }
   ],
   "source": [
    "print(\"Train Data Shape:\", titanic_data.shape)\n",
    "print(\"Test Data Shape:\", titanic_test_data.shape)"
   ]
  },
  {
   "cell_type": "code",
   "execution_count": 5,
   "metadata": {},
   "outputs": [
    {
     "name": "stdout",
     "output_type": "stream",
     "text": [
      "Columns in the train set :\n",
      "Index(['PassengerId', 'Survived', 'Pclass', 'Name', 'Sex', 'Age', 'SibSp',\n",
      "       'Parch', 'Ticket', 'Fare', 'Cabin', 'Embarked'],\n",
      "      dtype='object')\n",
      "\n",
      "\n",
      "Columns in the test set :\n",
      "Index(['PassengerId', 'Pclass', 'Name', 'Sex', 'Age', 'SibSp', 'Parch',\n",
      "       'Ticket', 'Fare', 'Cabin', 'Embarked'],\n",
      "      dtype='object')\n"
     ]
    }
   ],
   "source": [
    "# train set columns\n",
    "print(\"Columns in the train set :\")\n",
    "print(titanic_data.columns)\n",
    "\n",
    "print('\\n')\n",
    "\n",
    "# test set columns\n",
    "print(\"Columns in the test set :\")\n",
    "print(titanic_test_data.columns)"
   ]
  },
  {
   "cell_type": "markdown",
   "metadata": {},
   "source": [
    "# Data Exploraton and Preparation"
   ]
  },
  {
   "cell_type": "code",
   "execution_count": 6,
   "metadata": {},
   "outputs": [
    {
     "data": {
      "text/html": [
       "<div>\n",
       "<style scoped>\n",
       "    .dataframe tbody tr th:only-of-type {\n",
       "        vertical-align: middle;\n",
       "    }\n",
       "\n",
       "    .dataframe tbody tr th {\n",
       "        vertical-align: top;\n",
       "    }\n",
       "\n",
       "    .dataframe thead th {\n",
       "        text-align: right;\n",
       "    }\n",
       "</style>\n",
       "<table border=\"1\" class=\"dataframe\">\n",
       "  <thead>\n",
       "    <tr style=\"text-align: right;\">\n",
       "      <th></th>\n",
       "      <th>Survived</th>\n",
       "      <th>Pclass</th>\n",
       "      <th>Name</th>\n",
       "      <th>Sex</th>\n",
       "      <th>Age</th>\n",
       "      <th>SibSp</th>\n",
       "      <th>Parch</th>\n",
       "      <th>Fare</th>\n",
       "      <th>Cabin</th>\n",
       "      <th>Embarked</th>\n",
       "    </tr>\n",
       "  </thead>\n",
       "  <tbody>\n",
       "    <tr>\n",
       "      <th>0</th>\n",
       "      <td>0</td>\n",
       "      <td>3</td>\n",
       "      <td>Braund, Mr. Owen Harris</td>\n",
       "      <td>male</td>\n",
       "      <td>22.0</td>\n",
       "      <td>1</td>\n",
       "      <td>0</td>\n",
       "      <td>7.2500</td>\n",
       "      <td>NaN</td>\n",
       "      <td>S</td>\n",
       "    </tr>\n",
       "    <tr>\n",
       "      <th>1</th>\n",
       "      <td>1</td>\n",
       "      <td>1</td>\n",
       "      <td>Cumings, Mrs. John Bradley (Florence Briggs Th...</td>\n",
       "      <td>female</td>\n",
       "      <td>38.0</td>\n",
       "      <td>1</td>\n",
       "      <td>0</td>\n",
       "      <td>71.2833</td>\n",
       "      <td>C85</td>\n",
       "      <td>C</td>\n",
       "    </tr>\n",
       "    <tr>\n",
       "      <th>2</th>\n",
       "      <td>1</td>\n",
       "      <td>3</td>\n",
       "      <td>Heikkinen, Miss. Laina</td>\n",
       "      <td>female</td>\n",
       "      <td>26.0</td>\n",
       "      <td>0</td>\n",
       "      <td>0</td>\n",
       "      <td>7.9250</td>\n",
       "      <td>NaN</td>\n",
       "      <td>S</td>\n",
       "    </tr>\n",
       "    <tr>\n",
       "      <th>3</th>\n",
       "      <td>1</td>\n",
       "      <td>1</td>\n",
       "      <td>Futrelle, Mrs. Jacques Heath (Lily May Peel)</td>\n",
       "      <td>female</td>\n",
       "      <td>35.0</td>\n",
       "      <td>1</td>\n",
       "      <td>0</td>\n",
       "      <td>53.1000</td>\n",
       "      <td>C123</td>\n",
       "      <td>S</td>\n",
       "    </tr>\n",
       "    <tr>\n",
       "      <th>4</th>\n",
       "      <td>0</td>\n",
       "      <td>3</td>\n",
       "      <td>Allen, Mr. William Henry</td>\n",
       "      <td>male</td>\n",
       "      <td>35.0</td>\n",
       "      <td>0</td>\n",
       "      <td>0</td>\n",
       "      <td>8.0500</td>\n",
       "      <td>NaN</td>\n",
       "      <td>S</td>\n",
       "    </tr>\n",
       "  </tbody>\n",
       "</table>\n",
       "</div>"
      ],
      "text/plain": [
       "   Survived  Pclass                                               Name     Sex   Age  SibSp  Parch     Fare Cabin Embarked\n",
       "0         0       3                            Braund, Mr. Owen Harris    male  22.0      1      0   7.2500   NaN        S\n",
       "1         1       1  Cumings, Mrs. John Bradley (Florence Briggs Th...  female  38.0      1      0  71.2833   C85        C\n",
       "2         1       3                             Heikkinen, Miss. Laina  female  26.0      0      0   7.9250   NaN        S\n",
       "3         1       1       Futrelle, Mrs. Jacques Heath (Lily May Peel)  female  35.0      1      0  53.1000  C123        S\n",
       "4         0       3                           Allen, Mr. William Henry    male  35.0      0      0   8.0500   NaN        S"
      ]
     },
     "execution_count": 6,
     "metadata": {},
     "output_type": "execute_result"
    }
   ],
   "source": [
    "# the columns 'PassengerId' and 'Ticket' willl be of no value in the analysis.\n",
    "# Lets drop those columns from both the train ans test set.\n",
    "\n",
    "# train set\n",
    "titanic_data.drop(columns = ['PassengerId', 'Ticket'], axis = 1, inplace = True)\n",
    "\n",
    "# test set\n",
    "titanic_test_passengerId = titanic_test_data[['PassengerId']]\n",
    "titanic_test_data.drop(columns = ['PassengerId', 'Ticket'], axis = 1, inplace = True)\n",
    "\n",
    "# data glimpse\n",
    "titanic_data.head()"
   ]
  },
  {
   "cell_type": "code",
   "execution_count": 7,
   "metadata": {},
   "outputs": [
    {
     "name": "stdout",
     "output_type": "stream",
     "text": [
      "Total NULL Values in each columns\n",
      "*********************************\n",
      "Survived      0\n",
      "Pclass        0\n",
      "Name          0\n",
      "Sex           0\n",
      "Age         177\n",
      "SibSp         0\n",
      "Parch         0\n",
      "Fare          0\n",
      "Cabin       687\n",
      "Embarked      2\n",
      "dtype: int64\n"
     ]
    }
   ],
   "source": [
    "# Check the total missing values in each column.\n",
    "print(\"Total NULL Values in each columns\")\n",
    "print(\"*********************************\")\n",
    "print(titanic_data.isnull().sum())"
   ]
  },
  {
   "cell_type": "code",
   "execution_count": 8,
   "metadata": {},
   "outputs": [
    {
     "data": {
      "text/plain": [
       "Survived     0.000000\n",
       "Pclass       0.000000\n",
       "Name         0.000000\n",
       "Sex          0.000000\n",
       "Age         19.865320\n",
       "SibSp        0.000000\n",
       "Parch        0.000000\n",
       "Fare         0.000000\n",
       "Cabin       77.104377\n",
       "Embarked     0.224467\n",
       "dtype: float64"
      ]
     },
     "execution_count": 8,
     "metadata": {},
     "output_type": "execute_result"
    }
   ],
   "source": [
    "# Lets check the percentage of missing values column-wise in the train data\n",
    "\n",
    "(titanic_data.isnull().sum()/ len(titanic_data)) * 100"
   ]
  },
  {
   "cell_type": "markdown",
   "metadata": {},
   "source": [
    "#### We see in the train set - \n",
    "1. 'Age' column has 19.86% missing values \n",
    "2. 'Cabin' column has 77.10% missing values \n",
    "3. 'Embarked' column has 0.22% missing values\n",
    "\n",
    "#### Let's check the same for the test set"
   ]
  },
  {
   "cell_type": "code",
   "execution_count": 9,
   "metadata": {},
   "outputs": [
    {
     "data": {
      "text/plain": [
       "Pclass       0.000000\n",
       "Name         0.000000\n",
       "Sex          0.000000\n",
       "Age         20.574163\n",
       "SibSp        0.000000\n",
       "Parch        0.000000\n",
       "Fare         0.239234\n",
       "Cabin       78.229665\n",
       "Embarked     0.000000\n",
       "dtype: float64"
      ]
     },
     "execution_count": 9,
     "metadata": {},
     "output_type": "execute_result"
    }
   ],
   "source": [
    "# Lets check the percentage of missing values column-wise in the test data\n",
    "\n",
    "(titanic_test_data.isnull().sum()/ len(titanic_test_data)) * 100"
   ]
  },
  {
   "cell_type": "markdown",
   "metadata": {},
   "source": [
    "#### We see in the train set - \n",
    "1. 'Age' column has 20.57% missing values \n",
    "2. 'Cabin' column has 78.22% missing values "
   ]
  },
  {
   "cell_type": "markdown",
   "metadata": {},
   "source": [
    "#### Let's seee how we can handle the missing values here"
   ]
  },
  {
   "cell_type": "code",
   "execution_count": 10,
   "metadata": {
    "scrolled": true
   },
   "outputs": [
    {
     "data": {
      "text/plain": [
       "B96 B98            4\n",
       "C23 C25 C27        4\n",
       "G6                 4\n",
       "F2                 3\n",
       "F33                3\n",
       "C22 C26            3\n",
       "D                  3\n",
       "E101               3\n",
       "E33                2\n",
       "C52                2\n",
       "C126               2\n",
       "C125               2\n",
       "B28                2\n",
       "E8                 2\n",
       "F4                 2\n",
       "D35                2\n",
       "D33                2\n",
       "B58 B60            2\n",
       "C68                2\n",
       "D20                2\n",
       "B20                2\n",
       "B22                2\n",
       "B51 B53 B55        2\n",
       "C124               2\n",
       "E121               2\n",
       "B18                2\n",
       "B57 B59 B63 B66    2\n",
       "C83                2\n",
       "F G73              2\n",
       "C123               2\n",
       "E67                2\n",
       "D26                2\n",
       "C93                2\n",
       "B49                2\n",
       "E25                2\n",
       "B35                2\n",
       "D36                2\n",
       "C78                2\n",
       "C2                 2\n",
       "C65                2\n",
       "E24                2\n",
       "E44                2\n",
       "B77                2\n",
       "D17                2\n",
       "B5                 2\n",
       "C92                2\n",
       "B38                1\n",
       "C82                1\n",
       "E58                1\n",
       "C118               1\n",
       "C54                1\n",
       "A6                 1\n",
       "C95                1\n",
       "B82 B84            1\n",
       "A31                1\n",
       "B69                1\n",
       "C50                1\n",
       "A16                1\n",
       "E12                1\n",
       "C128               1\n",
       "B71                1\n",
       "C110               1\n",
       "C85                1\n",
       "E34                1\n",
       "A24                1\n",
       "B101               1\n",
       "A26                1\n",
       "E50                1\n",
       "C111               1\n",
       "D47                1\n",
       "C30                1\n",
       "B102               1\n",
       "B73                1\n",
       "C103               1\n",
       "E40                1\n",
       "B94                1\n",
       "A5                 1\n",
       "D7                 1\n",
       "B79                1\n",
       "B41                1\n",
       "D28                1\n",
       "A23                1\n",
       "D37                1\n",
       "C46                1\n",
       "F G63              1\n",
       "D48                1\n",
       "E63                1\n",
       "E31                1\n",
       "D50                1\n",
       "C90                1\n",
       "C148               1\n",
       "E36                1\n",
       "A7                 1\n",
       "D9                 1\n",
       "E46                1\n",
       "A14                1\n",
       "B42                1\n",
       "C86                1\n",
       "C91                1\n",
       "B37                1\n",
       "A32                1\n",
       "A34                1\n",
       "D11                1\n",
       "F38                1\n",
       "D46                1\n",
       "C87                1\n",
       "C7                 1\n",
       "A10                1\n",
       "D49                1\n",
       "F E69              1\n",
       "C70                1\n",
       "E77                1\n",
       "B80                1\n",
       "B4                 1\n",
       "C104               1\n",
       "C101               1\n",
       "B19                1\n",
       "E17                1\n",
       "D6                 1\n",
       "C49                1\n",
       "D10 D12            1\n",
       "C45                1\n",
       "C62 C64            1\n",
       "E49                1\n",
       "B86                1\n",
       "E10                1\n",
       "D19                1\n",
       "A36                1\n",
       "A20                1\n",
       "D21                1\n",
       "C99                1\n",
       "B50                1\n",
       "D30                1\n",
       "T                  1\n",
       "C106               1\n",
       "B3                 1\n",
       "D15                1\n",
       "C32                1\n",
       "B30                1\n",
       "A19                1\n",
       "E68                1\n",
       "B78                1\n",
       "D56                1\n",
       "B39                1\n",
       "E38                1\n",
       "D45                1\n",
       "C47                1\n",
       "Name: Cabin, dtype: int64"
      ]
     },
     "execution_count": 10,
     "metadata": {},
     "output_type": "execute_result"
    }
   ],
   "source": [
    "# With more than 75% of values missing, we can drop the column - 'Cabin' but before doing that let us have a look \n",
    "# at it if we can get something out of almost nothing - \n",
    "\n",
    "titanic_data.Cabin.value_counts()"
   ]
  },
  {
   "cell_type": "code",
   "execution_count": 11,
   "metadata": {
    "scrolled": true
   },
   "outputs": [
    {
     "data": {
      "text/plain": [
       "B57 B59 B63 B66    3\n",
       "C31                2\n",
       "C116               2\n",
       "B45                2\n",
       "A34                2\n",
       "C78                2\n",
       "C6                 2\n",
       "C23 C25 C27        2\n",
       "C89                2\n",
       "F4                 2\n",
       "C101               2\n",
       "C55 C57            2\n",
       "E34                2\n",
       "C80                2\n",
       "B24                1\n",
       "D10 D12            1\n",
       "C28                1\n",
       "D43                1\n",
       "B10                1\n",
       "D                  1\n",
       "F2                 1\n",
       "A29                1\n",
       "C54                1\n",
       "C39                1\n",
       "G6                 1\n",
       "C53                1\n",
       "D19                1\n",
       "C130               1\n",
       "B58 B60            1\n",
       "D22                1\n",
       "D37                1\n",
       "B52 B54 B56        1\n",
       "D30                1\n",
       "F                  1\n",
       "B51 B53 B55        1\n",
       "E50                1\n",
       "F E57              1\n",
       "C97                1\n",
       "B61                1\n",
       "C85                1\n",
       "B69                1\n",
       "C106               1\n",
       "A21                1\n",
       "D40                1\n",
       "A9                 1\n",
       "A18                1\n",
       "E52                1\n",
       "D34                1\n",
       "C132               1\n",
       "E45                1\n",
       "B41                1\n",
       "C62 C64            1\n",
       "E31                1\n",
       "E60                1\n",
       "C105               1\n",
       "A11                1\n",
       "D15                1\n",
       "D21                1\n",
       "F33                1\n",
       "D28                1\n",
       "D38                1\n",
       "C32                1\n",
       "C51                1\n",
       "C86                1\n",
       "C22 C26            1\n",
       "E46                1\n",
       "E39 E41            1\n",
       "B78                1\n",
       "B11                1\n",
       "B26                1\n",
       "C7                 1\n",
       "B71                1\n",
       "F G63              1\n",
       "C46                1\n",
       "B36                1\n",
       "F E46              1\n",
       "Name: Cabin, dtype: int64"
      ]
     },
     "execution_count": 11,
     "metadata": {},
     "output_type": "execute_result"
    }
   ],
   "source": [
    "titanic_test_data.Cabin.value_counts()"
   ]
  },
  {
   "cell_type": "code",
   "execution_count": 12,
   "metadata": {},
   "outputs": [
    {
     "data": {
      "text/html": [
       "<div>\n",
       "<style scoped>\n",
       "    .dataframe tbody tr th:only-of-type {\n",
       "        vertical-align: middle;\n",
       "    }\n",
       "\n",
       "    .dataframe tbody tr th {\n",
       "        vertical-align: top;\n",
       "    }\n",
       "\n",
       "    .dataframe thead th {\n",
       "        text-align: right;\n",
       "    }\n",
       "</style>\n",
       "<table border=\"1\" class=\"dataframe\">\n",
       "  <thead>\n",
       "    <tr style=\"text-align: right;\">\n",
       "      <th></th>\n",
       "      <th>Survived</th>\n",
       "      <th>Pclass</th>\n",
       "      <th>Name</th>\n",
       "      <th>Sex</th>\n",
       "      <th>Age</th>\n",
       "      <th>SibSp</th>\n",
       "      <th>Parch</th>\n",
       "      <th>Fare</th>\n",
       "      <th>Cabin</th>\n",
       "      <th>Embarked</th>\n",
       "      <th>deck</th>\n",
       "    </tr>\n",
       "  </thead>\n",
       "  <tbody>\n",
       "    <tr>\n",
       "      <th>0</th>\n",
       "      <td>0</td>\n",
       "      <td>3</td>\n",
       "      <td>Braund, Mr. Owen Harris</td>\n",
       "      <td>male</td>\n",
       "      <td>22.0</td>\n",
       "      <td>1</td>\n",
       "      <td>0</td>\n",
       "      <td>7.2500</td>\n",
       "      <td>NaN</td>\n",
       "      <td>S</td>\n",
       "      <td>NaN</td>\n",
       "    </tr>\n",
       "    <tr>\n",
       "      <th>1</th>\n",
       "      <td>1</td>\n",
       "      <td>1</td>\n",
       "      <td>Cumings, Mrs. John Bradley (Florence Briggs Th...</td>\n",
       "      <td>female</td>\n",
       "      <td>38.0</td>\n",
       "      <td>1</td>\n",
       "      <td>0</td>\n",
       "      <td>71.2833</td>\n",
       "      <td>C85</td>\n",
       "      <td>C</td>\n",
       "      <td>C</td>\n",
       "    </tr>\n",
       "    <tr>\n",
       "      <th>2</th>\n",
       "      <td>1</td>\n",
       "      <td>3</td>\n",
       "      <td>Heikkinen, Miss. Laina</td>\n",
       "      <td>female</td>\n",
       "      <td>26.0</td>\n",
       "      <td>0</td>\n",
       "      <td>0</td>\n",
       "      <td>7.9250</td>\n",
       "      <td>NaN</td>\n",
       "      <td>S</td>\n",
       "      <td>NaN</td>\n",
       "    </tr>\n",
       "    <tr>\n",
       "      <th>3</th>\n",
       "      <td>1</td>\n",
       "      <td>1</td>\n",
       "      <td>Futrelle, Mrs. Jacques Heath (Lily May Peel)</td>\n",
       "      <td>female</td>\n",
       "      <td>35.0</td>\n",
       "      <td>1</td>\n",
       "      <td>0</td>\n",
       "      <td>53.1000</td>\n",
       "      <td>C123</td>\n",
       "      <td>S</td>\n",
       "      <td>C</td>\n",
       "    </tr>\n",
       "    <tr>\n",
       "      <th>4</th>\n",
       "      <td>0</td>\n",
       "      <td>3</td>\n",
       "      <td>Allen, Mr. William Henry</td>\n",
       "      <td>male</td>\n",
       "      <td>35.0</td>\n",
       "      <td>0</td>\n",
       "      <td>0</td>\n",
       "      <td>8.0500</td>\n",
       "      <td>NaN</td>\n",
       "      <td>S</td>\n",
       "      <td>NaN</td>\n",
       "    </tr>\n",
       "  </tbody>\n",
       "</table>\n",
       "</div>"
      ],
      "text/plain": [
       "   Survived  Pclass                                               Name     Sex   Age  SibSp  Parch     Fare Cabin Embarked deck\n",
       "0         0       3                            Braund, Mr. Owen Harris    male  22.0      1      0   7.2500   NaN        S  NaN\n",
       "1         1       1  Cumings, Mrs. John Bradley (Florence Briggs Th...  female  38.0      1      0  71.2833   C85        C    C\n",
       "2         1       3                             Heikkinen, Miss. Laina  female  26.0      0      0   7.9250   NaN        S  NaN\n",
       "3         1       1       Futrelle, Mrs. Jacques Heath (Lily May Peel)  female  35.0      1      0  53.1000  C123        S    C\n",
       "4         0       3                           Allen, Mr. William Henry    male  35.0      0      0   8.0500   NaN        S  NaN"
      ]
     },
     "execution_count": 12,
     "metadata": {},
     "output_type": "execute_result"
    }
   ],
   "source": [
    "# Observations from the above cell - \n",
    "# 1. We see above that there are about 147 unique values and some rows have multiple cabins allocated.\n",
    "\n",
    "# 2. Each cabin has 2 parts. Digging into the cabin numbers in the titanic, wikipedia shows the first letter\n",
    "#    in the cabin is the Deck and the number is the room number.\n",
    "\n",
    "# We will extract the deck information from the cabin\n",
    "\n",
    "titanic_data[\"deck\"] = titanic_data[\"Cabin\"].str.slice(0,1)\n",
    "\n",
    "titanic_test_data[\"deck\"] = titanic_test_data[\"Cabin\"].str.slice(0,1)\n",
    "\n",
    "# data glimpse\n",
    "titanic_data.head()"
   ]
  },
  {
   "cell_type": "code",
   "execution_count": 13,
   "metadata": {},
   "outputs": [
    {
     "name": "stdout",
     "output_type": "stream",
     "text": [
      "Deck Value Counts for train set - \n",
      "C    59\n",
      "B    47\n",
      "D    33\n",
      "E    32\n",
      "A    15\n",
      "F    13\n",
      "G     4\n",
      "T     1\n",
      "Name: deck, dtype: int64\n",
      "\n",
      "\n",
      "Deck Value Counts for test set - \n",
      "C    35\n",
      "B    18\n",
      "D    13\n",
      "E     9\n",
      "F     8\n",
      "A     7\n",
      "G     1\n",
      "Name: deck, dtype: int64\n"
     ]
    }
   ],
   "source": [
    "# Lets now check the value counts for the newly created column - 'deck'\n",
    "\n",
    "print('Deck Value Counts for train set - ')\n",
    "print(titanic_data.deck.value_counts())\n",
    "\n",
    "print('\\n')\n",
    "\n",
    "print('Deck Value Counts for test set - ')\n",
    "print(titanic_test_data.deck.value_counts())"
   ]
  },
  {
   "cell_type": "code",
   "execution_count": 14,
   "metadata": {},
   "outputs": [
    {
     "data": {
      "text/html": [
       "<div>\n",
       "<style scoped>\n",
       "    .dataframe tbody tr th:only-of-type {\n",
       "        vertical-align: middle;\n",
       "    }\n",
       "\n",
       "    .dataframe tbody tr th {\n",
       "        vertical-align: top;\n",
       "    }\n",
       "\n",
       "    .dataframe thead th {\n",
       "        text-align: right;\n",
       "    }\n",
       "</style>\n",
       "<table border=\"1\" class=\"dataframe\">\n",
       "  <thead>\n",
       "    <tr style=\"text-align: right;\">\n",
       "      <th></th>\n",
       "      <th>Survived</th>\n",
       "      <th>Pclass</th>\n",
       "      <th>Name</th>\n",
       "      <th>Sex</th>\n",
       "      <th>Age</th>\n",
       "      <th>SibSp</th>\n",
       "      <th>Parch</th>\n",
       "      <th>Fare</th>\n",
       "      <th>Cabin</th>\n",
       "      <th>Embarked</th>\n",
       "      <th>deck</th>\n",
       "    </tr>\n",
       "  </thead>\n",
       "  <tbody>\n",
       "    <tr>\n",
       "      <th>0</th>\n",
       "      <td>0</td>\n",
       "      <td>3</td>\n",
       "      <td>Braund, Mr. Owen Harris</td>\n",
       "      <td>male</td>\n",
       "      <td>22.0</td>\n",
       "      <td>1</td>\n",
       "      <td>0</td>\n",
       "      <td>7.2500</td>\n",
       "      <td>NaN</td>\n",
       "      <td>S</td>\n",
       "      <td>Z</td>\n",
       "    </tr>\n",
       "    <tr>\n",
       "      <th>1</th>\n",
       "      <td>1</td>\n",
       "      <td>1</td>\n",
       "      <td>Cumings, Mrs. John Bradley (Florence Briggs Th...</td>\n",
       "      <td>female</td>\n",
       "      <td>38.0</td>\n",
       "      <td>1</td>\n",
       "      <td>0</td>\n",
       "      <td>71.2833</td>\n",
       "      <td>C85</td>\n",
       "      <td>C</td>\n",
       "      <td>C</td>\n",
       "    </tr>\n",
       "    <tr>\n",
       "      <th>2</th>\n",
       "      <td>1</td>\n",
       "      <td>3</td>\n",
       "      <td>Heikkinen, Miss. Laina</td>\n",
       "      <td>female</td>\n",
       "      <td>26.0</td>\n",
       "      <td>0</td>\n",
       "      <td>0</td>\n",
       "      <td>7.9250</td>\n",
       "      <td>NaN</td>\n",
       "      <td>S</td>\n",
       "      <td>Z</td>\n",
       "    </tr>\n",
       "    <tr>\n",
       "      <th>3</th>\n",
       "      <td>1</td>\n",
       "      <td>1</td>\n",
       "      <td>Futrelle, Mrs. Jacques Heath (Lily May Peel)</td>\n",
       "      <td>female</td>\n",
       "      <td>35.0</td>\n",
       "      <td>1</td>\n",
       "      <td>0</td>\n",
       "      <td>53.1000</td>\n",
       "      <td>C123</td>\n",
       "      <td>S</td>\n",
       "      <td>C</td>\n",
       "    </tr>\n",
       "    <tr>\n",
       "      <th>4</th>\n",
       "      <td>0</td>\n",
       "      <td>3</td>\n",
       "      <td>Allen, Mr. William Henry</td>\n",
       "      <td>male</td>\n",
       "      <td>35.0</td>\n",
       "      <td>0</td>\n",
       "      <td>0</td>\n",
       "      <td>8.0500</td>\n",
       "      <td>NaN</td>\n",
       "      <td>S</td>\n",
       "      <td>Z</td>\n",
       "    </tr>\n",
       "  </tbody>\n",
       "</table>\n",
       "</div>"
      ],
      "text/plain": [
       "   Survived  Pclass                                               Name     Sex   Age  SibSp  Parch     Fare Cabin Embarked deck\n",
       "0         0       3                            Braund, Mr. Owen Harris    male  22.0      1      0   7.2500   NaN        S    Z\n",
       "1         1       1  Cumings, Mrs. John Bradley (Florence Briggs Th...  female  38.0      1      0  71.2833   C85        C    C\n",
       "2         1       3                             Heikkinen, Miss. Laina  female  26.0      0      0   7.9250   NaN        S    Z\n",
       "3         1       1       Futrelle, Mrs. Jacques Heath (Lily May Peel)  female  35.0      1      0  53.1000  C123        S    C\n",
       "4         0       3                           Allen, Mr. William Henry    male  35.0      0      0   8.0500   NaN        S    Z"
      ]
     },
     "execution_count": 14,
     "metadata": {},
     "output_type": "execute_result"
    }
   ],
   "source": [
    "# Lets assign a default deck - say 'Z' for both the train and the test sets -\n",
    "\n",
    "# train set\n",
    "titanic_data[\"deck\"] = titanic_data[\"deck\"].fillna(\"Z\")\n",
    "\n",
    "# also replace the single T-deck with G\n",
    "titanic_data['deck'].replace(['T'], ['G'], inplace=True)\n",
    "\n",
    "# test set\n",
    "titanic_test_data[\"deck\"] = titanic_test_data[\"deck\"].fillna(\"Z\")\n",
    "\n",
    "# data glimpse\n",
    "titanic_data.head()"
   ]
  },
  {
   "cell_type": "code",
   "execution_count": 15,
   "metadata": {},
   "outputs": [
    {
     "data": {
      "text/html": [
       "<div>\n",
       "<style scoped>\n",
       "    .dataframe tbody tr th:only-of-type {\n",
       "        vertical-align: middle;\n",
       "    }\n",
       "\n",
       "    .dataframe tbody tr th {\n",
       "        vertical-align: top;\n",
       "    }\n",
       "\n",
       "    .dataframe thead th {\n",
       "        text-align: right;\n",
       "    }\n",
       "</style>\n",
       "<table border=\"1\" class=\"dataframe\">\n",
       "  <thead>\n",
       "    <tr style=\"text-align: right;\">\n",
       "      <th></th>\n",
       "      <th>Survived</th>\n",
       "      <th>Pclass</th>\n",
       "      <th>Name</th>\n",
       "      <th>Sex</th>\n",
       "      <th>Age</th>\n",
       "      <th>SibSp</th>\n",
       "      <th>Parch</th>\n",
       "      <th>Fare</th>\n",
       "      <th>Embarked</th>\n",
       "      <th>deck</th>\n",
       "    </tr>\n",
       "  </thead>\n",
       "  <tbody>\n",
       "    <tr>\n",
       "      <th>0</th>\n",
       "      <td>0</td>\n",
       "      <td>3</td>\n",
       "      <td>Braund, Mr. Owen Harris</td>\n",
       "      <td>male</td>\n",
       "      <td>22.0</td>\n",
       "      <td>1</td>\n",
       "      <td>0</td>\n",
       "      <td>7.2500</td>\n",
       "      <td>S</td>\n",
       "      <td>Z</td>\n",
       "    </tr>\n",
       "    <tr>\n",
       "      <th>1</th>\n",
       "      <td>1</td>\n",
       "      <td>1</td>\n",
       "      <td>Cumings, Mrs. John Bradley (Florence Briggs Th...</td>\n",
       "      <td>female</td>\n",
       "      <td>38.0</td>\n",
       "      <td>1</td>\n",
       "      <td>0</td>\n",
       "      <td>71.2833</td>\n",
       "      <td>C</td>\n",
       "      <td>C</td>\n",
       "    </tr>\n",
       "    <tr>\n",
       "      <th>2</th>\n",
       "      <td>1</td>\n",
       "      <td>3</td>\n",
       "      <td>Heikkinen, Miss. Laina</td>\n",
       "      <td>female</td>\n",
       "      <td>26.0</td>\n",
       "      <td>0</td>\n",
       "      <td>0</td>\n",
       "      <td>7.9250</td>\n",
       "      <td>S</td>\n",
       "      <td>Z</td>\n",
       "    </tr>\n",
       "    <tr>\n",
       "      <th>3</th>\n",
       "      <td>1</td>\n",
       "      <td>1</td>\n",
       "      <td>Futrelle, Mrs. Jacques Heath (Lily May Peel)</td>\n",
       "      <td>female</td>\n",
       "      <td>35.0</td>\n",
       "      <td>1</td>\n",
       "      <td>0</td>\n",
       "      <td>53.1000</td>\n",
       "      <td>S</td>\n",
       "      <td>C</td>\n",
       "    </tr>\n",
       "    <tr>\n",
       "      <th>4</th>\n",
       "      <td>0</td>\n",
       "      <td>3</td>\n",
       "      <td>Allen, Mr. William Henry</td>\n",
       "      <td>male</td>\n",
       "      <td>35.0</td>\n",
       "      <td>0</td>\n",
       "      <td>0</td>\n",
       "      <td>8.0500</td>\n",
       "      <td>S</td>\n",
       "      <td>Z</td>\n",
       "    </tr>\n",
       "  </tbody>\n",
       "</table>\n",
       "</div>"
      ],
      "text/plain": [
       "   Survived  Pclass                                               Name     Sex   Age  SibSp  Parch     Fare Embarked deck\n",
       "0         0       3                            Braund, Mr. Owen Harris    male  22.0      1      0   7.2500        S    Z\n",
       "1         1       1  Cumings, Mrs. John Bradley (Florence Briggs Th...  female  38.0      1      0  71.2833        C    C\n",
       "2         1       3                             Heikkinen, Miss. Laina  female  26.0      0      0   7.9250        S    Z\n",
       "3         1       1       Futrelle, Mrs. Jacques Heath (Lily May Peel)  female  35.0      1      0  53.1000        S    C\n",
       "4         0       3                           Allen, Mr. William Henry    male  35.0      0      0   8.0500        S    Z"
      ]
     },
     "execution_count": 15,
     "metadata": {},
     "output_type": "execute_result"
    }
   ],
   "source": [
    "# Now we have the deck information, We can drop the cabin column\n",
    "\n",
    "# train set\n",
    "titanic_data.drop(columns = ['Cabin'], axis = 1, inplace = True)\n",
    "\n",
    "# test set\n",
    "titanic_test_data.drop(columns = ['Cabin'], axis = 1, inplace = True)\n",
    "\n",
    "# data glimpse\n",
    "titanic_data.head()"
   ]
  },
  {
   "cell_type": "code",
   "execution_count": 16,
   "metadata": {
    "scrolled": false
   },
   "outputs": [
    {
     "name": "stdout",
     "output_type": "stream",
     "text": [
      "Train Set\n",
      "Age of the oldest Passenger was: 80.0 Years\n",
      "Age of the youngest Passenger was: 0.42 Years\n",
      "Average Age on the ship: 29.69911764705882 Years\n",
      "\n",
      "        count       mean        std   min   25%   50%   75%   max\n",
      "Sex                                                              \n",
      "female  261.0  27.915709  14.110146  0.75  18.0  27.0  37.0  63.0\n",
      "male    453.0  30.726645  14.678201  0.42  21.0  29.0  39.0  80.0\n",
      "\n",
      "-----------------------------------------------------------------------------\n",
      "\n",
      "Test Set\n",
      "Age of the oldest Passenger was: 76.0 Years\n",
      "Age of the youngest Passenger was: 0.17 Years\n",
      "Average Age on the ship: 30.272590361445783 Years\n",
      "\n",
      "        count       mean        std   min   25%   50%   75%   max\n",
      "Sex                                                              \n",
      "female  127.0  30.272362  15.428613  0.17  20.5  27.0  38.5  76.0\n",
      "male    205.0  30.272732  13.389528  0.33  22.0  27.0  40.0  67.0\n"
     ]
    }
   ],
   "source": [
    "# Let's have a look at the age values wrt -\n",
    "# 1. gender\n",
    "# 2. salutation (in the name column every person has a salutaion prefix. This can be a factor in\n",
    "# imputing the missing age values)\n",
    "\n",
    "# lets check the gender wise age distribution in the train set\n",
    "\n",
    "print('Train Set')\n",
    "print('Age of the oldest Passenger was:', titanic_data['Age'].max(),'Years')\n",
    "print('Age of the youngest Passenger was:', titanic_data['Age'].min(),'Years')\n",
    "print('Average Age on the ship:', titanic_data['Age'].mean(),'Years\\n')\n",
    "\n",
    "print(titanic_data.groupby(by = ['Sex']).Age.describe())\n",
    "\n",
    "print('\\n-----------------------------------------------------------------------------\\n')\n",
    "print('Test Set')\n",
    "# lets check the gender wise age distribution in the test set\n",
    "\n",
    "print('Age of the oldest Passenger was:', titanic_test_data['Age'].max(),'Years')\n",
    "print('Age of the youngest Passenger was:', titanic_test_data['Age'].min(),'Years')\n",
    "print('Average Age on the ship:', titanic_test_data['Age'].mean(),'Years\\n')\n",
    "\n",
    "print(titanic_test_data.groupby(by = ['Sex']).Age.describe())\n"
   ]
  },
  {
   "cell_type": "code",
   "execution_count": 17,
   "metadata": {},
   "outputs": [
    {
     "data": {
      "text/plain": [
       "Mr              517\n",
       "Miss            182\n",
       "Mrs             125\n",
       "Master           40\n",
       "Dr                7\n",
       "Rev               6\n",
       "Col               2\n",
       "Major             2\n",
       "Mlle              2\n",
       "Sir               1\n",
       "the Countess      1\n",
       "Capt              1\n",
       "Jonkheer          1\n",
       "Lady              1\n",
       "Don               1\n",
       "Ms                1\n",
       "Mme               1\n",
       "Name: salutation, dtype: int64"
      ]
     },
     "execution_count": 17,
     "metadata": {},
     "output_type": "execute_result"
    }
   ],
   "source": [
    "# 2. salutation (in the name column every person has a salutaion prefix. This can be a factor in\n",
    "# imputing the missing age values)\n",
    "\n",
    "# We will extract the salution from every person's name in the Name column.\n",
    "\n",
    "salutation = titanic_data.Name.str.split(', ').str[1].str.split('.').str[0]\n",
    "titanic_data['salutation'] = salutation\n",
    "titanic_data.salutation.value_counts()"
   ]
  },
  {
   "cell_type": "code",
   "execution_count": 18,
   "metadata": {},
   "outputs": [
    {
     "data": {
      "text/plain": [
       "Mr        240\n",
       "Miss       78\n",
       "Mrs        72\n",
       "Master     21\n",
       "Rev         2\n",
       "Col         2\n",
       "Ms          1\n",
       "Dona        1\n",
       "Dr          1\n",
       "Name: salutation, dtype: int64"
      ]
     },
     "execution_count": 18,
     "metadata": {},
     "output_type": "execute_result"
    }
   ],
   "source": [
    "# applying the above in the test set to extract the salutation there -\n",
    "\n",
    "salutation = titanic_test_data.Name.str.split(', ').str[1].str.split('.').str[0]\n",
    "titanic_test_data['salutation'] = salutation\n",
    "titanic_test_data.salutation.value_counts()"
   ]
  },
  {
   "cell_type": "markdown",
   "metadata": {},
   "source": [
    "### Salutations Data Dictionary\n",
    "\n",
    "    -- Mlle         - unmarried woman - Mademoiselle\n",
    "    -- Mme          - older married woman - Madame\n",
    "    -- countess     - the wife or widow of a count or earl\n",
    "    -- Jonkheer     - jonkvrouw is literally translated as \"young lord\" or \"young lady\"\n",
    "    -- Rev          - The Most Reverend is a style applied to certain religious figures, primarily within the \n",
    "                      historic   denominations of Christianity, but occasionally in some more modern traditions also.\n",
    "\n",
    "**The above data is taken from respective wikipedia or from results returned by google.**\n",
    "\n",
    "Going by the above meanings of the salutations, we can combine some of the salutations to one.\n",
    "\n",
    "    -- Mlle, Jonkheer, Ms and Miss can be replaced with 'Miss'\n",
    "    -- Mme, countess, Lady and Mrs can be replaced with 'Mrs'\n",
    "    -- Sir can be replaced with 'Mr'\n",
    "    -- Rest of the salutations will be treated as is\n",
    "    -- Major, Col, Capt can be replaced with a common term - 'army_rank'"
   ]
  },
  {
   "cell_type": "code",
   "execution_count": 19,
   "metadata": {},
   "outputs": [],
   "source": [
    "# Salutations inputations in train data\n",
    "\n",
    "titanic_data['salutation'].replace(['Mme','Lady','the Countess','Jonkheer'], ['Mrs','Mrs', 'Mrs','Mrs'], inplace=True)\n",
    "\n",
    "titanic_data['salutation'].replace(['Mlle', 'Jonkheer', 'Ms' ], ['Miss','Miss', 'Miss'], inplace=True)\n",
    "\n",
    "titanic_data['salutation'].replace(['Sir'], ['Mr'], inplace=True)\n",
    "\n",
    "titanic_data['salutation'].replace(['Major', 'Col', 'Capt'], ['army_rank', 'army_rank', 'army_rank'], inplace=True)"
   ]
  },
  {
   "cell_type": "code",
   "execution_count": 20,
   "metadata": {},
   "outputs": [
    {
     "name": "stdout",
     "output_type": "stream",
     "text": [
      "            count       mean        std    min    25%   50%    75%   max\n",
      "salutation                                                              \n",
      "Don           1.0  40.000000        NaN  40.00  40.00  40.0  40.00  40.0\n",
      "Dr            6.0  42.000000  12.016655  23.00  35.00  46.5  49.75  54.0\n",
      "Master       36.0   4.574167   3.619872   0.42   1.00   3.5   8.00  12.0\n",
      "Miss        149.0  21.845638  12.870542   0.75  14.50  21.0  30.00  63.0\n",
      "Mr          399.0  32.409774  12.720098  11.00  23.00  30.0  39.00  80.0\n",
      "Mrs         112.0  35.892857  11.345799  14.00  27.75  35.0  44.00  63.0\n",
      "Rev           6.0  43.166667  13.136463  27.00  31.50  46.5  53.25  57.0\n",
      "army_rank     5.0  56.600000   9.316652  45.00  52.00  56.0  60.00  70.0\n"
     ]
    }
   ],
   "source": [
    "# age distribution with respect to the name salutations\n",
    "\n",
    "print(titanic_data.groupby(by = ['salutation']).Age.describe())"
   ]
  },
  {
   "cell_type": "code",
   "execution_count": 21,
   "metadata": {},
   "outputs": [],
   "source": [
    "# Salutations inputations in test data\n",
    "\n",
    "titanic_test_data['salutation'].replace(['Mme','Lady','the Countess','Jonkheer'], ['Mrs','Mrs', 'Mrs','Mrs'], inplace=True)\n",
    "\n",
    "titanic_test_data['salutation'].replace(['Mlle', 'Jonkheer', 'Ms' ], ['Miss','Miss', 'Miss'], inplace=True)\n",
    "\n",
    "titanic_test_data['salutation'].replace(['Sir'], ['Mr'], inplace=True)\n",
    "\n",
    "titanic_test_data['salutation'].replace(['Major', 'Col', 'Capt'], ['army_rank', 'army_rank', 'army_rank'], inplace=True)\n",
    "\n",
    "titanic_test_data['salutation'].replace(['Dona'], ['Don'], inplace=True)"
   ]
  },
  {
   "cell_type": "code",
   "execution_count": 22,
   "metadata": {},
   "outputs": [
    {
     "name": "stdout",
     "output_type": "stream",
     "text": [
      "            count       mean        std    min    25%   50%    75%   max\n",
      "salutation                                                              \n",
      "Don           1.0  39.000000        NaN  39.00  39.00  39.0  39.00  39.0\n",
      "Dr            1.0  53.000000        NaN  53.00  53.00  53.0  53.00  53.0\n",
      "Master       17.0   7.406471   4.672470   0.33   5.00   7.0  11.50  14.5\n",
      "Miss         64.0  21.774844  10.457716   0.17  17.75  22.0  29.25  45.0\n",
      "Mr          183.0  32.000000  11.804497  14.00  23.00  28.5  40.00  67.0\n",
      "Mrs          62.0  38.903226  15.034070  16.00  26.00  36.5  49.50  76.0\n",
      "Rev           2.0  35.500000   7.778175  30.00  32.75  35.5  38.25  41.0\n",
      "army_rank     2.0  50.000000   4.242641  47.00  48.50  50.0  51.50  53.0\n"
     ]
    }
   ],
   "source": [
    "# age distribution with respect to the name salutations\n",
    "\n",
    "print(titanic_test_data.groupby(by = ['salutation']).Age.describe())"
   ]
  },
  {
   "cell_type": "markdown",
   "metadata": {},
   "source": [
    "We have the age distributions for each salutation category. We will use this information to impute each of the missing age values with an appropriate value is the respective salutation category.\n",
    "\n",
    "Lets check the number fo missing values in each of these categories - "
   ]
  },
  {
   "cell_type": "code",
   "execution_count": 23,
   "metadata": {},
   "outputs": [
    {
     "name": "stdout",
     "output_type": "stream",
     "text": [
      "Number of presons with salutation type Mr having missing age value -  119\n",
      "Number of presons with salutation type Capt having missing age value -  0\n",
      "Number of presons with salutation type Col having missing age value -  0\n",
      "Number of presons with salutation type Don having missing age value -  0\n",
      "Number of presons with salutation type Dr having missing age value -  1\n",
      "Number of presons with salutation type Major having missing age value -  0\n",
      "Number of presons with salutation type Master having missing age value -  4\n",
      "Number of presons with salutation type Miss having missing age value -  36\n",
      "Number of presons with salutation type Mrs having missing age value -  17\n",
      "Number of presons with salutation type Rev having missing age value -  0\n"
     ]
    }
   ],
   "source": [
    "# Missing age value for each category - \n",
    "\n",
    "print('Number of presons with salutation type Mr having missing age value - ', \n",
    "      titanic_data.loc[(titanic_data['Age'].isnull()) & (titanic_data['salutation'] == 'Mr')].shape[0])\n",
    "\n",
    "print('Number of presons with salutation type Capt having missing age value - ', \n",
    "      titanic_data.loc[(titanic_data['Age'].isnull()) & (titanic_data['salutation'] == 'Capt')].shape[0])\n",
    "\n",
    "print('Number of presons with salutation type Col having missing age value - ', \n",
    "      titanic_data.loc[(titanic_data['Age'].isnull()) & (titanic_data['salutation'] == 'Col')].shape[0])\n",
    "\n",
    "print('Number of presons with salutation type Don having missing age value - ', \n",
    "      titanic_data.loc[(titanic_data['Age'].isnull()) & (titanic_data['salutation'] == 'Don')].shape[0])\n",
    "\n",
    "print('Number of presons with salutation type Dr having missing age value - ', \n",
    "      titanic_data.loc[(titanic_data['Age'].isnull()) & (titanic_data['salutation'] == 'Dr')].shape[0])\n",
    "\n",
    "print('Number of presons with salutation type Major having missing age value - ', \n",
    "      titanic_data.loc[(titanic_data['Age'].isnull()) & (titanic_data['salutation'] == 'Major')].shape[0])\n",
    "\n",
    "print('Number of presons with salutation type Master having missing age value - ', \n",
    "      titanic_data.loc[(titanic_data['Age'].isnull()) & (titanic_data['salutation'] == 'Master')].shape[0])\n",
    "\n",
    "print('Number of presons with salutation type Miss having missing age value - ', \n",
    "      titanic_data.loc[(titanic_data['Age'].isnull()) & (titanic_data['salutation'] == 'Miss')].shape[0])\n",
    "\n",
    "print('Number of presons with salutation type Mrs having missing age value - ', \n",
    "      titanic_data.loc[(titanic_data['Age'].isnull()) & (titanic_data['salutation'] == 'Mrs')].shape[0])\n",
    "\n",
    "print('Number of presons with salutation type Rev having missing age value - ', \n",
    "      titanic_data.loc[(titanic_data['Age'].isnull()) & (titanic_data['salutation'] == 'Rev')].shape[0])"
   ]
  },
  {
   "cell_type": "markdown",
   "metadata": {},
   "source": [
    "We see that only some category have missing age values. We will impute them with the following measures\n",
    "\n",
    "    -- Salution type 'Mr' - Age can be imputed with the Median (as Mean > Median)\n",
    "    -- Salution type 'Dr' - Age can be imputed with the Mean value\n",
    "    -- Salution type 'Master' - Age can be imputed with the Median (as Mean > Median)\n",
    "    -- Salution type 'Miss' - Age can be imputed with the Median (as Mean > Median)\n",
    "    -- Salution type 'Mrs' - Age can be imputed with the Median (as Mean > Median)"
   ]
  },
  {
   "cell_type": "code",
   "execution_count": 24,
   "metadata": {},
   "outputs": [],
   "source": [
    "# the values (mean & median) are taken from the - 'age distribution with respect to the name salutations' cell above.\n",
    "\n",
    "titanic_data.loc[(titanic_data['Age'].isnull()) & (titanic_data['salutation'] == 'Mr'),'Age'] = 30\n",
    "titanic_data.loc[(titanic_data['Age'].isnull()) & (titanic_data['salutation'] == 'Dr'),'Age'] = 42\n",
    "titanic_data.loc[(titanic_data['Age'].isnull()) & (titanic_data['salutation'] == 'Master'),'Age'] = 3.5\n",
    "titanic_data.loc[(titanic_data['Age'].isnull()) & (titanic_data['salutation'] == 'Miss'),'Age'] = 21\n",
    "titanic_data.loc[(titanic_data['Age'].isnull()) & (titanic_data['salutation'] == 'Mrs'),'Age'] = 35"
   ]
  },
  {
   "cell_type": "code",
   "execution_count": 25,
   "metadata": {},
   "outputs": [
    {
     "name": "stdout",
     "output_type": "stream",
     "text": [
      "Number of presons with salutation type Mr having missing age value -  57\n",
      "Number of presons with salutation type Capt having missing age value -  0\n",
      "Number of presons with salutation type Col having missing age value -  0\n",
      "Number of presons with salutation type Don having missing age value -  0\n",
      "Number of presons with salutation type Dr having missing age value -  0\n",
      "Number of presons with salutation type Major having missing age value -  0\n",
      "Number of presons with salutation type Master having missing age value -  4\n",
      "Number of presons with salutation type Miss having missing age value -  15\n",
      "Number of presons with salutation type Mrs having missing age value -  10\n",
      "Number of presons with salutation type Rev having missing age value -  0\n"
     ]
    }
   ],
   "source": [
    "# Repeating the above for the test set as well -\n",
    "\n",
    "# Missing age value for each category - \n",
    "\n",
    "print('Number of presons with salutation type Mr having missing age value - ', \n",
    "      titanic_test_data.loc[(titanic_test_data['Age'].isnull()) & (titanic_test_data['salutation'] == 'Mr')].shape[0])\n",
    "\n",
    "print('Number of presons with salutation type Capt having missing age value - ', \n",
    "      titanic_test_data.loc[(titanic_test_data['Age'].isnull()) & (titanic_test_data['salutation'] == 'Capt')].shape[0])\n",
    "\n",
    "print('Number of presons with salutation type Col having missing age value - ', \n",
    "      titanic_test_data.loc[(titanic_test_data['Age'].isnull()) & (titanic_test_data['salutation'] == 'Col')].shape[0])\n",
    "\n",
    "print('Number of presons with salutation type Don having missing age value - ', \n",
    "      titanic_test_data.loc[(titanic_test_data['Age'].isnull()) & (titanic_test_data['salutation'] == 'Don')].shape[0])\n",
    "\n",
    "print('Number of presons with salutation type Dr having missing age value - ', \n",
    "      titanic_test_data.loc[(titanic_test_data['Age'].isnull()) & (titanic_test_data['salutation'] == 'Dr')].shape[0])\n",
    "\n",
    "print('Number of presons with salutation type Major having missing age value - ', \n",
    "      titanic_test_data.loc[(titanic_test_data['Age'].isnull()) & (titanic_test_data['salutation'] == 'Major')].shape[0])\n",
    "\n",
    "print('Number of presons with salutation type Master having missing age value - ', \n",
    "      titanic_test_data.loc[(titanic_test_data['Age'].isnull()) & (titanic_test_data['salutation'] == 'Master')].shape[0])\n",
    "\n",
    "print('Number of presons with salutation type Miss having missing age value - ', \n",
    "      titanic_test_data.loc[(titanic_test_data['Age'].isnull()) & (titanic_test_data['salutation'] == 'Miss')].shape[0])\n",
    "\n",
    "print('Number of presons with salutation type Mrs having missing age value - ', \n",
    "      titanic_test_data.loc[(titanic_test_data['Age'].isnull()) & (titanic_test_data['salutation'] == 'Mrs')].shape[0])\n",
    "\n",
    "print('Number of presons with salutation type Rev having missing age value - ', \n",
    "      titanic_test_data.loc[(titanic_test_data['Age'].isnull()) & (titanic_test_data['salutation'] == 'Rev')].shape[0])"
   ]
  },
  {
   "cell_type": "code",
   "execution_count": 26,
   "metadata": {},
   "outputs": [],
   "source": [
    "# the values (mean & median) are taken from the - 'age distribution with respect to the name salutations' cell above.\n",
    "\n",
    "titanic_test_data.loc[(titanic_test_data['Age'].isnull()) & (titanic_test_data['salutation'] == 'Mr'),'Age'] = 28.5\n",
    "titanic_test_data.loc[(titanic_test_data['Age'].isnull()) & (titanic_test_data['salutation'] == 'Master'),'Age'] = 7\n",
    "titanic_test_data.loc[(titanic_test_data['Age'].isnull()) & (titanic_test_data['salutation'] == 'Miss'),'Age'] = 21.77\n",
    "titanic_test_data.loc[(titanic_test_data['Age'].isnull()) & (titanic_test_data['salutation'] == 'Mrs'),'Age'] = 36.5"
   ]
  },
  {
   "cell_type": "code",
   "execution_count": 27,
   "metadata": {},
   "outputs": [
    {
     "data": {
      "text/plain": [
       "Survived      0.000000\n",
       "Pclass        0.000000\n",
       "Name          0.000000\n",
       "Sex           0.000000\n",
       "Age           0.000000\n",
       "SibSp         0.000000\n",
       "Parch         0.000000\n",
       "Fare          0.000000\n",
       "Embarked      0.224467\n",
       "deck          0.000000\n",
       "salutation    0.000000\n",
       "dtype: float64"
      ]
     },
     "execution_count": 27,
     "metadata": {},
     "output_type": "execute_result"
    }
   ],
   "source": [
    "# Lets have a look at the percentage of null values in the data set now - \n",
    "\n",
    "(titanic_data.isnull().sum()/ len(titanic_data)) * 100"
   ]
  },
  {
   "cell_type": "code",
   "execution_count": 28,
   "metadata": {},
   "outputs": [
    {
     "data": {
      "text/plain": [
       "Pclass        0.000000\n",
       "Name          0.000000\n",
       "Sex           0.000000\n",
       "Age           0.000000\n",
       "SibSp         0.000000\n",
       "Parch         0.000000\n",
       "Fare          0.239234\n",
       "Embarked      0.000000\n",
       "deck          0.000000\n",
       "salutation    0.000000\n",
       "dtype: float64"
      ]
     },
     "execution_count": 28,
     "metadata": {},
     "output_type": "execute_result"
    }
   ],
   "source": [
    "# Lets have a look at the percentage of null values in the data set now - \n",
    "\n",
    "(titanic_test_data.isnull().sum()/ len(titanic_test_data)) * 100"
   ]
  },
  {
   "cell_type": "code",
   "execution_count": 29,
   "metadata": {},
   "outputs": [
    {
     "data": {
      "text/html": [
       "<div>\n",
       "<style scoped>\n",
       "    .dataframe tbody tr th:only-of-type {\n",
       "        vertical-align: middle;\n",
       "    }\n",
       "\n",
       "    .dataframe tbody tr th {\n",
       "        vertical-align: top;\n",
       "    }\n",
       "\n",
       "    .dataframe thead th {\n",
       "        text-align: right;\n",
       "    }\n",
       "</style>\n",
       "<table border=\"1\" class=\"dataframe\">\n",
       "  <thead>\n",
       "    <tr style=\"text-align: right;\">\n",
       "      <th></th>\n",
       "      <th>Survived</th>\n",
       "      <th>Pclass</th>\n",
       "      <th>Name</th>\n",
       "      <th>Sex</th>\n",
       "      <th>Age</th>\n",
       "      <th>SibSp</th>\n",
       "      <th>Parch</th>\n",
       "      <th>Fare</th>\n",
       "      <th>Embarked</th>\n",
       "      <th>deck</th>\n",
       "      <th>salutation</th>\n",
       "    </tr>\n",
       "  </thead>\n",
       "  <tbody>\n",
       "    <tr>\n",
       "      <th>61</th>\n",
       "      <td>1</td>\n",
       "      <td>1</td>\n",
       "      <td>Icard, Miss. Amelie</td>\n",
       "      <td>female</td>\n",
       "      <td>38.0</td>\n",
       "      <td>0</td>\n",
       "      <td>0</td>\n",
       "      <td>80.0</td>\n",
       "      <td>NaN</td>\n",
       "      <td>B</td>\n",
       "      <td>Miss</td>\n",
       "    </tr>\n",
       "    <tr>\n",
       "      <th>829</th>\n",
       "      <td>1</td>\n",
       "      <td>1</td>\n",
       "      <td>Stone, Mrs. George Nelson (Martha Evelyn)</td>\n",
       "      <td>female</td>\n",
       "      <td>62.0</td>\n",
       "      <td>0</td>\n",
       "      <td>0</td>\n",
       "      <td>80.0</td>\n",
       "      <td>NaN</td>\n",
       "      <td>B</td>\n",
       "      <td>Mrs</td>\n",
       "    </tr>\n",
       "  </tbody>\n",
       "</table>\n",
       "</div>"
      ],
      "text/plain": [
       "     Survived  Pclass                                       Name     Sex   Age  SibSp  Parch  Fare Embarked deck salutation\n",
       "61          1       1                        Icard, Miss. Amelie  female  38.0      0      0  80.0      NaN    B       Miss\n",
       "829         1       1  Stone, Mrs. George Nelson (Martha Evelyn)  female  62.0      0      0  80.0      NaN    B        Mrs"
      ]
     },
     "execution_count": 29,
     "metadata": {},
     "output_type": "execute_result"
    }
   ],
   "source": [
    "# Now lets check on the missing values for the 'Embarked' column -\n",
    "\n",
    "titanic_data.loc[(titanic_data['Embarked'].isnull())]"
   ]
  },
  {
   "cell_type": "markdown",
   "metadata": {},
   "source": [
    "So there are just 2 rows with misssing 'Embarked' - Port of Embarkation value. We will see some values near the fare amount for these 2 rows i.e., 80"
   ]
  },
  {
   "cell_type": "code",
   "execution_count": 30,
   "metadata": {},
   "outputs": [
    {
     "data": {
      "text/html": [
       "<div>\n",
       "<style scoped>\n",
       "    .dataframe tbody tr th:only-of-type {\n",
       "        vertical-align: middle;\n",
       "    }\n",
       "\n",
       "    .dataframe tbody tr th {\n",
       "        vertical-align: top;\n",
       "    }\n",
       "\n",
       "    .dataframe thead th {\n",
       "        text-align: right;\n",
       "    }\n",
       "</style>\n",
       "<table border=\"1\" class=\"dataframe\">\n",
       "  <thead>\n",
       "    <tr style=\"text-align: right;\">\n",
       "      <th></th>\n",
       "      <th>Survived</th>\n",
       "      <th>Pclass</th>\n",
       "      <th>Name</th>\n",
       "      <th>Sex</th>\n",
       "      <th>Age</th>\n",
       "      <th>SibSp</th>\n",
       "      <th>Parch</th>\n",
       "      <th>Fare</th>\n",
       "      <th>Embarked</th>\n",
       "      <th>deck</th>\n",
       "      <th>salutation</th>\n",
       "    </tr>\n",
       "  </thead>\n",
       "  <tbody>\n",
       "    <tr>\n",
       "      <th>61</th>\n",
       "      <td>1</td>\n",
       "      <td>1</td>\n",
       "      <td>Icard, Miss. Amelie</td>\n",
       "      <td>female</td>\n",
       "      <td>38.0</td>\n",
       "      <td>0</td>\n",
       "      <td>0</td>\n",
       "      <td>80.0000</td>\n",
       "      <td>NaN</td>\n",
       "      <td>B</td>\n",
       "      <td>Miss</td>\n",
       "    </tr>\n",
       "    <tr>\n",
       "      <th>139</th>\n",
       "      <td>0</td>\n",
       "      <td>1</td>\n",
       "      <td>Giglio, Mr. Victor</td>\n",
       "      <td>male</td>\n",
       "      <td>24.0</td>\n",
       "      <td>0</td>\n",
       "      <td>0</td>\n",
       "      <td>79.2000</td>\n",
       "      <td>C</td>\n",
       "      <td>B</td>\n",
       "      <td>Mr</td>\n",
       "    </tr>\n",
       "    <tr>\n",
       "      <th>256</th>\n",
       "      <td>1</td>\n",
       "      <td>1</td>\n",
       "      <td>Thorne, Mrs. Gertrude Maybelle</td>\n",
       "      <td>female</td>\n",
       "      <td>35.0</td>\n",
       "      <td>0</td>\n",
       "      <td>0</td>\n",
       "      <td>79.2000</td>\n",
       "      <td>C</td>\n",
       "      <td>Z</td>\n",
       "      <td>Mrs</td>\n",
       "    </tr>\n",
       "    <tr>\n",
       "      <th>262</th>\n",
       "      <td>0</td>\n",
       "      <td>1</td>\n",
       "      <td>Taussig, Mr. Emil</td>\n",
       "      <td>male</td>\n",
       "      <td>52.0</td>\n",
       "      <td>1</td>\n",
       "      <td>1</td>\n",
       "      <td>79.6500</td>\n",
       "      <td>S</td>\n",
       "      <td>E</td>\n",
       "      <td>Mr</td>\n",
       "    </tr>\n",
       "    <tr>\n",
       "      <th>445</th>\n",
       "      <td>1</td>\n",
       "      <td>1</td>\n",
       "      <td>Dodge, Master. Washington</td>\n",
       "      <td>male</td>\n",
       "      <td>4.0</td>\n",
       "      <td>0</td>\n",
       "      <td>2</td>\n",
       "      <td>81.8583</td>\n",
       "      <td>S</td>\n",
       "      <td>A</td>\n",
       "      <td>Master</td>\n",
       "    </tr>\n",
       "    <tr>\n",
       "      <th>558</th>\n",
       "      <td>1</td>\n",
       "      <td>1</td>\n",
       "      <td>Taussig, Mrs. Emil (Tillie Mandelbaum)</td>\n",
       "      <td>female</td>\n",
       "      <td>39.0</td>\n",
       "      <td>1</td>\n",
       "      <td>1</td>\n",
       "      <td>79.6500</td>\n",
       "      <td>S</td>\n",
       "      <td>E</td>\n",
       "      <td>Mrs</td>\n",
       "    </tr>\n",
       "    <tr>\n",
       "      <th>585</th>\n",
       "      <td>1</td>\n",
       "      <td>1</td>\n",
       "      <td>Taussig, Miss. Ruth</td>\n",
       "      <td>female</td>\n",
       "      <td>18.0</td>\n",
       "      <td>0</td>\n",
       "      <td>2</td>\n",
       "      <td>79.6500</td>\n",
       "      <td>S</td>\n",
       "      <td>E</td>\n",
       "      <td>Miss</td>\n",
       "    </tr>\n",
       "    <tr>\n",
       "      <th>587</th>\n",
       "      <td>1</td>\n",
       "      <td>1</td>\n",
       "      <td>Frolicher-Stehli, Mr. Maxmillian</td>\n",
       "      <td>male</td>\n",
       "      <td>60.0</td>\n",
       "      <td>1</td>\n",
       "      <td>1</td>\n",
       "      <td>79.2000</td>\n",
       "      <td>C</td>\n",
       "      <td>B</td>\n",
       "      <td>Mr</td>\n",
       "    </tr>\n",
       "    <tr>\n",
       "      <th>789</th>\n",
       "      <td>0</td>\n",
       "      <td>1</td>\n",
       "      <td>Guggenheim, Mr. Benjamin</td>\n",
       "      <td>male</td>\n",
       "      <td>46.0</td>\n",
       "      <td>0</td>\n",
       "      <td>0</td>\n",
       "      <td>79.2000</td>\n",
       "      <td>C</td>\n",
       "      <td>B</td>\n",
       "      <td>Mr</td>\n",
       "    </tr>\n",
       "    <tr>\n",
       "      <th>829</th>\n",
       "      <td>1</td>\n",
       "      <td>1</td>\n",
       "      <td>Stone, Mrs. George Nelson (Martha Evelyn)</td>\n",
       "      <td>female</td>\n",
       "      <td>62.0</td>\n",
       "      <td>0</td>\n",
       "      <td>0</td>\n",
       "      <td>80.0000</td>\n",
       "      <td>NaN</td>\n",
       "      <td>B</td>\n",
       "      <td>Mrs</td>\n",
       "    </tr>\n",
       "  </tbody>\n",
       "</table>\n",
       "</div>"
      ],
      "text/plain": [
       "     Survived  Pclass                                       Name     Sex   Age  SibSp  Parch     Fare Embarked deck salutation\n",
       "61          1       1                        Icard, Miss. Amelie  female  38.0      0      0  80.0000      NaN    B       Miss\n",
       "139         0       1                         Giglio, Mr. Victor    male  24.0      0      0  79.2000        C    B         Mr\n",
       "256         1       1             Thorne, Mrs. Gertrude Maybelle  female  35.0      0      0  79.2000        C    Z        Mrs\n",
       "262         0       1                          Taussig, Mr. Emil    male  52.0      1      1  79.6500        S    E         Mr\n",
       "445         1       1                  Dodge, Master. Washington    male   4.0      0      2  81.8583        S    A     Master\n",
       "558         1       1     Taussig, Mrs. Emil (Tillie Mandelbaum)  female  39.0      1      1  79.6500        S    E        Mrs\n",
       "585         1       1                        Taussig, Miss. Ruth  female  18.0      0      2  79.6500        S    E       Miss\n",
       "587         1       1           Frolicher-Stehli, Mr. Maxmillian    male  60.0      1      1  79.2000        C    B         Mr\n",
       "789         0       1                   Guggenheim, Mr. Benjamin    male  46.0      0      0  79.2000        C    B         Mr\n",
       "829         1       1  Stone, Mrs. George Nelson (Martha Evelyn)  female  62.0      0      0  80.0000      NaN    B        Mrs"
      ]
     },
     "execution_count": 30,
     "metadata": {},
     "output_type": "execute_result"
    }
   ],
   "source": [
    "titanic_data.loc[(titanic_data['Fare'] >= 79) & (titanic_data['Fare'] <= 82)]"
   ]
  },
  {
   "cell_type": "markdown",
   "metadata": {},
   "source": [
    "The above data shows that the 'Emabrked' values are C and S with almost equal distribution. Let us maintain this distribuion and impute C & S to each of the 2 missing embarked values."
   ]
  },
  {
   "cell_type": "code",
   "execution_count": 31,
   "metadata": {},
   "outputs": [],
   "source": [
    "titanic_data.loc[(titanic_data['Embarked'].isnull()) & (titanic_data['Age'] == 38),'Embarked'] = 'S'\n",
    "titanic_data.loc[(titanic_data['Embarked'].isnull()) & (titanic_data['Age'] == 62),'Embarked'] = 'C'"
   ]
  },
  {
   "cell_type": "code",
   "execution_count": 32,
   "metadata": {},
   "outputs": [
    {
     "data": {
      "text/plain": [
       "Survived      0.0\n",
       "Pclass        0.0\n",
       "Name          0.0\n",
       "Sex           0.0\n",
       "Age           0.0\n",
       "SibSp         0.0\n",
       "Parch         0.0\n",
       "Fare          0.0\n",
       "Embarked      0.0\n",
       "deck          0.0\n",
       "salutation    0.0\n",
       "dtype: float64"
      ]
     },
     "execution_count": 32,
     "metadata": {},
     "output_type": "execute_result"
    }
   ],
   "source": [
    "# Lets have a look at the percentage of null values in the train set now - \n",
    "\n",
    "(titanic_data.isnull().sum()/ len(titanic_data)) * 100"
   ]
  },
  {
   "cell_type": "code",
   "execution_count": 33,
   "metadata": {},
   "outputs": [
    {
     "data": {
      "text/plain": [
       "count    417.000000\n",
       "mean      35.627188\n",
       "std       55.907576\n",
       "min        0.000000\n",
       "25%        7.895800\n",
       "50%       14.454200\n",
       "75%       31.500000\n",
       "max      512.329200\n",
       "Name: Fare, dtype: float64"
      ]
     },
     "execution_count": 33,
     "metadata": {},
     "output_type": "execute_result"
    }
   ],
   "source": [
    "# the test set has some missing values in the fare column. lets examine that\n",
    "\n",
    "titanic_test_data.Fare.describe()"
   ]
  },
  {
   "cell_type": "code",
   "execution_count": 34,
   "metadata": {},
   "outputs": [],
   "source": [
    "# as mean > median value for Fare in test set, lets impute the missing value with median - \n",
    "\n",
    "# test set\n",
    "titanic_test_data[\"Fare\"] = titanic_test_data[\"Fare\"].fillna(14.45)"
   ]
  },
  {
   "cell_type": "code",
   "execution_count": 35,
   "metadata": {},
   "outputs": [
    {
     "data": {
      "text/plain": [
       "Pclass        0.0\n",
       "Name          0.0\n",
       "Sex           0.0\n",
       "Age           0.0\n",
       "SibSp         0.0\n",
       "Parch         0.0\n",
       "Fare          0.0\n",
       "Embarked      0.0\n",
       "deck          0.0\n",
       "salutation    0.0\n",
       "dtype: float64"
      ]
     },
     "execution_count": 35,
     "metadata": {},
     "output_type": "execute_result"
    }
   ],
   "source": [
    "# Lets have a look at the percentage of null values in the test set now - \n",
    "\n",
    "(titanic_test_data.isnull().sum()/ len(titanic_test_data)) * 100"
   ]
  },
  {
   "cell_type": "markdown",
   "metadata": {},
   "source": [
    "#### We have a perfectly clean data set now. There are still some columns like Name, Sex and salutation which need to be handled.\n",
    "\n",
    "    -- Name column can be dropped.\n",
    "    -- Sex column can be mapped to 1 - Female & 0 - Male (we will handle this column after the EDA section)\n",
    "    -- salutation column can be one hot encoded. (we will handle this column after the EDA section)"
   ]
  },
  {
   "cell_type": "code",
   "execution_count": 36,
   "metadata": {},
   "outputs": [],
   "source": [
    "# dropping the name column -\n",
    "\n",
    "titanic_data.drop(['Name'], axis=1, inplace = True)\n",
    "titanic_test_data.drop(['Name'], axis=1, inplace = True)"
   ]
  },
  {
   "cell_type": "code",
   "execution_count": 37,
   "metadata": {},
   "outputs": [
    {
     "data": {
      "text/html": [
       "<div>\n",
       "<style scoped>\n",
       "    .dataframe tbody tr th:only-of-type {\n",
       "        vertical-align: middle;\n",
       "    }\n",
       "\n",
       "    .dataframe tbody tr th {\n",
       "        vertical-align: top;\n",
       "    }\n",
       "\n",
       "    .dataframe thead th {\n",
       "        text-align: right;\n",
       "    }\n",
       "</style>\n",
       "<table border=\"1\" class=\"dataframe\">\n",
       "  <thead>\n",
       "    <tr style=\"text-align: right;\">\n",
       "      <th></th>\n",
       "      <th>Survived</th>\n",
       "      <th>Pclass</th>\n",
       "      <th>Sex</th>\n",
       "      <th>Age</th>\n",
       "      <th>SibSp</th>\n",
       "      <th>Parch</th>\n",
       "      <th>Fare</th>\n",
       "      <th>Embarked</th>\n",
       "      <th>deck</th>\n",
       "      <th>salutation</th>\n",
       "    </tr>\n",
       "  </thead>\n",
       "  <tbody>\n",
       "    <tr>\n",
       "      <th>0</th>\n",
       "      <td>0</td>\n",
       "      <td>3</td>\n",
       "      <td>male</td>\n",
       "      <td>22.0</td>\n",
       "      <td>1</td>\n",
       "      <td>0</td>\n",
       "      <td>7.2500</td>\n",
       "      <td>S</td>\n",
       "      <td>Z</td>\n",
       "      <td>Mr</td>\n",
       "    </tr>\n",
       "    <tr>\n",
       "      <th>1</th>\n",
       "      <td>1</td>\n",
       "      <td>1</td>\n",
       "      <td>female</td>\n",
       "      <td>38.0</td>\n",
       "      <td>1</td>\n",
       "      <td>0</td>\n",
       "      <td>71.2833</td>\n",
       "      <td>C</td>\n",
       "      <td>C</td>\n",
       "      <td>Mrs</td>\n",
       "    </tr>\n",
       "    <tr>\n",
       "      <th>2</th>\n",
       "      <td>1</td>\n",
       "      <td>3</td>\n",
       "      <td>female</td>\n",
       "      <td>26.0</td>\n",
       "      <td>0</td>\n",
       "      <td>0</td>\n",
       "      <td>7.9250</td>\n",
       "      <td>S</td>\n",
       "      <td>Z</td>\n",
       "      <td>Miss</td>\n",
       "    </tr>\n",
       "    <tr>\n",
       "      <th>3</th>\n",
       "      <td>1</td>\n",
       "      <td>1</td>\n",
       "      <td>female</td>\n",
       "      <td>35.0</td>\n",
       "      <td>1</td>\n",
       "      <td>0</td>\n",
       "      <td>53.1000</td>\n",
       "      <td>S</td>\n",
       "      <td>C</td>\n",
       "      <td>Mrs</td>\n",
       "    </tr>\n",
       "    <tr>\n",
       "      <th>4</th>\n",
       "      <td>0</td>\n",
       "      <td>3</td>\n",
       "      <td>male</td>\n",
       "      <td>35.0</td>\n",
       "      <td>0</td>\n",
       "      <td>0</td>\n",
       "      <td>8.0500</td>\n",
       "      <td>S</td>\n",
       "      <td>Z</td>\n",
       "      <td>Mr</td>\n",
       "    </tr>\n",
       "  </tbody>\n",
       "</table>\n",
       "</div>"
      ],
      "text/plain": [
       "   Survived  Pclass     Sex   Age  SibSp  Parch     Fare Embarked deck salutation\n",
       "0         0       3    male  22.0      1      0   7.2500        S    Z         Mr\n",
       "1         1       1  female  38.0      1      0  71.2833        C    C        Mrs\n",
       "2         1       3  female  26.0      0      0   7.9250        S    Z       Miss\n",
       "3         1       1  female  35.0      1      0  53.1000        S    C        Mrs\n",
       "4         0       3    male  35.0      0      0   8.0500        S    Z         Mr"
      ]
     },
     "execution_count": 37,
     "metadata": {},
     "output_type": "execute_result"
    }
   ],
   "source": [
    "# data glimpse\n",
    "\n",
    "titanic_data.head()"
   ]
  },
  {
   "cell_type": "code",
   "execution_count": 38,
   "metadata": {},
   "outputs": [
    {
     "data": {
      "text/html": [
       "<div>\n",
       "<style scoped>\n",
       "    .dataframe tbody tr th:only-of-type {\n",
       "        vertical-align: middle;\n",
       "    }\n",
       "\n",
       "    .dataframe tbody tr th {\n",
       "        vertical-align: top;\n",
       "    }\n",
       "\n",
       "    .dataframe thead th {\n",
       "        text-align: right;\n",
       "    }\n",
       "</style>\n",
       "<table border=\"1\" class=\"dataframe\">\n",
       "  <thead>\n",
       "    <tr style=\"text-align: right;\">\n",
       "      <th></th>\n",
       "      <th>Pclass</th>\n",
       "      <th>Sex</th>\n",
       "      <th>Age</th>\n",
       "      <th>SibSp</th>\n",
       "      <th>Parch</th>\n",
       "      <th>Fare</th>\n",
       "      <th>Embarked</th>\n",
       "      <th>deck</th>\n",
       "      <th>salutation</th>\n",
       "    </tr>\n",
       "  </thead>\n",
       "  <tbody>\n",
       "    <tr>\n",
       "      <th>0</th>\n",
       "      <td>3</td>\n",
       "      <td>male</td>\n",
       "      <td>34.5</td>\n",
       "      <td>0</td>\n",
       "      <td>0</td>\n",
       "      <td>7.8292</td>\n",
       "      <td>Q</td>\n",
       "      <td>Z</td>\n",
       "      <td>Mr</td>\n",
       "    </tr>\n",
       "    <tr>\n",
       "      <th>1</th>\n",
       "      <td>3</td>\n",
       "      <td>female</td>\n",
       "      <td>47.0</td>\n",
       "      <td>1</td>\n",
       "      <td>0</td>\n",
       "      <td>7.0000</td>\n",
       "      <td>S</td>\n",
       "      <td>Z</td>\n",
       "      <td>Mrs</td>\n",
       "    </tr>\n",
       "    <tr>\n",
       "      <th>2</th>\n",
       "      <td>2</td>\n",
       "      <td>male</td>\n",
       "      <td>62.0</td>\n",
       "      <td>0</td>\n",
       "      <td>0</td>\n",
       "      <td>9.6875</td>\n",
       "      <td>Q</td>\n",
       "      <td>Z</td>\n",
       "      <td>Mr</td>\n",
       "    </tr>\n",
       "    <tr>\n",
       "      <th>3</th>\n",
       "      <td>3</td>\n",
       "      <td>male</td>\n",
       "      <td>27.0</td>\n",
       "      <td>0</td>\n",
       "      <td>0</td>\n",
       "      <td>8.6625</td>\n",
       "      <td>S</td>\n",
       "      <td>Z</td>\n",
       "      <td>Mr</td>\n",
       "    </tr>\n",
       "    <tr>\n",
       "      <th>4</th>\n",
       "      <td>3</td>\n",
       "      <td>female</td>\n",
       "      <td>22.0</td>\n",
       "      <td>1</td>\n",
       "      <td>1</td>\n",
       "      <td>12.2875</td>\n",
       "      <td>S</td>\n",
       "      <td>Z</td>\n",
       "      <td>Mrs</td>\n",
       "    </tr>\n",
       "  </tbody>\n",
       "</table>\n",
       "</div>"
      ],
      "text/plain": [
       "   Pclass     Sex   Age  SibSp  Parch     Fare Embarked deck salutation\n",
       "0       3    male  34.5      0      0   7.8292        Q    Z         Mr\n",
       "1       3  female  47.0      1      0   7.0000        S    Z        Mrs\n",
       "2       2    male  62.0      0      0   9.6875        Q    Z         Mr\n",
       "3       3    male  27.0      0      0   8.6625        S    Z         Mr\n",
       "4       3  female  22.0      1      1  12.2875        S    Z        Mrs"
      ]
     },
     "execution_count": 38,
     "metadata": {},
     "output_type": "execute_result"
    }
   ],
   "source": [
    "# data glimpse\n",
    "\n",
    "titanic_test_data.head()"
   ]
  },
  {
   "cell_type": "markdown",
   "metadata": {},
   "source": [
    "# Exploratory Data Analysis\n",
    "\n",
    "#### Defining some custom functions for EDA graph plottting"
   ]
  },
  {
   "cell_type": "code",
   "execution_count": 39,
   "metadata": {},
   "outputs": [],
   "source": [
    "# Custom Function for Default Plotting variables\n",
    "\n",
    "# Function Parameters  - \n",
    "\n",
    "# figure_title         -    The title to use for the plot.\n",
    "# xlabel               -    The x-axis label for the plot.\n",
    "# ylabel               -    The y-axis label for the plot.\n",
    "# xlabel_rotation      -    The degree of rotation for the x-axis ticks (values).\n",
    "# legend_flag          -    Boolean flag to check if a legend is required to be their in the plot.\n",
    "# legend               -    Place legend on axis subplots.\n",
    "\n",
    "def set_plotting_variable(figure_title, xlabel, ylabel, xlabel_rotation, legend_flag, legend):\n",
    "    \n",
    "    plt.title(figure_title)\n",
    "    plt.xticks(rotation = xlabel_rotation)\n",
    "    plt.xlabel(xlabel, labelpad = 15)\n",
    "    plt.ylabel(ylabel, labelpad = 10)\n",
    "    \n",
    "    if legend_flag == True:\n",
    "        plt.legend(loc = legend)"
   ]
  },
  {
   "cell_type": "code",
   "execution_count": 40,
   "metadata": {},
   "outputs": [],
   "source": [
    "# Function Parameters   -\n",
    "\n",
    "# category              -      The category of the variable in consideration - Categorical or Continuous.\n",
    "# plot_type             -      The type of the plot - Unordered Categorical (-lineplot) or Ordered Categorical (-countplot).\n",
    "# series                -      The series/column from the data frame for which the univariate analysis is being considered for.\n",
    "# figsize_x             -      The width of the plot figure in inches.\n",
    "# figsize_y             -      The height of the plot figure in inches.\n",
    "# subplot_x             -      The rows for the subplot.\n",
    "# subplot_y             -      The columns for the subplot.\n",
    "# xlabel                -      The x-axis label for the plot.\n",
    "# ylabel                -      The y-axis label for the plot.\n",
    "# x_axis                -      The series/variable to be plotted along the x-axis.\n",
    "# hue                   -      The variable (categorical) in the data for which the plot is being considered for.\n",
    "# data                  -      The data frame.\n",
    "# legend                -      Place legend on axis subplots.\n",
    "\n",
    "# hspace                -      The amount of height reserved for space between subplots,\n",
    "#                              expressed as a fraction of the average axis height\n",
    "\n",
    "# wspace                -      The amount of width reserved for space between subplots,\n",
    "#                              expressed as a fraction of the average axis width\n",
    "\n",
    "# xlabel_rotation       -      The degree of rotation for the x-axis ticks (values).\n",
    "\n",
    "def plot_univariate(category, plot_type, series, figsize_x, figsize_y, subplot_x, subplot_y,\n",
    "                    xlabel, ylabel, x_axis, hue, data, legend, hspace, wspace, xlabel_rotation):\n",
    "    \n",
    "    plt.figure(figsize = (figsize_x, figsize_y))\n",
    "    \n",
    "    if category == 'Categorical':\n",
    "        \n",
    "        title_1 = \"Frequency Plot of \" + xlabel\n",
    "        title_2 = title_1 + \" across Survival Status\"\n",
    "        \n",
    "        # Subplot - 1\n",
    "        plt.subplot(subplot_x, subplot_y, 1)\n",
    "        \n",
    "        if plot_type == 'Unordered Categorical':\n",
    "            sns.lineplot(data = series)\n",
    "        \n",
    "        elif plot_type == 'Ordered Categorical':\n",
    "            sns.countplot(x = x_axis, order = series.sort_index().index, data = data)\n",
    "        \n",
    "        # Call Custom Function\n",
    "        set_plotting_variable(title_1, xlabel, ylabel, xlabel_rotation, False, legend)\n",
    "        \n",
    "        # Subplot - 2\n",
    "        plt.subplot(subplot_x, subplot_y, 2)\n",
    "        \n",
    "        sns.countplot(x = x_axis, hue = hue, order = series.sort_index().index, data = data)\n",
    "        # Call Custom Function\n",
    "        set_plotting_variable(title_2, xlabel, ylabel, xlabel_rotation, True, legend)\n",
    "    \n",
    "    elif category == 'Continuous':\n",
    "        \n",
    "        title_1 = \"Distribution Plot of \" + xlabel\n",
    "        title_2 = \"Box Plot of \" + xlabel\n",
    "        title_3 = title_2 + \" across Survival Status\"\n",
    "        \n",
    "        # Subplot - 1\n",
    "        plt.subplot(subplot_x, subplot_y, 1)\n",
    "        \n",
    "        sns.distplot(data[x_axis], hist = True, kde = True, color = 'g')\n",
    "        # Call Custom Function\n",
    "        set_plotting_variable(title_1, xlabel, ylabel, xlabel_rotation, False, legend)\n",
    "        \n",
    "        # Subplot - 2\n",
    "        plt.subplot(subplot_x, subplot_y, 2)\n",
    "        \n",
    "        sns.boxplot(x = x_axis, data = data, color = 'm')\n",
    "        # Call Custom Function\n",
    "        set_plotting_variable(title_2, xlabel, ylabel, xlabel_rotation, False, legend)\n",
    "           \n",
    "    plt.subplots_adjust(hspace = hspace)\n",
    "    plt.subplots_adjust(wspace = wspace)\n",
    "    plt.show()"
   ]
  },
  {
   "cell_type": "markdown",
   "metadata": {},
   "source": [
    "#### 1. Frequency plot for persons survived vs not survived\n",
    "\n",
    "        -- 1 - Survived\n",
    "        -- 0 - Not Survived"
   ]
  },
  {
   "cell_type": "code",
   "execution_count": 41,
   "metadata": {},
   "outputs": [
    {
     "name": "stdout",
     "output_type": "stream",
     "text": [
      "0    549\n",
      "1    342\n",
      "Name: Survived, dtype: int64\n",
      "\n",
      "\n"
     ]
    },
    {
     "data": {
      "image/png": "[encoded data removed]",
      "text/plain": [
       "<Figure size 576x432 with 1 Axes>"
      ]
     },
     "metadata": {
      "needs_background": "light"
     },
     "output_type": "display_data"
    }
   ],
   "source": [
    "series = titanic_data.Survived.value_counts(dropna = False)\n",
    "\n",
    "print(series.sort_index())\n",
    "print('\\n')\n",
    "\n",
    "plt.figure(figsize = (8, 6))\n",
    "\n",
    "plt.title('Frequency Plot of Persons Survived')\n",
    "sns.countplot(x = 'Survived',  \n",
    "              order = series.sort_index().index, \n",
    "              data = titanic_data)\n",
    "plt.xlabel('Survived Status', labelpad = 15)\n",
    "plt.ylabel('Frequency', labelpad = 10)\n",
    "\n",
    "plt.subplots_adjust(wspace = 0.6)\n",
    "plt.show()\n",
    "\n",
    "# Survived - 1 means the person survived and 0 means the person did not survive the Titanic mishap."
   ]
  },
  {
   "cell_type": "markdown",
   "metadata": {},
   "source": [
    "#### 2. Port of Embarkation vs Survived Status"
   ]
  },
  {
   "cell_type": "code",
   "execution_count": 42,
   "metadata": {},
   "outputs": [
    {
     "name": "stdout",
     "output_type": "stream",
     "text": [
      "Embarked - Port of Embarkation\n",
      "-------------------------------\n",
      "C = Cherbourg \n",
      "Q = Queenstown \n",
      "S = Southampton\n",
      "-------------------------------\n",
      "C    169\n",
      "Q     77\n",
      "S    645\n",
      "Name: Embarked, dtype: int64\n",
      "\n",
      "\n",
      "Survived  Embarked\n",
      "0         C            75\n",
      "          Q            47\n",
      "          S           427\n",
      "1         C            94\n",
      "          Q            30\n",
      "          S           218\n",
      "Name: Embarked, dtype: int64\n",
      "\n",
      "\n"
     ]
    },
    {
     "data": {
      "image/png": "[encoded data removed]",
      "text/plain": [
       "<Figure size 1080x432 with 2 Axes>"
      ]
     },
     "metadata": {
      "needs_background": "light"
     },
     "output_type": "display_data"
    }
   ],
   "source": [
    "# Rank-Frequency Plot of Unordered Categorical Variable: Embarked\n",
    "\n",
    "print('Embarked - ' + 'Port of Embarkation' + '\\n' \n",
    "      +'-------------------------------' + '\\n' + 'C = Cherbourg \\nQ = Queenstown \\nS = Southampton'  + '\\n'\n",
    "      +'-------------------------------')\n",
    "\n",
    "series = titanic_data.Embarked.value_counts(dropna = False)\n",
    "\n",
    "print(series.sort_index())\n",
    "print('\\n')\n",
    "print(titanic_data.groupby(by = 'Survived').Embarked.value_counts(dropna = False).sort_index())\n",
    "print('\\n')\n",
    "\n",
    "# Call Custom Function\n",
    "plot_univariate(category = 'Categorical',\n",
    "                plot_type = 'Unordered Categorical',\n",
    "                series = series,\n",
    "                figsize_x = 15,\n",
    "                figsize_y = 6,\n",
    "                subplot_x = 1,\n",
    "                subplot_y = 2,\n",
    "                xlabel = \"Port of Embarkation\",\n",
    "                ylabel = \"Frequency\",\n",
    "                x_axis = 'Embarked',\n",
    "                hue = 'Survived',\n",
    "                data = titanic_data,\n",
    "                legend = 'upper center',\n",
    "                hspace = 0,\n",
    "                wspace = 0.3,\n",
    "                xlabel_rotation = 0)"
   ]
  },
  {
   "cell_type": "markdown",
   "metadata": {},
   "source": [
    "#### 3. Person Salutation v/s Survived Status "
   ]
  },
  {
   "cell_type": "code",
   "execution_count": 43,
   "metadata": {},
   "outputs": [
    {
     "name": "stdout",
     "output_type": "stream",
     "text": [
      "Don            1\n",
      "Dr             7\n",
      "Master        40\n",
      "Miss         185\n",
      "Mr           518\n",
      "Mrs          129\n",
      "Rev            6\n",
      "army_rank      5\n",
      "Name: salutation, dtype: int64\n",
      "\n",
      "\n",
      "Survived  salutation\n",
      "0         Don             1\n",
      "          Dr              4\n",
      "          Master         17\n",
      "          Miss           55\n",
      "          Mr            436\n",
      "          Mrs            27\n",
      "          Rev             6\n",
      "          army_rank       3\n",
      "1         Dr              3\n",
      "          Master         23\n",
      "          Miss          130\n",
      "          Mr             82\n",
      "          Mrs           102\n",
      "          army_rank       2\n",
      "Name: salutation, dtype: int64\n",
      "\n",
      "\n"
     ]
    },
    {
     "data": {
      "image/png": "[encoded data removed]",
      "text/plain": [
       "<Figure size 1080x432 with 2 Axes>"
      ]
     },
     "metadata": {
      "needs_background": "light"
     },
     "output_type": "display_data"
    }
   ],
   "source": [
    "series = titanic_data.salutation.value_counts(dropna = False)\n",
    "\n",
    "print(series.sort_index())\n",
    "print('\\n')\n",
    "print(titanic_data.groupby(by = 'Survived').salutation.value_counts(dropna = False).sort_index())\n",
    "print('\\n')\n",
    "\n",
    "# Call Custom Function\n",
    "plot_univariate(category = 'Categorical',\n",
    "                plot_type = 'Unordered Categorical',\n",
    "                series = series,\n",
    "                figsize_x = 15,\n",
    "                figsize_y = 6,\n",
    "                subplot_x = 1,\n",
    "                subplot_y = 2,\n",
    "                xlabel = \"Salutations\",\n",
    "                ylabel = \"Frequency\",\n",
    "                x_axis = 'salutation',\n",
    "                hue = 'Survived',\n",
    "                data = titanic_data,\n",
    "                legend = 'upper center',\n",
    "                hspace = 0,\n",
    "                wspace = 0.3,\n",
    "                xlabel_rotation = 0)"
   ]
  },
  {
   "cell_type": "markdown",
   "metadata": {},
   "source": [
    "#### 4. Passenger Class vs Survived Status"
   ]
  },
  {
   "cell_type": "code",
   "execution_count": 44,
   "metadata": {},
   "outputs": [
    {
     "name": "stdout",
     "output_type": "stream",
     "text": [
      "Pclass - Passenger Class\n",
      "-------------------------------\n",
      "Ticket class \n",
      "1 = 1st \n",
      "2 = 2nd \n",
      "3 = 3rd\n",
      "-------------------------------\n",
      "1    216\n",
      "2    184\n",
      "3    491\n",
      "Name: Pclass, dtype: int64\n",
      "\n",
      "\n",
      "Survived  Pclass\n",
      "0         1          80\n",
      "          2          97\n",
      "          3         372\n",
      "1         1         136\n",
      "          2          87\n",
      "          3         119\n",
      "Name: Pclass, dtype: int64\n",
      "\n",
      "\n"
     ]
    },
    {
     "data": {
      "image/png": "[encoded data removed]",
      "text/plain": [
       "<Figure size 1080x432 with 2 Axes>"
      ]
     },
     "metadata": {
      "needs_background": "light"
     },
     "output_type": "display_data"
    }
   ],
   "source": [
    "print('Pclass - ' + 'Passenger Class' + '\\n' \n",
    "      +'-------------------------------' + '\\n' + 'Ticket class \\n1 = 1st \\n2 = 2nd \\n3 = 3rd' + '\\n'\n",
    "      +'-------------------------------')\n",
    "\n",
    "series = titanic_data.Pclass.value_counts(dropna = False)\n",
    "\n",
    "print(series.sort_index())\n",
    "print('\\n')\n",
    "print(titanic_data.groupby(by = 'Survived').Pclass.value_counts(dropna = False).sort_index())\n",
    "print('\\n')\n",
    "\n",
    "# Call Custom Function\n",
    "plot_univariate(category = 'Categorical',\n",
    "                plot_type = 'Unordered Categorical',\n",
    "                series = series,\n",
    "                figsize_x = 15,\n",
    "                figsize_y = 6,\n",
    "                subplot_x = 1,\n",
    "                subplot_y = 2,\n",
    "                xlabel = \"Passenger Class\",\n",
    "                ylabel = \"Frequency\",\n",
    "                x_axis = 'Pclass',\n",
    "                hue = 'Survived',\n",
    "                data = titanic_data,\n",
    "                legend = 'upper center',\n",
    "                hspace = 0,\n",
    "                wspace = 0.3,\n",
    "                xlabel_rotation = 0)"
   ]
  },
  {
   "cell_type": "markdown",
   "metadata": {},
   "source": [
    "#### 5. Gender vs Survival Status"
   ]
  },
  {
   "cell_type": "code",
   "execution_count": 45,
   "metadata": {},
   "outputs": [
    {
     "name": "stdout",
     "output_type": "stream",
     "text": [
      "female    314\n",
      "male      577\n",
      "Name: Sex, dtype: int64\n",
      "\n",
      "\n",
      "Survived  Sex   \n",
      "0         female     81\n",
      "          male      468\n",
      "1         female    233\n",
      "          male      109\n",
      "Name: Sex, dtype: int64\n",
      "\n",
      "\n"
     ]
    },
    {
     "data": {
      "image/png": "[encoded data removed]",
      "text/plain": [
       "<Figure size 1080x432 with 2 Axes>"
      ]
     },
     "metadata": {
      "needs_background": "light"
     },
     "output_type": "display_data"
    }
   ],
   "source": [
    "series = titanic_data.Sex.value_counts(dropna = False)\n",
    "\n",
    "print(series.sort_index())\n",
    "print('\\n')\n",
    "print(titanic_data.groupby(by = 'Survived').Sex.value_counts(dropna = False).sort_index())\n",
    "print('\\n')\n",
    "\n",
    "# Call Custom Function\n",
    "plot_univariate(category = 'Categorical',\n",
    "                plot_type = 'Unordered Categorical',\n",
    "                series = series,\n",
    "                figsize_x = 15,\n",
    "                figsize_y = 6,\n",
    "                subplot_x = 1,\n",
    "                subplot_y = 2,\n",
    "                xlabel = \"Gender\",\n",
    "                ylabel = \"Frequency\",\n",
    "                x_axis = 'Sex',\n",
    "                hue = 'Survived',\n",
    "                data = titanic_data,\n",
    "                legend = 'upper center',\n",
    "                hspace = 0,\n",
    "                wspace = 0.3,\n",
    "                xlabel_rotation = 0)"
   ]
  },
  {
   "cell_type": "markdown",
   "metadata": {},
   "source": [
    "#### 6. Gender, Survived vs Pclass"
   ]
  },
  {
   "cell_type": "code",
   "execution_count": 46,
   "metadata": {},
   "outputs": [
    {
     "name": "stdout",
     "output_type": "stream",
     "text": [
      "Sex     Survived  Pclass\n",
      "female  0         1           3\n",
      "                  2           6\n",
      "                  3          72\n",
      "        1         1          91\n",
      "                  2          70\n",
      "                  3          72\n",
      "male    0         1          77\n",
      "                  2          91\n",
      "                  3         300\n",
      "        1         1          45\n",
      "                  2          17\n",
      "                  3          47\n",
      "Name: Pclass, dtype: int64\n"
     ]
    },
    {
     "data": {
      "text/plain": [
       "<matplotlib.axes._subplots.AxesSubplot at 0x2b228efaba8>"
      ]
     },
     "execution_count": 46,
     "metadata": {},
     "output_type": "execute_result"
    },
    {
     "data": {
      "image/png": "[encoded data removed]",
      "text/plain": [
       "<Figure size 432x288 with 1 Axes>"
      ]
     },
     "metadata": {
      "needs_background": "light"
     },
     "output_type": "display_data"
    }
   ],
   "source": [
    "abc = titanic_data.groupby(['Sex', 'Survived']).Pclass.value_counts(dropna = False).sort_index()\n",
    "print(abc)\n",
    "\n",
    "abc.unstack().plot()"
   ]
  },
  {
   "cell_type": "markdown",
   "metadata": {},
   "source": [
    "#### 7. Ticket Fare Distribution"
   ]
  },
  {
   "cell_type": "code",
   "execution_count": 47,
   "metadata": {},
   "outputs": [
    {
     "name": "stdout",
     "output_type": "stream",
     "text": [
      "count    891.000000\n",
      "mean      32.204208\n",
      "std       49.693429\n",
      "min        0.000000\n",
      "25%        7.910400\n",
      "50%       14.454200\n",
      "75%       31.000000\n",
      "max      512.329200\n",
      "Name: Fare, dtype: float64\n",
      "\n",
      "\n",
      "          count       mean        std  min      25%   50%   75%       max\n",
      "Survived                                                                 \n",
      "0         549.0  22.117887  31.388207  0.0   7.8542  10.5  26.0  263.0000\n",
      "1         342.0  48.395408  66.596998  0.0  12.4750  26.0  57.0  512.3292\n",
      "\n",
      "\n"
     ]
    },
    {
     "data": {
      "image/png": "[encoded data removed]",
      "text/plain": [
       "<Figure size 1080x864 with 2 Axes>"
      ]
     },
     "metadata": {
      "needs_background": "light"
     },
     "output_type": "display_data"
    }
   ],
   "source": [
    "print(titanic_data.Fare.describe())\n",
    "print('\\n')\n",
    "print(titanic_data.groupby(by = 'Survived').Fare.describe().sort_index())\n",
    "print('\\n')\n",
    "\n",
    "# Call Custom Function\n",
    "plot_univariate(category = 'Continuous',\n",
    "                plot_type = 'Quantitative',\n",
    "                series = [1, 0],\n",
    "                figsize_x = 15,\n",
    "                figsize_y = 12,\n",
    "                subplot_x = 2,\n",
    "                subplot_y = 2,\n",
    "                xlabel = \"Fare\",\n",
    "                ylabel = \"Distribution\",\n",
    "                x_axis = 'Fare',\n",
    "                hue = 'Survived',\n",
    "                data = titanic_data,\n",
    "                legend = 'best',\n",
    "                hspace = 0.4,\n",
    "                wspace = 0.3,\n",
    "                xlabel_rotation = 0)"
   ]
  },
  {
   "cell_type": "markdown",
   "metadata": {},
   "source": [
    "#### 8. Age vs Survived Status"
   ]
  },
  {
   "cell_type": "code",
   "execution_count": 48,
   "metadata": {},
   "outputs": [
    {
     "data": {
      "image/png": "[encoded data removed]",
      "text/plain": [
       "<Figure size 1440x720 with 2 Axes>"
      ]
     },
     "metadata": {
      "needs_background": "light"
     },
     "output_type": "display_data"
    }
   ],
   "source": [
    "f,sub_plt = plt.subplots(1,2,figsize=(20,10))\n",
    "x_bins = list(range(0,85,5))\n",
    "\n",
    "# Survived Status 0\n",
    "titanic_data[titanic_data['Survived'] == 0].Age.plot.hist(ax=sub_plt[0], bins=20)\n",
    "sub_plt[0].set_title('Survived = 0')\n",
    "sub_plt[0].set_xticks(x_bins)\n",
    "\n",
    "# Survived Status 1\n",
    "titanic_data[titanic_data['Survived'] == 1].Age.plot.hist(ax=sub_plt[1], bins=20)\n",
    "sub_plt[1].set_title('Survived = 1')\n",
    "sub_plt[1].set_xticks(x_bins)\n",
    "\n",
    "plt.show()"
   ]
  },
  {
   "cell_type": "markdown",
   "metadata": {},
   "source": [
    "#### 9. SibSp vs Survived Status"
   ]
  },
  {
   "cell_type": "code",
   "execution_count": 49,
   "metadata": {},
   "outputs": [
    {
     "name": "stdout",
     "output_type": "stream",
     "text": [
      "Survived  SibSp\n",
      "0         0        398\n",
      "          1         97\n",
      "          2         15\n",
      "          3         12\n",
      "          4         15\n",
      "          5          5\n",
      "          8          7\n",
      "1         0        210\n",
      "          1        112\n",
      "          2         13\n",
      "          3          4\n",
      "          4          3\n",
      "Name: SibSp, dtype: int64\n"
     ]
    },
    {
     "data": {
      "image/png": "[encoded data removed]",
      "text/plain": [
       "<Figure size 1080x432 with 2 Axes>"
      ]
     },
     "metadata": {
      "needs_background": "light"
     },
     "output_type": "display_data"
    }
   ],
   "source": [
    "print(titanic_data.groupby(by = 'Survived').SibSp.value_counts(dropna = False).sort_index())\n",
    "\n",
    "series = titanic_data.SibSp.value_counts(dropna = False)\n",
    "\n",
    "plot_univariate(category = 'Categorical',\n",
    "                plot_type = 'Unordered Categorical',\n",
    "                series = series,\n",
    "                figsize_x = 15,\n",
    "                figsize_y = 6,\n",
    "                subplot_x = 1,\n",
    "                subplot_y = 2,\n",
    "                xlabel = \"SibSp\",\n",
    "                ylabel = \"Frequency\",\n",
    "                x_axis = 'SibSp',\n",
    "                hue = 'Survived',\n",
    "                data = titanic_data,\n",
    "                legend = 'upper center',\n",
    "                hspace = 0,\n",
    "                wspace = 0.3,\n",
    "                xlabel_rotation = 0)"
   ]
  },
  {
   "cell_type": "markdown",
   "metadata": {},
   "source": [
    "#### 10. Parch vs Survived Status"
   ]
  },
  {
   "cell_type": "code",
   "execution_count": 50,
   "metadata": {
    "scrolled": false
   },
   "outputs": [
    {
     "name": "stdout",
     "output_type": "stream",
     "text": [
      "Survived  Parch\n",
      "0         0        445\n",
      "          1         53\n",
      "          2         40\n",
      "          3          2\n",
      "          4          4\n",
      "          5          4\n",
      "          6          1\n",
      "1         0        233\n",
      "          1         65\n",
      "          2         40\n",
      "          3          3\n",
      "          5          1\n",
      "Name: Parch, dtype: int64\n"
     ]
    },
    {
     "data": {
      "image/png": "[encoded data removed]",
      "text/plain": [
       "<Figure size 1080x432 with 2 Axes>"
      ]
     },
     "metadata": {
      "needs_background": "light"
     },
     "output_type": "display_data"
    }
   ],
   "source": [
    "print(titanic_data.groupby(by = 'Survived').Parch.value_counts(dropna = False).sort_index())\n",
    "\n",
    "series = titanic_data.Parch.value_counts(dropna = False)\n",
    "\n",
    "plot_univariate(category = 'Categorical',\n",
    "                plot_type = 'Unordered Categorical',\n",
    "                series = series,\n",
    "                figsize_x = 15,\n",
    "                figsize_y = 6,\n",
    "                subplot_x = 1,\n",
    "                subplot_y = 2,\n",
    "                xlabel = \"Parch\",\n",
    "                ylabel = \"Frequency\",\n",
    "                x_axis = 'Parch',\n",
    "                hue = 'Survived',\n",
    "                data = titanic_data,\n",
    "                legend = 'upper center',\n",
    "                hspace = 0,\n",
    "                wspace = 0.3,\n",
    "                xlabel_rotation = 0)"
   ]
  },
  {
   "cell_type": "markdown",
   "metadata": {},
   "source": [
    "## Feature Engineering"
   ]
  },
  {
   "cell_type": "markdown",
   "metadata": {},
   "source": [
    "### 1. familysize\n",
    "\n",
    "**The two features - 'Prach' and 'SibSp' can be combined to get total family size. We will create a new variable 'familysize' adding these two features.**"
   ]
  },
  {
   "cell_type": "code",
   "execution_count": 51,
   "metadata": {},
   "outputs": [
    {
     "data": {
      "text/html": [
       "<div>\n",
       "<style scoped>\n",
       "    .dataframe tbody tr th:only-of-type {\n",
       "        vertical-align: middle;\n",
       "    }\n",
       "\n",
       "    .dataframe tbody tr th {\n",
       "        vertical-align: top;\n",
       "    }\n",
       "\n",
       "    .dataframe thead th {\n",
       "        text-align: right;\n",
       "    }\n",
       "</style>\n",
       "<table border=\"1\" class=\"dataframe\">\n",
       "  <thead>\n",
       "    <tr style=\"text-align: right;\">\n",
       "      <th></th>\n",
       "      <th>Survived</th>\n",
       "      <th>Pclass</th>\n",
       "      <th>Sex</th>\n",
       "      <th>Age</th>\n",
       "      <th>Fare</th>\n",
       "      <th>Embarked</th>\n",
       "      <th>deck</th>\n",
       "      <th>salutation</th>\n",
       "      <th>familysize</th>\n",
       "    </tr>\n",
       "  </thead>\n",
       "  <tbody>\n",
       "    <tr>\n",
       "      <th>0</th>\n",
       "      <td>0</td>\n",
       "      <td>3</td>\n",
       "      <td>male</td>\n",
       "      <td>22.0</td>\n",
       "      <td>7.2500</td>\n",
       "      <td>S</td>\n",
       "      <td>Z</td>\n",
       "      <td>Mr</td>\n",
       "      <td>1</td>\n",
       "    </tr>\n",
       "    <tr>\n",
       "      <th>1</th>\n",
       "      <td>1</td>\n",
       "      <td>1</td>\n",
       "      <td>female</td>\n",
       "      <td>38.0</td>\n",
       "      <td>71.2833</td>\n",
       "      <td>C</td>\n",
       "      <td>C</td>\n",
       "      <td>Mrs</td>\n",
       "      <td>1</td>\n",
       "    </tr>\n",
       "    <tr>\n",
       "      <th>2</th>\n",
       "      <td>1</td>\n",
       "      <td>3</td>\n",
       "      <td>female</td>\n",
       "      <td>26.0</td>\n",
       "      <td>7.9250</td>\n",
       "      <td>S</td>\n",
       "      <td>Z</td>\n",
       "      <td>Miss</td>\n",
       "      <td>0</td>\n",
       "    </tr>\n",
       "    <tr>\n",
       "      <th>3</th>\n",
       "      <td>1</td>\n",
       "      <td>1</td>\n",
       "      <td>female</td>\n",
       "      <td>35.0</td>\n",
       "      <td>53.1000</td>\n",
       "      <td>S</td>\n",
       "      <td>C</td>\n",
       "      <td>Mrs</td>\n",
       "      <td>1</td>\n",
       "    </tr>\n",
       "    <tr>\n",
       "      <th>4</th>\n",
       "      <td>0</td>\n",
       "      <td>3</td>\n",
       "      <td>male</td>\n",
       "      <td>35.0</td>\n",
       "      <td>8.0500</td>\n",
       "      <td>S</td>\n",
       "      <td>Z</td>\n",
       "      <td>Mr</td>\n",
       "      <td>0</td>\n",
       "    </tr>\n",
       "  </tbody>\n",
       "</table>\n",
       "</div>"
      ],
      "text/plain": [
       "   Survived  Pclass     Sex   Age     Fare Embarked deck salutation  familysize\n",
       "0         0       3    male  22.0   7.2500        S    Z         Mr           1\n",
       "1         1       1  female  38.0  71.2833        C    C        Mrs           1\n",
       "2         1       3  female  26.0   7.9250        S    Z       Miss           0\n",
       "3         1       1  female  35.0  53.1000        S    C        Mrs           1\n",
       "4         0       3    male  35.0   8.0500        S    Z         Mr           0"
      ]
     },
     "execution_count": 51,
     "metadata": {},
     "output_type": "execute_result"
    }
   ],
   "source": [
    "# creation of the new feature - familysize\n",
    "titanic_data['familysize'] = titanic_data['SibSp'] + titanic_data['Parch']\n",
    "\n",
    "titanic_test_data['familysize'] = titanic_test_data['SibSp'] + titanic_test_data['Parch']\n",
    "\n",
    "# lets now drop thae columns 'SibSp' and 'Parch' as they would be correlated and predict the 'familysize'\n",
    "\n",
    "# train set\n",
    "titanic_data.drop(columns = ['SibSp', 'Parch'], axis = 1, inplace = True)\n",
    "\n",
    "# test set\n",
    "titanic_test_data.drop(columns = ['SibSp', 'Parch'], axis = 1, inplace = True)\n",
    "\n",
    "# data glimpse\n",
    "titanic_data.head()"
   ]
  },
  {
   "cell_type": "code",
   "execution_count": 52,
   "metadata": {},
   "outputs": [
    {
     "data": {
      "text/plain": [
       "count    891.000000\n",
       "mean       0.904602\n",
       "std        1.613459\n",
       "min        0.000000\n",
       "25%        0.000000\n",
       "50%        0.000000\n",
       "75%        1.000000\n",
       "max       10.000000\n",
       "Name: familysize, dtype: float64"
      ]
     },
     "execution_count": 52,
     "metadata": {},
     "output_type": "execute_result"
    }
   ],
   "source": [
    "titanic_data['familysize'].describe()"
   ]
  },
  {
   "cell_type": "markdown",
   "metadata": {},
   "source": [
    "**Lets now see how this new feature 'familysize' relates to the survived status**\n",
    "\n",
    "#### Plotting familysize vs survival status"
   ]
  },
  {
   "cell_type": "code",
   "execution_count": 53,
   "metadata": {},
   "outputs": [
    {
     "name": "stdout",
     "output_type": "stream",
     "text": [
      "Survived  familysize\n",
      "0         0             374\n",
      "          1              72\n",
      "          2              43\n",
      "          3               8\n",
      "          4              12\n",
      "          5              19\n",
      "          6               8\n",
      "          7               6\n",
      "          10              7\n",
      "1         0             163\n",
      "          1              89\n",
      "          2              59\n",
      "          3              21\n",
      "          4               3\n",
      "          5               3\n",
      "          6               4\n",
      "Name: familysize, dtype: int64\n"
     ]
    },
    {
     "data": {
      "image/png": "[encoded data removed]",
      "text/plain": [
       "<Figure size 1080x432 with 2 Axes>"
      ]
     },
     "metadata": {
      "needs_background": "light"
     },
     "output_type": "display_data"
    }
   ],
   "source": [
    "print(titanic_data.groupby(by = 'Survived').familysize.value_counts(dropna = False).sort_index())\n",
    "\n",
    "series = titanic_data.familysize.value_counts(dropna = False)\n",
    "\n",
    "plot_univariate(category = 'Categorical',\n",
    "                plot_type = 'Unordered Categorical',\n",
    "                series = series,\n",
    "                figsize_x = 15,\n",
    "                figsize_y = 6,\n",
    "                subplot_x = 1,\n",
    "                subplot_y = 2,\n",
    "                xlabel = \"familysize\",\n",
    "                ylabel = \"Frequency\",\n",
    "                x_axis = 'familysize',\n",
    "                hue = 'Survived',\n",
    "                data = titanic_data,\n",
    "                legend = 'upper center',\n",
    "                hspace = 0,\n",
    "                wspace = 0.3,\n",
    "                xlabel_rotation = 0)"
   ]
  },
  {
   "cell_type": "markdown",
   "metadata": {},
   "source": [
    "### 2. age_category\n",
    "\n",
    "**Converting Age into bins (as it is continuos with no proper distribution)** \n",
    "**We will define a new variable  - age_category and have the following bins to categorize the person based on the age -**\n",
    "\n",
    "    -- Age <= 15             -- age_category - 0\n",
    "    -- Age > 15 & <= 30      -- age_category - 1\n",
    "    -- Age > 30 & <= 45      -- age_category - 2\n",
    "    -- Age > 45 & <= 60      -- age_category - 3\n",
    "    -- Age > 60              -- age_category - 4\n",
    "\n",
    "**As we have a new feature for age, we will drop the original Age feature as it would be redundant now**"
   ]
  },
  {
   "cell_type": "code",
   "execution_count": 54,
   "metadata": {},
   "outputs": [
    {
     "data": {
      "text/html": [
       "<div>\n",
       "<style scoped>\n",
       "    .dataframe tbody tr th:only-of-type {\n",
       "        vertical-align: middle;\n",
       "    }\n",
       "\n",
       "    .dataframe tbody tr th {\n",
       "        vertical-align: top;\n",
       "    }\n",
       "\n",
       "    .dataframe thead th {\n",
       "        text-align: right;\n",
       "    }\n",
       "</style>\n",
       "<table border=\"1\" class=\"dataframe\">\n",
       "  <thead>\n",
       "    <tr style=\"text-align: right;\">\n",
       "      <th></th>\n",
       "      <th>Survived</th>\n",
       "      <th>Pclass</th>\n",
       "      <th>Sex</th>\n",
       "      <th>Fare</th>\n",
       "      <th>Embarked</th>\n",
       "      <th>deck</th>\n",
       "      <th>salutation</th>\n",
       "      <th>familysize</th>\n",
       "      <th>age_category</th>\n",
       "    </tr>\n",
       "  </thead>\n",
       "  <tbody>\n",
       "    <tr>\n",
       "      <th>0</th>\n",
       "      <td>0</td>\n",
       "      <td>3</td>\n",
       "      <td>male</td>\n",
       "      <td>7.2500</td>\n",
       "      <td>S</td>\n",
       "      <td>Z</td>\n",
       "      <td>Mr</td>\n",
       "      <td>1</td>\n",
       "      <td>1</td>\n",
       "    </tr>\n",
       "    <tr>\n",
       "      <th>1</th>\n",
       "      <td>1</td>\n",
       "      <td>1</td>\n",
       "      <td>female</td>\n",
       "      <td>71.2833</td>\n",
       "      <td>C</td>\n",
       "      <td>C</td>\n",
       "      <td>Mrs</td>\n",
       "      <td>1</td>\n",
       "      <td>2</td>\n",
       "    </tr>\n",
       "    <tr>\n",
       "      <th>2</th>\n",
       "      <td>1</td>\n",
       "      <td>3</td>\n",
       "      <td>female</td>\n",
       "      <td>7.9250</td>\n",
       "      <td>S</td>\n",
       "      <td>Z</td>\n",
       "      <td>Miss</td>\n",
       "      <td>0</td>\n",
       "      <td>1</td>\n",
       "    </tr>\n",
       "    <tr>\n",
       "      <th>3</th>\n",
       "      <td>1</td>\n",
       "      <td>1</td>\n",
       "      <td>female</td>\n",
       "      <td>53.1000</td>\n",
       "      <td>S</td>\n",
       "      <td>C</td>\n",
       "      <td>Mrs</td>\n",
       "      <td>1</td>\n",
       "      <td>2</td>\n",
       "    </tr>\n",
       "    <tr>\n",
       "      <th>4</th>\n",
       "      <td>0</td>\n",
       "      <td>3</td>\n",
       "      <td>male</td>\n",
       "      <td>8.0500</td>\n",
       "      <td>S</td>\n",
       "      <td>Z</td>\n",
       "      <td>Mr</td>\n",
       "      <td>0</td>\n",
       "      <td>2</td>\n",
       "    </tr>\n",
       "  </tbody>\n",
       "</table>\n",
       "</div>"
      ],
      "text/plain": [
       "   Survived  Pclass     Sex     Fare Embarked deck salutation  familysize  age_category\n",
       "0         0       3    male   7.2500        S    Z         Mr           1             1\n",
       "1         1       1  female  71.2833        C    C        Mrs           1             2\n",
       "2         1       3  female   7.9250        S    Z       Miss           0             1\n",
       "3         1       1  female  53.1000        S    C        Mrs           1             2\n",
       "4         0       3    male   8.0500        S    Z         Mr           0             2"
      ]
     },
     "execution_count": 54,
     "metadata": {},
     "output_type": "execute_result"
    }
   ],
   "source": [
    "# train set\n",
    "\n",
    "titanic_data['age_category'] = 0\n",
    "titanic_data.loc[titanic_data['Age'] <= 15,'age_category'] = 0\n",
    "titanic_data.loc[(titanic_data['Age'] > 15) & (titanic_data['Age'] <= 30),'age_category'] = 1\n",
    "titanic_data.loc[(titanic_data['Age'] > 30) & (titanic_data['Age'] <= 45),'age_category'] = 2\n",
    "titanic_data.loc[(titanic_data['Age'] > 45) & (titanic_data['Age'] <= 60),'age_category'] = 3\n",
    "titanic_data.loc[(titanic_data['Age'] > 60),'age_category'] = 4\n",
    "\n",
    "# dropping the 'Age' feature\n",
    "titanic_data.drop(['Age'], axis = 1, inplace = True)\n",
    "\n",
    "# data glimpse\n",
    "titanic_data.head()"
   ]
  },
  {
   "cell_type": "code",
   "execution_count": 55,
   "metadata": {},
   "outputs": [
    {
     "data": {
      "text/html": [
       "<div>\n",
       "<style scoped>\n",
       "    .dataframe tbody tr th:only-of-type {\n",
       "        vertical-align: middle;\n",
       "    }\n",
       "\n",
       "    .dataframe tbody tr th {\n",
       "        vertical-align: top;\n",
       "    }\n",
       "\n",
       "    .dataframe thead th {\n",
       "        text-align: right;\n",
       "    }\n",
       "</style>\n",
       "<table border=\"1\" class=\"dataframe\">\n",
       "  <thead>\n",
       "    <tr style=\"text-align: right;\">\n",
       "      <th></th>\n",
       "      <th>Pclass</th>\n",
       "      <th>Sex</th>\n",
       "      <th>Fare</th>\n",
       "      <th>Embarked</th>\n",
       "      <th>deck</th>\n",
       "      <th>salutation</th>\n",
       "      <th>familysize</th>\n",
       "      <th>age_category</th>\n",
       "    </tr>\n",
       "  </thead>\n",
       "  <tbody>\n",
       "    <tr>\n",
       "      <th>0</th>\n",
       "      <td>3</td>\n",
       "      <td>male</td>\n",
       "      <td>7.8292</td>\n",
       "      <td>Q</td>\n",
       "      <td>Z</td>\n",
       "      <td>Mr</td>\n",
       "      <td>0</td>\n",
       "      <td>2</td>\n",
       "    </tr>\n",
       "    <tr>\n",
       "      <th>1</th>\n",
       "      <td>3</td>\n",
       "      <td>female</td>\n",
       "      <td>7.0000</td>\n",
       "      <td>S</td>\n",
       "      <td>Z</td>\n",
       "      <td>Mrs</td>\n",
       "      <td>1</td>\n",
       "      <td>3</td>\n",
       "    </tr>\n",
       "    <tr>\n",
       "      <th>2</th>\n",
       "      <td>2</td>\n",
       "      <td>male</td>\n",
       "      <td>9.6875</td>\n",
       "      <td>Q</td>\n",
       "      <td>Z</td>\n",
       "      <td>Mr</td>\n",
       "      <td>0</td>\n",
       "      <td>4</td>\n",
       "    </tr>\n",
       "    <tr>\n",
       "      <th>3</th>\n",
       "      <td>3</td>\n",
       "      <td>male</td>\n",
       "      <td>8.6625</td>\n",
       "      <td>S</td>\n",
       "      <td>Z</td>\n",
       "      <td>Mr</td>\n",
       "      <td>0</td>\n",
       "      <td>1</td>\n",
       "    </tr>\n",
       "    <tr>\n",
       "      <th>4</th>\n",
       "      <td>3</td>\n",
       "      <td>female</td>\n",
       "      <td>12.2875</td>\n",
       "      <td>S</td>\n",
       "      <td>Z</td>\n",
       "      <td>Mrs</td>\n",
       "      <td>2</td>\n",
       "      <td>1</td>\n",
       "    </tr>\n",
       "  </tbody>\n",
       "</table>\n",
       "</div>"
      ],
      "text/plain": [
       "   Pclass     Sex     Fare Embarked deck salutation  familysize  age_category\n",
       "0       3    male   7.8292        Q    Z         Mr           0             2\n",
       "1       3  female   7.0000        S    Z        Mrs           1             3\n",
       "2       2    male   9.6875        Q    Z         Mr           0             4\n",
       "3       3    male   8.6625        S    Z         Mr           0             1\n",
       "4       3  female  12.2875        S    Z        Mrs           2             1"
      ]
     },
     "execution_count": 55,
     "metadata": {},
     "output_type": "execute_result"
    }
   ],
   "source": [
    "# test set\n",
    "\n",
    "titanic_test_data['age_category'] = 0\n",
    "titanic_test_data.loc[titanic_test_data['Age'] <= 15,'age_category'] = 0\n",
    "titanic_test_data.loc[(titanic_test_data['Age'] > 15) & (titanic_test_data['Age'] <= 30),'age_category'] = 1\n",
    "titanic_test_data.loc[(titanic_test_data['Age'] > 30) & (titanic_test_data['Age'] <= 45),'age_category'] = 2\n",
    "titanic_test_data.loc[(titanic_test_data['Age'] > 45) & (titanic_test_data['Age'] <= 60),'age_category'] = 3\n",
    "titanic_test_data.loc[(titanic_test_data['Age'] > 60),'age_category'] = 4\n",
    "\n",
    "# dropping the 'Age' feature\n",
    "titanic_test_data.drop(['Age'], axis = 1, inplace = True)\n",
    "\n",
    "# data glimpse\n",
    "titanic_test_data.head()"
   ]
  },
  {
   "cell_type": "markdown",
   "metadata": {},
   "source": [
    "### 3. fare_category\n",
    "\n",
    "**As Fare is also a continuous variable without any pattern, let's convert the fare into a new variable - 'fare_category'**\n",
    "\n",
    "        -- Fare : 0 to 7.85          - fare_category - 0\n",
    "        -- Fare : 7.85 to 10.50      - fare_category - 1\n",
    "        -- Fare : 10.50 to 21.67     - fare_category - 2\n",
    "        -- Fare : 21.67 to 39.68     - fare_category - 3\n",
    "        -- Fare : > 39.68            - fare_category - 4\n",
    "\n",
    "* fare ranges obtained from the below table columns description\n",
    "       \n",
    "**Once we get the fare_category column, let's delete the original Fare column as that would now be redundant."
   ]
  },
  {
   "cell_type": "code",
   "execution_count": 56,
   "metadata": {},
   "outputs": [
    {
     "data": {
      "text/plain": [
       "count    891.000000\n",
       "mean      32.204208\n",
       "std       49.693429\n",
       "min        0.000000\n",
       "20%        7.854200\n",
       "40%       10.500000\n",
       "50%       14.454200\n",
       "60%       21.679200\n",
       "80%       39.687500\n",
       "max      512.329200\n",
       "Name: Fare, dtype: float64"
      ]
     },
     "execution_count": 56,
     "metadata": {},
     "output_type": "execute_result"
    }
   ],
   "source": [
    "titanic_data.Fare.describe(percentiles = [.20, .40, .60, .80])"
   ]
  },
  {
   "cell_type": "code",
   "execution_count": 57,
   "metadata": {},
   "outputs": [
    {
     "data": {
      "text/html": [
       "<div>\n",
       "<style scoped>\n",
       "    .dataframe tbody tr th:only-of-type {\n",
       "        vertical-align: middle;\n",
       "    }\n",
       "\n",
       "    .dataframe tbody tr th {\n",
       "        vertical-align: top;\n",
       "    }\n",
       "\n",
       "    .dataframe thead th {\n",
       "        text-align: right;\n",
       "    }\n",
       "</style>\n",
       "<table border=\"1\" class=\"dataframe\">\n",
       "  <thead>\n",
       "    <tr style=\"text-align: right;\">\n",
       "      <th></th>\n",
       "      <th>Survived</th>\n",
       "      <th>Pclass</th>\n",
       "      <th>Sex</th>\n",
       "      <th>Embarked</th>\n",
       "      <th>deck</th>\n",
       "      <th>salutation</th>\n",
       "      <th>familysize</th>\n",
       "      <th>age_category</th>\n",
       "      <th>fare_category</th>\n",
       "    </tr>\n",
       "  </thead>\n",
       "  <tbody>\n",
       "    <tr>\n",
       "      <th>0</th>\n",
       "      <td>0</td>\n",
       "      <td>3</td>\n",
       "      <td>male</td>\n",
       "      <td>S</td>\n",
       "      <td>Z</td>\n",
       "      <td>Mr</td>\n",
       "      <td>1</td>\n",
       "      <td>1</td>\n",
       "      <td>0</td>\n",
       "    </tr>\n",
       "    <tr>\n",
       "      <th>1</th>\n",
       "      <td>1</td>\n",
       "      <td>1</td>\n",
       "      <td>female</td>\n",
       "      <td>C</td>\n",
       "      <td>C</td>\n",
       "      <td>Mrs</td>\n",
       "      <td>1</td>\n",
       "      <td>2</td>\n",
       "      <td>4</td>\n",
       "    </tr>\n",
       "    <tr>\n",
       "      <th>2</th>\n",
       "      <td>1</td>\n",
       "      <td>3</td>\n",
       "      <td>female</td>\n",
       "      <td>S</td>\n",
       "      <td>Z</td>\n",
       "      <td>Miss</td>\n",
       "      <td>0</td>\n",
       "      <td>1</td>\n",
       "      <td>1</td>\n",
       "    </tr>\n",
       "    <tr>\n",
       "      <th>3</th>\n",
       "      <td>1</td>\n",
       "      <td>1</td>\n",
       "      <td>female</td>\n",
       "      <td>S</td>\n",
       "      <td>C</td>\n",
       "      <td>Mrs</td>\n",
       "      <td>1</td>\n",
       "      <td>2</td>\n",
       "      <td>4</td>\n",
       "    </tr>\n",
       "    <tr>\n",
       "      <th>4</th>\n",
       "      <td>0</td>\n",
       "      <td>3</td>\n",
       "      <td>male</td>\n",
       "      <td>S</td>\n",
       "      <td>Z</td>\n",
       "      <td>Mr</td>\n",
       "      <td>0</td>\n",
       "      <td>2</td>\n",
       "      <td>1</td>\n",
       "    </tr>\n",
       "  </tbody>\n",
       "</table>\n",
       "</div>"
      ],
      "text/plain": [
       "   Survived  Pclass     Sex Embarked deck salutation  familysize  age_category  fare_category\n",
       "0         0       3    male        S    Z         Mr           1             1              0\n",
       "1         1       1  female        C    C        Mrs           1             2              4\n",
       "2         1       3  female        S    Z       Miss           0             1              1\n",
       "3         1       1  female        S    C        Mrs           1             2              4\n",
       "4         0       3    male        S    Z         Mr           0             2              1"
      ]
     },
     "execution_count": 57,
     "metadata": {},
     "output_type": "execute_result"
    }
   ],
   "source": [
    "# train set\n",
    "\n",
    "titanic_data['fare_category'] = 0\n",
    "titanic_data.loc[titanic_data['Fare'] <= 7.85,'fare_category'] = 0\n",
    "titanic_data.loc[(titanic_data['Fare'] > 7.85) & (titanic_data['Fare'] <= 10.50),'fare_category'] = 1\n",
    "titanic_data.loc[(titanic_data['Fare'] > 10.50) & (titanic_data['Fare'] <= 21.67),'fare_category'] = 2\n",
    "titanic_data.loc[(titanic_data['Fare'] > 21.67) & (titanic_data['Fare'] <= 39.68),'fare_category'] = 3\n",
    "titanic_data.loc[(titanic_data['Fare'] > 39.68),'fare_category'] = 4\n",
    "\n",
    "# dropping the 'Age' feature\n",
    "titanic_data.drop(['Fare'], axis = 1, inplace = True)\n",
    "\n",
    "# data glimpse\n",
    "titanic_data.head()"
   ]
  },
  {
   "cell_type": "code",
   "execution_count": 58,
   "metadata": {},
   "outputs": [
    {
     "data": {
      "text/html": [
       "<div>\n",
       "<style scoped>\n",
       "    .dataframe tbody tr th:only-of-type {\n",
       "        vertical-align: middle;\n",
       "    }\n",
       "\n",
       "    .dataframe tbody tr th {\n",
       "        vertical-align: top;\n",
       "    }\n",
       "\n",
       "    .dataframe thead th {\n",
       "        text-align: right;\n",
       "    }\n",
       "</style>\n",
       "<table border=\"1\" class=\"dataframe\">\n",
       "  <thead>\n",
       "    <tr style=\"text-align: right;\">\n",
       "      <th></th>\n",
       "      <th>Pclass</th>\n",
       "      <th>Sex</th>\n",
       "      <th>Embarked</th>\n",
       "      <th>deck</th>\n",
       "      <th>salutation</th>\n",
       "      <th>familysize</th>\n",
       "      <th>age_category</th>\n",
       "      <th>fare_category</th>\n",
       "    </tr>\n",
       "  </thead>\n",
       "  <tbody>\n",
       "    <tr>\n",
       "      <th>0</th>\n",
       "      <td>3</td>\n",
       "      <td>male</td>\n",
       "      <td>Q</td>\n",
       "      <td>Z</td>\n",
       "      <td>Mr</td>\n",
       "      <td>0</td>\n",
       "      <td>2</td>\n",
       "      <td>0</td>\n",
       "    </tr>\n",
       "    <tr>\n",
       "      <th>1</th>\n",
       "      <td>3</td>\n",
       "      <td>female</td>\n",
       "      <td>S</td>\n",
       "      <td>Z</td>\n",
       "      <td>Mrs</td>\n",
       "      <td>1</td>\n",
       "      <td>3</td>\n",
       "      <td>0</td>\n",
       "    </tr>\n",
       "    <tr>\n",
       "      <th>2</th>\n",
       "      <td>2</td>\n",
       "      <td>male</td>\n",
       "      <td>Q</td>\n",
       "      <td>Z</td>\n",
       "      <td>Mr</td>\n",
       "      <td>0</td>\n",
       "      <td>4</td>\n",
       "      <td>1</td>\n",
       "    </tr>\n",
       "    <tr>\n",
       "      <th>3</th>\n",
       "      <td>3</td>\n",
       "      <td>male</td>\n",
       "      <td>S</td>\n",
       "      <td>Z</td>\n",
       "      <td>Mr</td>\n",
       "      <td>0</td>\n",
       "      <td>1</td>\n",
       "      <td>1</td>\n",
       "    </tr>\n",
       "    <tr>\n",
       "      <th>4</th>\n",
       "      <td>3</td>\n",
       "      <td>female</td>\n",
       "      <td>S</td>\n",
       "      <td>Z</td>\n",
       "      <td>Mrs</td>\n",
       "      <td>2</td>\n",
       "      <td>1</td>\n",
       "      <td>2</td>\n",
       "    </tr>\n",
       "  </tbody>\n",
       "</table>\n",
       "</div>"
      ],
      "text/plain": [
       "   Pclass     Sex Embarked deck salutation  familysize  age_category  fare_category\n",
       "0       3    male        Q    Z         Mr           0             2              0\n",
       "1       3  female        S    Z        Mrs           1             3              0\n",
       "2       2    male        Q    Z         Mr           0             4              1\n",
       "3       3    male        S    Z         Mr           0             1              1\n",
       "4       3  female        S    Z        Mrs           2             1              2"
      ]
     },
     "execution_count": 58,
     "metadata": {},
     "output_type": "execute_result"
    }
   ],
   "source": [
    "# test set\n",
    "\n",
    "titanic_test_data['fare_category'] = 0\n",
    "titanic_test_data.loc[titanic_test_data['Fare'] <= 7.85,'fare_category'] = 0\n",
    "titanic_test_data.loc[(titanic_test_data['Fare'] > 7.85) & (titanic_test_data['Fare'] <= 10.50),'fare_category'] = 1\n",
    "titanic_test_data.loc[(titanic_test_data['Fare'] > 10.50) & (titanic_test_data['Fare'] <= 21.67),'fare_category'] = 2\n",
    "titanic_test_data.loc[(titanic_test_data['Fare'] > 21.67) & (titanic_test_data['Fare'] <= 39.68),'fare_category'] = 3\n",
    "titanic_test_data.loc[(titanic_test_data['Fare'] > 39.68),'fare_category'] = 4\n",
    "\n",
    "# dropping the 'Age' feature\n",
    "titanic_test_data.drop(['Fare'], axis = 1, inplace = True)\n",
    "\n",
    "# data glimpse\n",
    "titanic_test_data.head()"
   ]
  },
  {
   "cell_type": "markdown",
   "metadata": {},
   "source": [
    "### 3. Converting Sex to numerical values - 0 and 1\n",
    "\n",
    "    -- 1 - Male\n",
    "    -- 0 - Female"
   ]
  },
  {
   "cell_type": "code",
   "execution_count": 59,
   "metadata": {},
   "outputs": [
    {
     "data": {
      "text/html": [
       "<div>\n",
       "<style scoped>\n",
       "    .dataframe tbody tr th:only-of-type {\n",
       "        vertical-align: middle;\n",
       "    }\n",
       "\n",
       "    .dataframe tbody tr th {\n",
       "        vertical-align: top;\n",
       "    }\n",
       "\n",
       "    .dataframe thead th {\n",
       "        text-align: right;\n",
       "    }\n",
       "</style>\n",
       "<table border=\"1\" class=\"dataframe\">\n",
       "  <thead>\n",
       "    <tr style=\"text-align: right;\">\n",
       "      <th></th>\n",
       "      <th>Survived</th>\n",
       "      <th>Pclass</th>\n",
       "      <th>Sex</th>\n",
       "      <th>Embarked</th>\n",
       "      <th>deck</th>\n",
       "      <th>salutation</th>\n",
       "      <th>familysize</th>\n",
       "      <th>age_category</th>\n",
       "      <th>fare_category</th>\n",
       "    </tr>\n",
       "  </thead>\n",
       "  <tbody>\n",
       "    <tr>\n",
       "      <th>0</th>\n",
       "      <td>0</td>\n",
       "      <td>3</td>\n",
       "      <td>1</td>\n",
       "      <td>S</td>\n",
       "      <td>Z</td>\n",
       "      <td>Mr</td>\n",
       "      <td>1</td>\n",
       "      <td>1</td>\n",
       "      <td>0</td>\n",
       "    </tr>\n",
       "    <tr>\n",
       "      <th>1</th>\n",
       "      <td>1</td>\n",
       "      <td>1</td>\n",
       "      <td>0</td>\n",
       "      <td>C</td>\n",
       "      <td>C</td>\n",
       "      <td>Mrs</td>\n",
       "      <td>1</td>\n",
       "      <td>2</td>\n",
       "      <td>4</td>\n",
       "    </tr>\n",
       "    <tr>\n",
       "      <th>2</th>\n",
       "      <td>1</td>\n",
       "      <td>3</td>\n",
       "      <td>0</td>\n",
       "      <td>S</td>\n",
       "      <td>Z</td>\n",
       "      <td>Miss</td>\n",
       "      <td>0</td>\n",
       "      <td>1</td>\n",
       "      <td>1</td>\n",
       "    </tr>\n",
       "    <tr>\n",
       "      <th>3</th>\n",
       "      <td>1</td>\n",
       "      <td>1</td>\n",
       "      <td>0</td>\n",
       "      <td>S</td>\n",
       "      <td>C</td>\n",
       "      <td>Mrs</td>\n",
       "      <td>1</td>\n",
       "      <td>2</td>\n",
       "      <td>4</td>\n",
       "    </tr>\n",
       "    <tr>\n",
       "      <th>4</th>\n",
       "      <td>0</td>\n",
       "      <td>3</td>\n",
       "      <td>1</td>\n",
       "      <td>S</td>\n",
       "      <td>Z</td>\n",
       "      <td>Mr</td>\n",
       "      <td>0</td>\n",
       "      <td>2</td>\n",
       "      <td>1</td>\n",
       "    </tr>\n",
       "  </tbody>\n",
       "</table>\n",
       "</div>"
      ],
      "text/plain": [
       "   Survived  Pclass  Sex Embarked deck salutation  familysize  age_category  fare_category\n",
       "0         0       3    1        S    Z         Mr           1             1              0\n",
       "1         1       1    0        C    C        Mrs           1             2              4\n",
       "2         1       3    0        S    Z       Miss           0             1              1\n",
       "3         1       1    0        S    C        Mrs           1             2              4\n",
       "4         0       3    1        S    Z         Mr           0             2              1"
      ]
     },
     "execution_count": 59,
     "metadata": {},
     "output_type": "execute_result"
    }
   ],
   "source": [
    "titanic_data['Sex'] = titanic_data.Sex.map({'female':0, 'male':1})\n",
    "\n",
    "# data glimpse\n",
    "titanic_data.head()"
   ]
  },
  {
   "cell_type": "code",
   "execution_count": 60,
   "metadata": {},
   "outputs": [
    {
     "data": {
      "text/html": [
       "<div>\n",
       "<style scoped>\n",
       "    .dataframe tbody tr th:only-of-type {\n",
       "        vertical-align: middle;\n",
       "    }\n",
       "\n",
       "    .dataframe tbody tr th {\n",
       "        vertical-align: top;\n",
       "    }\n",
       "\n",
       "    .dataframe thead th {\n",
       "        text-align: right;\n",
       "    }\n",
       "</style>\n",
       "<table border=\"1\" class=\"dataframe\">\n",
       "  <thead>\n",
       "    <tr style=\"text-align: right;\">\n",
       "      <th></th>\n",
       "      <th>Pclass</th>\n",
       "      <th>Sex</th>\n",
       "      <th>Embarked</th>\n",
       "      <th>deck</th>\n",
       "      <th>salutation</th>\n",
       "      <th>familysize</th>\n",
       "      <th>age_category</th>\n",
       "      <th>fare_category</th>\n",
       "    </tr>\n",
       "  </thead>\n",
       "  <tbody>\n",
       "    <tr>\n",
       "      <th>0</th>\n",
       "      <td>3</td>\n",
       "      <td>1</td>\n",
       "      <td>Q</td>\n",
       "      <td>Z</td>\n",
       "      <td>Mr</td>\n",
       "      <td>0</td>\n",
       "      <td>2</td>\n",
       "      <td>0</td>\n",
       "    </tr>\n",
       "    <tr>\n",
       "      <th>1</th>\n",
       "      <td>3</td>\n",
       "      <td>0</td>\n",
       "      <td>S</td>\n",
       "      <td>Z</td>\n",
       "      <td>Mrs</td>\n",
       "      <td>1</td>\n",
       "      <td>3</td>\n",
       "      <td>0</td>\n",
       "    </tr>\n",
       "    <tr>\n",
       "      <th>2</th>\n",
       "      <td>2</td>\n",
       "      <td>1</td>\n",
       "      <td>Q</td>\n",
       "      <td>Z</td>\n",
       "      <td>Mr</td>\n",
       "      <td>0</td>\n",
       "      <td>4</td>\n",
       "      <td>1</td>\n",
       "    </tr>\n",
       "    <tr>\n",
       "      <th>3</th>\n",
       "      <td>3</td>\n",
       "      <td>1</td>\n",
       "      <td>S</td>\n",
       "      <td>Z</td>\n",
       "      <td>Mr</td>\n",
       "      <td>0</td>\n",
       "      <td>1</td>\n",
       "      <td>1</td>\n",
       "    </tr>\n",
       "    <tr>\n",
       "      <th>4</th>\n",
       "      <td>3</td>\n",
       "      <td>0</td>\n",
       "      <td>S</td>\n",
       "      <td>Z</td>\n",
       "      <td>Mrs</td>\n",
       "      <td>2</td>\n",
       "      <td>1</td>\n",
       "      <td>2</td>\n",
       "    </tr>\n",
       "  </tbody>\n",
       "</table>\n",
       "</div>"
      ],
      "text/plain": [
       "   Pclass  Sex Embarked deck salutation  familysize  age_category  fare_category\n",
       "0       3    1        Q    Z         Mr           0             2              0\n",
       "1       3    0        S    Z        Mrs           1             3              0\n",
       "2       2    1        Q    Z         Mr           0             4              1\n",
       "3       3    1        S    Z         Mr           0             1              1\n",
       "4       3    0        S    Z        Mrs           2             1              2"
      ]
     },
     "execution_count": 60,
     "metadata": {},
     "output_type": "execute_result"
    }
   ],
   "source": [
    "titanic_test_data['Sex'] = titanic_test_data.Sex.map({'female':0, 'male':1})\n",
    "\n",
    "# data glimpse\n",
    "titanic_test_data.head()"
   ]
  },
  {
   "cell_type": "markdown",
   "metadata": {},
   "source": [
    "### 4. Converting Deck column to Label Encoded columns"
   ]
  },
  {
   "cell_type": "code",
   "execution_count": 61,
   "metadata": {},
   "outputs": [
    {
     "data": {
      "text/html": [
       "<div>\n",
       "<style scoped>\n",
       "    .dataframe tbody tr th:only-of-type {\n",
       "        vertical-align: middle;\n",
       "    }\n",
       "\n",
       "    .dataframe tbody tr th {\n",
       "        vertical-align: top;\n",
       "    }\n",
       "\n",
       "    .dataframe thead th {\n",
       "        text-align: right;\n",
       "    }\n",
       "</style>\n",
       "<table border=\"1\" class=\"dataframe\">\n",
       "  <thead>\n",
       "    <tr style=\"text-align: right;\">\n",
       "      <th></th>\n",
       "      <th>deck_A</th>\n",
       "      <th>deck_B</th>\n",
       "      <th>deck_C</th>\n",
       "      <th>deck_D</th>\n",
       "      <th>deck_E</th>\n",
       "      <th>deck_F</th>\n",
       "      <th>deck_G</th>\n",
       "      <th>deck_Z</th>\n",
       "    </tr>\n",
       "  </thead>\n",
       "  <tbody>\n",
       "    <tr>\n",
       "      <th>0</th>\n",
       "      <td>0</td>\n",
       "      <td>0</td>\n",
       "      <td>0</td>\n",
       "      <td>0</td>\n",
       "      <td>0</td>\n",
       "      <td>0</td>\n",
       "      <td>0</td>\n",
       "      <td>1</td>\n",
       "    </tr>\n",
       "    <tr>\n",
       "      <th>1</th>\n",
       "      <td>0</td>\n",
       "      <td>0</td>\n",
       "      <td>1</td>\n",
       "      <td>0</td>\n",
       "      <td>0</td>\n",
       "      <td>0</td>\n",
       "      <td>0</td>\n",
       "      <td>0</td>\n",
       "    </tr>\n",
       "    <tr>\n",
       "      <th>2</th>\n",
       "      <td>0</td>\n",
       "      <td>0</td>\n",
       "      <td>0</td>\n",
       "      <td>0</td>\n",
       "      <td>0</td>\n",
       "      <td>0</td>\n",
       "      <td>0</td>\n",
       "      <td>1</td>\n",
       "    </tr>\n",
       "    <tr>\n",
       "      <th>3</th>\n",
       "      <td>0</td>\n",
       "      <td>0</td>\n",
       "      <td>1</td>\n",
       "      <td>0</td>\n",
       "      <td>0</td>\n",
       "      <td>0</td>\n",
       "      <td>0</td>\n",
       "      <td>0</td>\n",
       "    </tr>\n",
       "    <tr>\n",
       "      <th>4</th>\n",
       "      <td>0</td>\n",
       "      <td>0</td>\n",
       "      <td>0</td>\n",
       "      <td>0</td>\n",
       "      <td>0</td>\n",
       "      <td>0</td>\n",
       "      <td>0</td>\n",
       "      <td>1</td>\n",
       "    </tr>\n",
       "  </tbody>\n",
       "</table>\n",
       "</div>"
      ],
      "text/plain": [
       "   deck_A  deck_B  deck_C  deck_D  deck_E  deck_F  deck_G  deck_Z\n",
       "0       0       0       0       0       0       0       0       1\n",
       "1       0       0       1       0       0       0       0       0\n",
       "2       0       0       0       0       0       0       0       1\n",
       "3       0       0       1       0       0       0       0       0\n",
       "4       0       0       0       0       0       0       0       1"
      ]
     },
     "execution_count": 61,
     "metadata": {},
     "output_type": "execute_result"
    }
   ],
   "source": [
    "# train data\n",
    "\n",
    "# Use get_dummies\n",
    "dummies_for_decks = pd.get_dummies(titanic_data['deck'], prefix = 'deck', drop_first = False)\n",
    "\n",
    "# data glimpse\n",
    "dummies_for_decks.head()"
   ]
  },
  {
   "cell_type": "code",
   "execution_count": 62,
   "metadata": {},
   "outputs": [
    {
     "data": {
      "text/html": [
       "<div>\n",
       "<style scoped>\n",
       "    .dataframe tbody tr th:only-of-type {\n",
       "        vertical-align: middle;\n",
       "    }\n",
       "\n",
       "    .dataframe tbody tr th {\n",
       "        vertical-align: top;\n",
       "    }\n",
       "\n",
       "    .dataframe thead th {\n",
       "        text-align: right;\n",
       "    }\n",
       "</style>\n",
       "<table border=\"1\" class=\"dataframe\">\n",
       "  <thead>\n",
       "    <tr style=\"text-align: right;\">\n",
       "      <th></th>\n",
       "      <th>Survived</th>\n",
       "      <th>Pclass</th>\n",
       "      <th>Sex</th>\n",
       "      <th>Embarked</th>\n",
       "      <th>salutation</th>\n",
       "      <th>familysize</th>\n",
       "      <th>age_category</th>\n",
       "      <th>fare_category</th>\n",
       "      <th>deck_A</th>\n",
       "      <th>deck_B</th>\n",
       "      <th>deck_C</th>\n",
       "      <th>deck_D</th>\n",
       "      <th>deck_E</th>\n",
       "      <th>deck_F</th>\n",
       "      <th>deck_Z</th>\n",
       "    </tr>\n",
       "  </thead>\n",
       "  <tbody>\n",
       "    <tr>\n",
       "      <th>0</th>\n",
       "      <td>0</td>\n",
       "      <td>3</td>\n",
       "      <td>1</td>\n",
       "      <td>S</td>\n",
       "      <td>Mr</td>\n",
       "      <td>1</td>\n",
       "      <td>1</td>\n",
       "      <td>0</td>\n",
       "      <td>0</td>\n",
       "      <td>0</td>\n",
       "      <td>0</td>\n",
       "      <td>0</td>\n",
       "      <td>0</td>\n",
       "      <td>0</td>\n",
       "      <td>1</td>\n",
       "    </tr>\n",
       "    <tr>\n",
       "      <th>1</th>\n",
       "      <td>1</td>\n",
       "      <td>1</td>\n",
       "      <td>0</td>\n",
       "      <td>C</td>\n",
       "      <td>Mrs</td>\n",
       "      <td>1</td>\n",
       "      <td>2</td>\n",
       "      <td>4</td>\n",
       "      <td>0</td>\n",
       "      <td>0</td>\n",
       "      <td>1</td>\n",
       "      <td>0</td>\n",
       "      <td>0</td>\n",
       "      <td>0</td>\n",
       "      <td>0</td>\n",
       "    </tr>\n",
       "    <tr>\n",
       "      <th>2</th>\n",
       "      <td>1</td>\n",
       "      <td>3</td>\n",
       "      <td>0</td>\n",
       "      <td>S</td>\n",
       "      <td>Miss</td>\n",
       "      <td>0</td>\n",
       "      <td>1</td>\n",
       "      <td>1</td>\n",
       "      <td>0</td>\n",
       "      <td>0</td>\n",
       "      <td>0</td>\n",
       "      <td>0</td>\n",
       "      <td>0</td>\n",
       "      <td>0</td>\n",
       "      <td>1</td>\n",
       "    </tr>\n",
       "    <tr>\n",
       "      <th>3</th>\n",
       "      <td>1</td>\n",
       "      <td>1</td>\n",
       "      <td>0</td>\n",
       "      <td>S</td>\n",
       "      <td>Mrs</td>\n",
       "      <td>1</td>\n",
       "      <td>2</td>\n",
       "      <td>4</td>\n",
       "      <td>0</td>\n",
       "      <td>0</td>\n",
       "      <td>1</td>\n",
       "      <td>0</td>\n",
       "      <td>0</td>\n",
       "      <td>0</td>\n",
       "      <td>0</td>\n",
       "    </tr>\n",
       "    <tr>\n",
       "      <th>4</th>\n",
       "      <td>0</td>\n",
       "      <td>3</td>\n",
       "      <td>1</td>\n",
       "      <td>S</td>\n",
       "      <td>Mr</td>\n",
       "      <td>0</td>\n",
       "      <td>2</td>\n",
       "      <td>1</td>\n",
       "      <td>0</td>\n",
       "      <td>0</td>\n",
       "      <td>0</td>\n",
       "      <td>0</td>\n",
       "      <td>0</td>\n",
       "      <td>0</td>\n",
       "      <td>1</td>\n",
       "    </tr>\n",
       "  </tbody>\n",
       "</table>\n",
       "</div>"
      ],
      "text/plain": [
       "   Survived  Pclass  Sex Embarked salutation  familysize  age_category  fare_category  deck_A  deck_B  deck_C  deck_D  deck_E  deck_F  deck_Z\n",
       "0         0       3    1        S         Mr           1             1              0       0       0       0       0       0       0       1\n",
       "1         1       1    0        C        Mrs           1             2              4       0       0       1       0       0       0       0\n",
       "2         1       3    0        S       Miss           0             1              1       0       0       0       0       0       0       1\n",
       "3         1       1    0        S        Mrs           1             2              4       0       0       1       0       0       0       0\n",
       "4         0       3    1        S         Mr           0             2              1       0       0       0       0       0       0       1"
      ]
     },
     "execution_count": 62,
     "metadata": {},
     "output_type": "execute_result"
    }
   ],
   "source": [
    "# lets drop the 'deck_T'column\n",
    "dummies_for_decks.drop(['deck_G'], axis = 1, inplace = True)\n",
    "\n",
    "# Merging to the master data frame \n",
    "titanic_data = titanic_data.join(dummies_for_decks)\n",
    "\n",
    "# dropping the 'deck' column from the master frame\n",
    "titanic_data.drop(['deck'], axis = 1, inplace = True)\n",
    "\n",
    "# data glimpse\n",
    "titanic_data.head()"
   ]
  },
  {
   "cell_type": "code",
   "execution_count": 63,
   "metadata": {},
   "outputs": [
    {
     "data": {
      "text/html": [
       "<div>\n",
       "<style scoped>\n",
       "    .dataframe tbody tr th:only-of-type {\n",
       "        vertical-align: middle;\n",
       "    }\n",
       "\n",
       "    .dataframe tbody tr th {\n",
       "        vertical-align: top;\n",
       "    }\n",
       "\n",
       "    .dataframe thead th {\n",
       "        text-align: right;\n",
       "    }\n",
       "</style>\n",
       "<table border=\"1\" class=\"dataframe\">\n",
       "  <thead>\n",
       "    <tr style=\"text-align: right;\">\n",
       "      <th></th>\n",
       "      <th>deck_A</th>\n",
       "      <th>deck_B</th>\n",
       "      <th>deck_C</th>\n",
       "      <th>deck_D</th>\n",
       "      <th>deck_E</th>\n",
       "      <th>deck_F</th>\n",
       "      <th>deck_G</th>\n",
       "      <th>deck_Z</th>\n",
       "    </tr>\n",
       "  </thead>\n",
       "  <tbody>\n",
       "    <tr>\n",
       "      <th>0</th>\n",
       "      <td>0</td>\n",
       "      <td>0</td>\n",
       "      <td>0</td>\n",
       "      <td>0</td>\n",
       "      <td>0</td>\n",
       "      <td>0</td>\n",
       "      <td>0</td>\n",
       "      <td>1</td>\n",
       "    </tr>\n",
       "    <tr>\n",
       "      <th>1</th>\n",
       "      <td>0</td>\n",
       "      <td>0</td>\n",
       "      <td>0</td>\n",
       "      <td>0</td>\n",
       "      <td>0</td>\n",
       "      <td>0</td>\n",
       "      <td>0</td>\n",
       "      <td>1</td>\n",
       "    </tr>\n",
       "    <tr>\n",
       "      <th>2</th>\n",
       "      <td>0</td>\n",
       "      <td>0</td>\n",
       "      <td>0</td>\n",
       "      <td>0</td>\n",
       "      <td>0</td>\n",
       "      <td>0</td>\n",
       "      <td>0</td>\n",
       "      <td>1</td>\n",
       "    </tr>\n",
       "    <tr>\n",
       "      <th>3</th>\n",
       "      <td>0</td>\n",
       "      <td>0</td>\n",
       "      <td>0</td>\n",
       "      <td>0</td>\n",
       "      <td>0</td>\n",
       "      <td>0</td>\n",
       "      <td>0</td>\n",
       "      <td>1</td>\n",
       "    </tr>\n",
       "    <tr>\n",
       "      <th>4</th>\n",
       "      <td>0</td>\n",
       "      <td>0</td>\n",
       "      <td>0</td>\n",
       "      <td>0</td>\n",
       "      <td>0</td>\n",
       "      <td>0</td>\n",
       "      <td>0</td>\n",
       "      <td>1</td>\n",
       "    </tr>\n",
       "  </tbody>\n",
       "</table>\n",
       "</div>"
      ],
      "text/plain": [
       "   deck_A  deck_B  deck_C  deck_D  deck_E  deck_F  deck_G  deck_Z\n",
       "0       0       0       0       0       0       0       0       1\n",
       "1       0       0       0       0       0       0       0       1\n",
       "2       0       0       0       0       0       0       0       1\n",
       "3       0       0       0       0       0       0       0       1\n",
       "4       0       0       0       0       0       0       0       1"
      ]
     },
     "execution_count": 63,
     "metadata": {},
     "output_type": "execute_result"
    }
   ],
   "source": [
    "# test data\n",
    "\n",
    "# Use get_dummies\n",
    "dummies_for_decks = pd.get_dummies(titanic_test_data['deck'], prefix = 'deck', drop_first = False)\n",
    "\n",
    "# data glimpse\n",
    "dummies_for_decks.head()"
   ]
  },
  {
   "cell_type": "code",
   "execution_count": 64,
   "metadata": {},
   "outputs": [
    {
     "data": {
      "text/html": [
       "<div>\n",
       "<style scoped>\n",
       "    .dataframe tbody tr th:only-of-type {\n",
       "        vertical-align: middle;\n",
       "    }\n",
       "\n",
       "    .dataframe tbody tr th {\n",
       "        vertical-align: top;\n",
       "    }\n",
       "\n",
       "    .dataframe thead th {\n",
       "        text-align: right;\n",
       "    }\n",
       "</style>\n",
       "<table border=\"1\" class=\"dataframe\">\n",
       "  <thead>\n",
       "    <tr style=\"text-align: right;\">\n",
       "      <th></th>\n",
       "      <th>Pclass</th>\n",
       "      <th>Sex</th>\n",
       "      <th>Embarked</th>\n",
       "      <th>salutation</th>\n",
       "      <th>familysize</th>\n",
       "      <th>age_category</th>\n",
       "      <th>fare_category</th>\n",
       "      <th>deck_A</th>\n",
       "      <th>deck_B</th>\n",
       "      <th>deck_C</th>\n",
       "      <th>deck_D</th>\n",
       "      <th>deck_E</th>\n",
       "      <th>deck_F</th>\n",
       "      <th>deck_Z</th>\n",
       "    </tr>\n",
       "  </thead>\n",
       "  <tbody>\n",
       "    <tr>\n",
       "      <th>0</th>\n",
       "      <td>3</td>\n",
       "      <td>1</td>\n",
       "      <td>Q</td>\n",
       "      <td>Mr</td>\n",
       "      <td>0</td>\n",
       "      <td>2</td>\n",
       "      <td>0</td>\n",
       "      <td>0</td>\n",
       "      <td>0</td>\n",
       "      <td>0</td>\n",
       "      <td>0</td>\n",
       "      <td>0</td>\n",
       "      <td>0</td>\n",
       "      <td>1</td>\n",
       "    </tr>\n",
       "    <tr>\n",
       "      <th>1</th>\n",
       "      <td>3</td>\n",
       "      <td>0</td>\n",
       "      <td>S</td>\n",
       "      <td>Mrs</td>\n",
       "      <td>1</td>\n",
       "      <td>3</td>\n",
       "      <td>0</td>\n",
       "      <td>0</td>\n",
       "      <td>0</td>\n",
       "      <td>0</td>\n",
       "      <td>0</td>\n",
       "      <td>0</td>\n",
       "      <td>0</td>\n",
       "      <td>1</td>\n",
       "    </tr>\n",
       "    <tr>\n",
       "      <th>2</th>\n",
       "      <td>2</td>\n",
       "      <td>1</td>\n",
       "      <td>Q</td>\n",
       "      <td>Mr</td>\n",
       "      <td>0</td>\n",
       "      <td>4</td>\n",
       "      <td>1</td>\n",
       "      <td>0</td>\n",
       "      <td>0</td>\n",
       "      <td>0</td>\n",
       "      <td>0</td>\n",
       "      <td>0</td>\n",
       "      <td>0</td>\n",
       "      <td>1</td>\n",
       "    </tr>\n",
       "    <tr>\n",
       "      <th>3</th>\n",
       "      <td>3</td>\n",
       "      <td>1</td>\n",
       "      <td>S</td>\n",
       "      <td>Mr</td>\n",
       "      <td>0</td>\n",
       "      <td>1</td>\n",
       "      <td>1</td>\n",
       "      <td>0</td>\n",
       "      <td>0</td>\n",
       "      <td>0</td>\n",
       "      <td>0</td>\n",
       "      <td>0</td>\n",
       "      <td>0</td>\n",
       "      <td>1</td>\n",
       "    </tr>\n",
       "    <tr>\n",
       "      <th>4</th>\n",
       "      <td>3</td>\n",
       "      <td>0</td>\n",
       "      <td>S</td>\n",
       "      <td>Mrs</td>\n",
       "      <td>2</td>\n",
       "      <td>1</td>\n",
       "      <td>2</td>\n",
       "      <td>0</td>\n",
       "      <td>0</td>\n",
       "      <td>0</td>\n",
       "      <td>0</td>\n",
       "      <td>0</td>\n",
       "      <td>0</td>\n",
       "      <td>1</td>\n",
       "    </tr>\n",
       "  </tbody>\n",
       "</table>\n",
       "</div>"
      ],
      "text/plain": [
       "   Pclass  Sex Embarked salutation  familysize  age_category  fare_category  deck_A  deck_B  deck_C  deck_D  deck_E  deck_F  deck_Z\n",
       "0       3    1        Q         Mr           0             2              0       0       0       0       0       0       0       1\n",
       "1       3    0        S        Mrs           1             3              0       0       0       0       0       0       0       1\n",
       "2       2    1        Q         Mr           0             4              1       0       0       0       0       0       0       1\n",
       "3       3    1        S         Mr           0             1              1       0       0       0       0       0       0       1\n",
       "4       3    0        S        Mrs           2             1              2       0       0       0       0       0       0       1"
      ]
     },
     "execution_count": 64,
     "metadata": {},
     "output_type": "execute_result"
    }
   ],
   "source": [
    "# lets drop the 'deck_T'column\n",
    "dummies_for_decks.drop(['deck_G'], axis = 1, inplace = True)\n",
    "\n",
    "# Merging to the master data frame \n",
    "titanic_test_data = titanic_test_data.join(dummies_for_decks)\n",
    "\n",
    "# dropping the 'deck' column from the master frame\n",
    "titanic_test_data.drop(['deck'], axis = 1, inplace = True)\n",
    "\n",
    "# data glimpse\n",
    "titanic_test_data.head()"
   ]
  },
  {
   "cell_type": "markdown",
   "metadata": {},
   "source": [
    "### 5. Encode the 'Embarked ' column with numbers 0, 1 & 2"
   ]
  },
  {
   "cell_type": "code",
   "execution_count": 65,
   "metadata": {},
   "outputs": [
    {
     "data": {
      "text/html": [
       "<div>\n",
       "<style scoped>\n",
       "    .dataframe tbody tr th:only-of-type {\n",
       "        vertical-align: middle;\n",
       "    }\n",
       "\n",
       "    .dataframe tbody tr th {\n",
       "        vertical-align: top;\n",
       "    }\n",
       "\n",
       "    .dataframe thead th {\n",
       "        text-align: right;\n",
       "    }\n",
       "</style>\n",
       "<table border=\"1\" class=\"dataframe\">\n",
       "  <thead>\n",
       "    <tr style=\"text-align: right;\">\n",
       "      <th></th>\n",
       "      <th>Survived</th>\n",
       "      <th>Pclass</th>\n",
       "      <th>Sex</th>\n",
       "      <th>Embarked</th>\n",
       "      <th>salutation</th>\n",
       "      <th>familysize</th>\n",
       "      <th>age_category</th>\n",
       "      <th>fare_category</th>\n",
       "      <th>deck_A</th>\n",
       "      <th>deck_B</th>\n",
       "      <th>deck_C</th>\n",
       "      <th>deck_D</th>\n",
       "      <th>deck_E</th>\n",
       "      <th>deck_F</th>\n",
       "      <th>deck_Z</th>\n",
       "    </tr>\n",
       "  </thead>\n",
       "  <tbody>\n",
       "    <tr>\n",
       "      <th>0</th>\n",
       "      <td>0</td>\n",
       "      <td>3</td>\n",
       "      <td>1</td>\n",
       "      <td>0</td>\n",
       "      <td>Mr</td>\n",
       "      <td>1</td>\n",
       "      <td>1</td>\n",
       "      <td>0</td>\n",
       "      <td>0</td>\n",
       "      <td>0</td>\n",
       "      <td>0</td>\n",
       "      <td>0</td>\n",
       "      <td>0</td>\n",
       "      <td>0</td>\n",
       "      <td>1</td>\n",
       "    </tr>\n",
       "    <tr>\n",
       "      <th>1</th>\n",
       "      <td>1</td>\n",
       "      <td>1</td>\n",
       "      <td>0</td>\n",
       "      <td>1</td>\n",
       "      <td>Mrs</td>\n",
       "      <td>1</td>\n",
       "      <td>2</td>\n",
       "      <td>4</td>\n",
       "      <td>0</td>\n",
       "      <td>0</td>\n",
       "      <td>1</td>\n",
       "      <td>0</td>\n",
       "      <td>0</td>\n",
       "      <td>0</td>\n",
       "      <td>0</td>\n",
       "    </tr>\n",
       "    <tr>\n",
       "      <th>2</th>\n",
       "      <td>1</td>\n",
       "      <td>3</td>\n",
       "      <td>0</td>\n",
       "      <td>0</td>\n",
       "      <td>Miss</td>\n",
       "      <td>0</td>\n",
       "      <td>1</td>\n",
       "      <td>1</td>\n",
       "      <td>0</td>\n",
       "      <td>0</td>\n",
       "      <td>0</td>\n",
       "      <td>0</td>\n",
       "      <td>0</td>\n",
       "      <td>0</td>\n",
       "      <td>1</td>\n",
       "    </tr>\n",
       "    <tr>\n",
       "      <th>3</th>\n",
       "      <td>1</td>\n",
       "      <td>1</td>\n",
       "      <td>0</td>\n",
       "      <td>0</td>\n",
       "      <td>Mrs</td>\n",
       "      <td>1</td>\n",
       "      <td>2</td>\n",
       "      <td>4</td>\n",
       "      <td>0</td>\n",
       "      <td>0</td>\n",
       "      <td>1</td>\n",
       "      <td>0</td>\n",
       "      <td>0</td>\n",
       "      <td>0</td>\n",
       "      <td>0</td>\n",
       "    </tr>\n",
       "    <tr>\n",
       "      <th>4</th>\n",
       "      <td>0</td>\n",
       "      <td>3</td>\n",
       "      <td>1</td>\n",
       "      <td>0</td>\n",
       "      <td>Mr</td>\n",
       "      <td>0</td>\n",
       "      <td>2</td>\n",
       "      <td>1</td>\n",
       "      <td>0</td>\n",
       "      <td>0</td>\n",
       "      <td>0</td>\n",
       "      <td>0</td>\n",
       "      <td>0</td>\n",
       "      <td>0</td>\n",
       "      <td>1</td>\n",
       "    </tr>\n",
       "  </tbody>\n",
       "</table>\n",
       "</div>"
      ],
      "text/plain": [
       "   Survived  Pclass  Sex  Embarked salutation  familysize  age_category  fare_category  deck_A  deck_B  deck_C  deck_D  deck_E  deck_F  deck_Z\n",
       "0         0       3    1         0         Mr           1             1              0       0       0       0       0       0       0       1\n",
       "1         1       1    0         1        Mrs           1             2              4       0       0       1       0       0       0       0\n",
       "2         1       3    0         0       Miss           0             1              1       0       0       0       0       0       0       1\n",
       "3         1       1    0         0        Mrs           1             2              4       0       0       1       0       0       0       0\n",
       "4         0       3    1         0         Mr           0             2              1       0       0       0       0       0       0       1"
      ]
     },
     "execution_count": 65,
     "metadata": {},
     "output_type": "execute_result"
    }
   ],
   "source": [
    "# train data\n",
    "\n",
    "titanic_data['Embarked'].replace(['S','C','Q'],[0,1,2],inplace=True)\n",
    "\n",
    "#data glimpse\n",
    "titanic_data.head()"
   ]
  },
  {
   "cell_type": "code",
   "execution_count": 66,
   "metadata": {},
   "outputs": [
    {
     "data": {
      "text/html": [
       "<div>\n",
       "<style scoped>\n",
       "    .dataframe tbody tr th:only-of-type {\n",
       "        vertical-align: middle;\n",
       "    }\n",
       "\n",
       "    .dataframe tbody tr th {\n",
       "        vertical-align: top;\n",
       "    }\n",
       "\n",
       "    .dataframe thead th {\n",
       "        text-align: right;\n",
       "    }\n",
       "</style>\n",
       "<table border=\"1\" class=\"dataframe\">\n",
       "  <thead>\n",
       "    <tr style=\"text-align: right;\">\n",
       "      <th></th>\n",
       "      <th>Pclass</th>\n",
       "      <th>Sex</th>\n",
       "      <th>Embarked</th>\n",
       "      <th>salutation</th>\n",
       "      <th>familysize</th>\n",
       "      <th>age_category</th>\n",
       "      <th>fare_category</th>\n",
       "      <th>deck_A</th>\n",
       "      <th>deck_B</th>\n",
       "      <th>deck_C</th>\n",
       "      <th>deck_D</th>\n",
       "      <th>deck_E</th>\n",
       "      <th>deck_F</th>\n",
       "      <th>deck_Z</th>\n",
       "    </tr>\n",
       "  </thead>\n",
       "  <tbody>\n",
       "    <tr>\n",
       "      <th>0</th>\n",
       "      <td>3</td>\n",
       "      <td>1</td>\n",
       "      <td>2</td>\n",
       "      <td>Mr</td>\n",
       "      <td>0</td>\n",
       "      <td>2</td>\n",
       "      <td>0</td>\n",
       "      <td>0</td>\n",
       "      <td>0</td>\n",
       "      <td>0</td>\n",
       "      <td>0</td>\n",
       "      <td>0</td>\n",
       "      <td>0</td>\n",
       "      <td>1</td>\n",
       "    </tr>\n",
       "    <tr>\n",
       "      <th>1</th>\n",
       "      <td>3</td>\n",
       "      <td>0</td>\n",
       "      <td>0</td>\n",
       "      <td>Mrs</td>\n",
       "      <td>1</td>\n",
       "      <td>3</td>\n",
       "      <td>0</td>\n",
       "      <td>0</td>\n",
       "      <td>0</td>\n",
       "      <td>0</td>\n",
       "      <td>0</td>\n",
       "      <td>0</td>\n",
       "      <td>0</td>\n",
       "      <td>1</td>\n",
       "    </tr>\n",
       "    <tr>\n",
       "      <th>2</th>\n",
       "      <td>2</td>\n",
       "      <td>1</td>\n",
       "      <td>2</td>\n",
       "      <td>Mr</td>\n",
       "      <td>0</td>\n",
       "      <td>4</td>\n",
       "      <td>1</td>\n",
       "      <td>0</td>\n",
       "      <td>0</td>\n",
       "      <td>0</td>\n",
       "      <td>0</td>\n",
       "      <td>0</td>\n",
       "      <td>0</td>\n",
       "      <td>1</td>\n",
       "    </tr>\n",
       "    <tr>\n",
       "      <th>3</th>\n",
       "      <td>3</td>\n",
       "      <td>1</td>\n",
       "      <td>0</td>\n",
       "      <td>Mr</td>\n",
       "      <td>0</td>\n",
       "      <td>1</td>\n",
       "      <td>1</td>\n",
       "      <td>0</td>\n",
       "      <td>0</td>\n",
       "      <td>0</td>\n",
       "      <td>0</td>\n",
       "      <td>0</td>\n",
       "      <td>0</td>\n",
       "      <td>1</td>\n",
       "    </tr>\n",
       "    <tr>\n",
       "      <th>4</th>\n",
       "      <td>3</td>\n",
       "      <td>0</td>\n",
       "      <td>0</td>\n",
       "      <td>Mrs</td>\n",
       "      <td>2</td>\n",
       "      <td>1</td>\n",
       "      <td>2</td>\n",
       "      <td>0</td>\n",
       "      <td>0</td>\n",
       "      <td>0</td>\n",
       "      <td>0</td>\n",
       "      <td>0</td>\n",
       "      <td>0</td>\n",
       "      <td>1</td>\n",
       "    </tr>\n",
       "  </tbody>\n",
       "</table>\n",
       "</div>"
      ],
      "text/plain": [
       "   Pclass  Sex  Embarked salutation  familysize  age_category  fare_category  deck_A  deck_B  deck_C  deck_D  deck_E  deck_F  deck_Z\n",
       "0       3    1         2         Mr           0             2              0       0       0       0       0       0       0       1\n",
       "1       3    0         0        Mrs           1             3              0       0       0       0       0       0       0       1\n",
       "2       2    1         2         Mr           0             4              1       0       0       0       0       0       0       1\n",
       "3       3    1         0         Mr           0             1              1       0       0       0       0       0       0       1\n",
       "4       3    0         0        Mrs           2             1              2       0       0       0       0       0       0       1"
      ]
     },
     "execution_count": 66,
     "metadata": {},
     "output_type": "execute_result"
    }
   ],
   "source": [
    "# test data\n",
    "\n",
    "titanic_test_data['Embarked'].replace(['S','C','Q'],[0,1,2],inplace=True)\n",
    "\n",
    "#data glimpse\n",
    "titanic_test_data.head()"
   ]
  },
  {
   "cell_type": "markdown",
   "metadata": {},
   "source": [
    "### 6. Encoding the 'salutation' column values with numbers\n",
    "\n",
    "#### Value_Counts for salutation column\n",
    "    Mr           518\n",
    "    Miss         185\n",
    "    Mrs          129\n",
    "    Master        40\n",
    "    Dr             7\n",
    "    Rev            6\n",
    "    army_rank      5\n",
    "    Don            1"
   ]
  },
  {
   "cell_type": "code",
   "execution_count": 67,
   "metadata": {},
   "outputs": [
    {
     "data": {
      "text/html": [
       "<div>\n",
       "<style scoped>\n",
       "    .dataframe tbody tr th:only-of-type {\n",
       "        vertical-align: middle;\n",
       "    }\n",
       "\n",
       "    .dataframe tbody tr th {\n",
       "        vertical-align: top;\n",
       "    }\n",
       "\n",
       "    .dataframe thead th {\n",
       "        text-align: right;\n",
       "    }\n",
       "</style>\n",
       "<table border=\"1\" class=\"dataframe\">\n",
       "  <thead>\n",
       "    <tr style=\"text-align: right;\">\n",
       "      <th></th>\n",
       "      <th>Survived</th>\n",
       "      <th>Pclass</th>\n",
       "      <th>Sex</th>\n",
       "      <th>Embarked</th>\n",
       "      <th>salutation</th>\n",
       "      <th>familysize</th>\n",
       "      <th>age_category</th>\n",
       "      <th>fare_category</th>\n",
       "      <th>deck_A</th>\n",
       "      <th>deck_B</th>\n",
       "      <th>deck_C</th>\n",
       "      <th>deck_D</th>\n",
       "      <th>deck_E</th>\n",
       "      <th>deck_F</th>\n",
       "      <th>deck_Z</th>\n",
       "    </tr>\n",
       "  </thead>\n",
       "  <tbody>\n",
       "    <tr>\n",
       "      <th>0</th>\n",
       "      <td>0</td>\n",
       "      <td>3</td>\n",
       "      <td>1</td>\n",
       "      <td>0</td>\n",
       "      <td>0</td>\n",
       "      <td>1</td>\n",
       "      <td>1</td>\n",
       "      <td>0</td>\n",
       "      <td>0</td>\n",
       "      <td>0</td>\n",
       "      <td>0</td>\n",
       "      <td>0</td>\n",
       "      <td>0</td>\n",
       "      <td>0</td>\n",
       "      <td>1</td>\n",
       "    </tr>\n",
       "    <tr>\n",
       "      <th>1</th>\n",
       "      <td>1</td>\n",
       "      <td>1</td>\n",
       "      <td>0</td>\n",
       "      <td>1</td>\n",
       "      <td>2</td>\n",
       "      <td>1</td>\n",
       "      <td>2</td>\n",
       "      <td>4</td>\n",
       "      <td>0</td>\n",
       "      <td>0</td>\n",
       "      <td>1</td>\n",
       "      <td>0</td>\n",
       "      <td>0</td>\n",
       "      <td>0</td>\n",
       "      <td>0</td>\n",
       "    </tr>\n",
       "    <tr>\n",
       "      <th>2</th>\n",
       "      <td>1</td>\n",
       "      <td>3</td>\n",
       "      <td>0</td>\n",
       "      <td>0</td>\n",
       "      <td>1</td>\n",
       "      <td>0</td>\n",
       "      <td>1</td>\n",
       "      <td>1</td>\n",
       "      <td>0</td>\n",
       "      <td>0</td>\n",
       "      <td>0</td>\n",
       "      <td>0</td>\n",
       "      <td>0</td>\n",
       "      <td>0</td>\n",
       "      <td>1</td>\n",
       "    </tr>\n",
       "    <tr>\n",
       "      <th>3</th>\n",
       "      <td>1</td>\n",
       "      <td>1</td>\n",
       "      <td>0</td>\n",
       "      <td>0</td>\n",
       "      <td>2</td>\n",
       "      <td>1</td>\n",
       "      <td>2</td>\n",
       "      <td>4</td>\n",
       "      <td>0</td>\n",
       "      <td>0</td>\n",
       "      <td>1</td>\n",
       "      <td>0</td>\n",
       "      <td>0</td>\n",
       "      <td>0</td>\n",
       "      <td>0</td>\n",
       "    </tr>\n",
       "    <tr>\n",
       "      <th>4</th>\n",
       "      <td>0</td>\n",
       "      <td>3</td>\n",
       "      <td>1</td>\n",
       "      <td>0</td>\n",
       "      <td>0</td>\n",
       "      <td>0</td>\n",
       "      <td>2</td>\n",
       "      <td>1</td>\n",
       "      <td>0</td>\n",
       "      <td>0</td>\n",
       "      <td>0</td>\n",
       "      <td>0</td>\n",
       "      <td>0</td>\n",
       "      <td>0</td>\n",
       "      <td>1</td>\n",
       "    </tr>\n",
       "  </tbody>\n",
       "</table>\n",
       "</div>"
      ],
      "text/plain": [
       "   Survived  Pclass  Sex  Embarked  salutation  familysize  age_category  fare_category  deck_A  deck_B  deck_C  deck_D  deck_E  deck_F  deck_Z\n",
       "0         0       3    1         0           0           1             1              0       0       0       0       0       0       0       1\n",
       "1         1       1    0         1           2           1             2              4       0       0       1       0       0       0       0\n",
       "2         1       3    0         0           1           0             1              1       0       0       0       0       0       0       1\n",
       "3         1       1    0         0           2           1             2              4       0       0       1       0       0       0       0\n",
       "4         0       3    1         0           0           0             2              1       0       0       0       0       0       0       1"
      ]
     },
     "execution_count": 67,
     "metadata": {},
     "output_type": "execute_result"
    }
   ],
   "source": [
    "# train data\n",
    "\n",
    "# we have a total of 8 different salutation present in the data as seen in the above cell\n",
    "# let's encode these to a number range 0 to 7 - \n",
    "titanic_data['salutation'].replace(['Mr', 'Miss', 'Mrs', 'Master', 'Dr', 'Rev', 'army_rank', 'Don' ],\n",
    "                                   [0, 1, 2, 3, 4, 5, 6, 7], inplace=True)\n",
    "\n",
    "#data glimpse\n",
    "titanic_data.head()"
   ]
  },
  {
   "cell_type": "code",
   "execution_count": 68,
   "metadata": {},
   "outputs": [
    {
     "data": {
      "text/html": [
       "<div>\n",
       "<style scoped>\n",
       "    .dataframe tbody tr th:only-of-type {\n",
       "        vertical-align: middle;\n",
       "    }\n",
       "\n",
       "    .dataframe tbody tr th {\n",
       "        vertical-align: top;\n",
       "    }\n",
       "\n",
       "    .dataframe thead th {\n",
       "        text-align: right;\n",
       "    }\n",
       "</style>\n",
       "<table border=\"1\" class=\"dataframe\">\n",
       "  <thead>\n",
       "    <tr style=\"text-align: right;\">\n",
       "      <th></th>\n",
       "      <th>Pclass</th>\n",
       "      <th>Sex</th>\n",
       "      <th>Embarked</th>\n",
       "      <th>salutation</th>\n",
       "      <th>familysize</th>\n",
       "      <th>age_category</th>\n",
       "      <th>fare_category</th>\n",
       "      <th>deck_A</th>\n",
       "      <th>deck_B</th>\n",
       "      <th>deck_C</th>\n",
       "      <th>deck_D</th>\n",
       "      <th>deck_E</th>\n",
       "      <th>deck_F</th>\n",
       "      <th>deck_Z</th>\n",
       "    </tr>\n",
       "  </thead>\n",
       "  <tbody>\n",
       "    <tr>\n",
       "      <th>0</th>\n",
       "      <td>3</td>\n",
       "      <td>1</td>\n",
       "      <td>2</td>\n",
       "      <td>0</td>\n",
       "      <td>0</td>\n",
       "      <td>2</td>\n",
       "      <td>0</td>\n",
       "      <td>0</td>\n",
       "      <td>0</td>\n",
       "      <td>0</td>\n",
       "      <td>0</td>\n",
       "      <td>0</td>\n",
       "      <td>0</td>\n",
       "      <td>1</td>\n",
       "    </tr>\n",
       "    <tr>\n",
       "      <th>1</th>\n",
       "      <td>3</td>\n",
       "      <td>0</td>\n",
       "      <td>0</td>\n",
       "      <td>2</td>\n",
       "      <td>1</td>\n",
       "      <td>3</td>\n",
       "      <td>0</td>\n",
       "      <td>0</td>\n",
       "      <td>0</td>\n",
       "      <td>0</td>\n",
       "      <td>0</td>\n",
       "      <td>0</td>\n",
       "      <td>0</td>\n",
       "      <td>1</td>\n",
       "    </tr>\n",
       "    <tr>\n",
       "      <th>2</th>\n",
       "      <td>2</td>\n",
       "      <td>1</td>\n",
       "      <td>2</td>\n",
       "      <td>0</td>\n",
       "      <td>0</td>\n",
       "      <td>4</td>\n",
       "      <td>1</td>\n",
       "      <td>0</td>\n",
       "      <td>0</td>\n",
       "      <td>0</td>\n",
       "      <td>0</td>\n",
       "      <td>0</td>\n",
       "      <td>0</td>\n",
       "      <td>1</td>\n",
       "    </tr>\n",
       "    <tr>\n",
       "      <th>3</th>\n",
       "      <td>3</td>\n",
       "      <td>1</td>\n",
       "      <td>0</td>\n",
       "      <td>0</td>\n",
       "      <td>0</td>\n",
       "      <td>1</td>\n",
       "      <td>1</td>\n",
       "      <td>0</td>\n",
       "      <td>0</td>\n",
       "      <td>0</td>\n",
       "      <td>0</td>\n",
       "      <td>0</td>\n",
       "      <td>0</td>\n",
       "      <td>1</td>\n",
       "    </tr>\n",
       "    <tr>\n",
       "      <th>4</th>\n",
       "      <td>3</td>\n",
       "      <td>0</td>\n",
       "      <td>0</td>\n",
       "      <td>2</td>\n",
       "      <td>2</td>\n",
       "      <td>1</td>\n",
       "      <td>2</td>\n",
       "      <td>0</td>\n",
       "      <td>0</td>\n",
       "      <td>0</td>\n",
       "      <td>0</td>\n",
       "      <td>0</td>\n",
       "      <td>0</td>\n",
       "      <td>1</td>\n",
       "    </tr>\n",
       "  </tbody>\n",
       "</table>\n",
       "</div>"
      ],
      "text/plain": [
       "   Pclass  Sex  Embarked  salutation  familysize  age_category  fare_category  deck_A  deck_B  deck_C  deck_D  deck_E  deck_F  deck_Z\n",
       "0       3    1         2           0           0             2              0       0       0       0       0       0       0       1\n",
       "1       3    0         0           2           1             3              0       0       0       0       0       0       0       1\n",
       "2       2    1         2           0           0             4              1       0       0       0       0       0       0       1\n",
       "3       3    1         0           0           0             1              1       0       0       0       0       0       0       1\n",
       "4       3    0         0           2           2             1              2       0       0       0       0       0       0       1"
      ]
     },
     "execution_count": 68,
     "metadata": {},
     "output_type": "execute_result"
    }
   ],
   "source": [
    "# test data\n",
    "\n",
    "# we have a total of 8 different salutation present in the data as seen in the above cell\n",
    "# let's encode these to a number range 0 to 7 - \n",
    "titanic_test_data['salutation'].replace(['Mr', 'Miss', 'Mrs', 'Master', 'Dr', 'Rev', 'army_rank', 'Don' ],\n",
    "                                   [0, 1, 2, 3, 4, 5, 6, 7], inplace=True)\n",
    "\n",
    "#data glimpse\n",
    "titanic_test_data.head()"
   ]
  },
  {
   "cell_type": "markdown",
   "metadata": {},
   "source": [
    "# Model Building"
   ]
  },
  {
   "cell_type": "code",
   "execution_count": 69,
   "metadata": {},
   "outputs": [],
   "source": [
    "# Custom Function to get Scores and plots\n",
    "def get_scores(scores, reg, X_test):\n",
    "    \n",
    "    # Plot ROC and PR curves using all models and test data\n",
    "    fig, axes = plt.subplots(1, 2, figsize = (14, 6))\n",
    "\n",
    "    pred_test = reg.predict(X_test.values)\n",
    "\n",
    "    pred_test_probs = reg.predict_proba(X_test.values)[:, 1:]\n",
    "\n",
    "    fpr, tpr, thresholds = roc_curve(y_test.values.ravel(), pred_test)\n",
    "    p, r, t = precision_recall_curve(y_test.values.ravel(), pred_test_probs)\n",
    "\n",
    "    model_f1_score = f1_score(y_test.values.ravel(), pred_test)\n",
    "    model_precision_score = precision_score(y_test.values.ravel(), pred_test)\n",
    "    model_recall_score = recall_score(y_test.values.ravel(), pred_test)\n",
    "    model_accuracy_score = accuracy_score(y_test.values.ravel(), pred_test)\n",
    "    model_auc_roc = auc(fpr, tpr)\n",
    "    model_auc_pr = auc(p, r, reorder = True)\n",
    "\n",
    "    scores.append((model_f1_score,\n",
    "                   model_precision_score,\n",
    "                   model_recall_score,\n",
    "                   model_accuracy_score,\n",
    "                   model_auc_roc,\n",
    "                   model_auc_pr,\n",
    "                   confusion_matrix(y_test.values.ravel(), pred_test)))\n",
    "\n",
    "    axes[0].plot(fpr, tpr, label = f\"auc_roc = {model_auc_roc:.3f}\")\n",
    "    axes[1].plot(r, p, label = f\"auc_pr = {model_auc_pr:.3f}\")\n",
    "\n",
    "    axes[0].plot([0, 1], [0, 1], 'k--')\n",
    "    axes[0].legend(loc = \"lower right\")\n",
    "    axes[0].set_xlabel(\"False Positive Rate\")\n",
    "    axes[0].set_ylabel(\"True Positive Rate\")\n",
    "    axes[0].set_title(\"AUC ROC curve\")\n",
    "\n",
    "    axes[1].legend(loc = \"lower right\")\n",
    "    axes[1].set_xlabel(\"recall\")\n",
    "    axes[1].set_ylabel(\"precision\")\n",
    "    axes[1].set_title(\"PR curve\")\n",
    "\n",
    "    plt.tight_layout()\n",
    "    plt.show()\n",
    "    \n",
    "    return scores"
   ]
  },
  {
   "cell_type": "code",
   "execution_count": 70,
   "metadata": {},
   "outputs": [],
   "source": [
    "# Custom Function for hyper parameter tuning\n",
    "\n",
    "def tune_hyper_parameter(X, y, param_grid, model_type, ml = 'None'):\n",
    "   \n",
    "    gc = GridSearchCV(estimator = ml, param_grid = param_grid, scoring = 'roc_auc',\n",
    "                          n_jobs = 15, cv = 5, verbose = 2)\n",
    "    \n",
    "    gc = gc.fit(X.values, y.values.ravel())\n",
    "\n",
    "    return gc"
   ]
  },
  {
   "cell_type": "code",
   "execution_count": 71,
   "metadata": {},
   "outputs": [],
   "source": [
    "# Custom Function to plot GridSearch Result to get the best value\n",
    "\n",
    "def hypertuning_plot(scores, parameter):\n",
    "    \n",
    "    col = \"param_\" + parameter\n",
    "    \n",
    "    plt.figure()\n",
    "    \n",
    "    plt.plot(scores[col], scores[\"mean_train_score\"], label = \"training accuracy\")\n",
    "    plt.plot(scores[col], scores[\"mean_test_score\"], label = \"test accuracy\")\n",
    "    \n",
    "    plt.xlabel(parameter)\n",
    "    plt.ylabel(\"Accuracy\")\n",
    "    \n",
    "    plt.legend()\n",
    "    plt.show()"
   ]
  },
  {
   "cell_type": "markdown",
   "metadata": {},
   "source": [
    "## Test Train Split"
   ]
  },
  {
   "cell_type": "code",
   "execution_count": 72,
   "metadata": {},
   "outputs": [
    {
     "name": "stdout",
     "output_type": "stream",
     "text": [
      "(757, 14)\n",
      "(757, 1)\n",
      "(134, 14)\n",
      "(134, 1)\n"
     ]
    }
   ],
   "source": [
    "X = titanic_data.drop('Survived', axis = 1)\n",
    "y = titanic_data[['Survived']]\n",
    "\n",
    "X_train, X_test, y_train, y_test = train_test_split(X, y, train_size = 0.85, test_size = 0.15, random_state = 100)\n",
    "\n",
    "print(X_train.shape)\n",
    "print(y_train.shape)\n",
    "print(X_test.shape)\n",
    "print(y_test.shape)"
   ]
  },
  {
   "cell_type": "markdown",
   "metadata": {},
   "source": [
    "## 1. XG Boost Model\n",
    "\n",
    "### Default Parameters"
   ]
  },
  {
   "cell_type": "code",
   "execution_count": 73,
   "metadata": {},
   "outputs": [
    {
     "data": {
      "image/png": "[encoded data removed]",
      "text/plain": [
       "<Figure size 1008x432 with 2 Axes>"
      ]
     },
     "metadata": {
      "needs_background": "light"
     },
     "output_type": "display_data"
    },
    {
     "data": {
      "text/html": [
       "<div>\n",
       "<style scoped>\n",
       "    .dataframe tbody tr th:only-of-type {\n",
       "        vertical-align: middle;\n",
       "    }\n",
       "\n",
       "    .dataframe tbody tr th {\n",
       "        vertical-align: top;\n",
       "    }\n",
       "\n",
       "    .dataframe thead th {\n",
       "        text-align: right;\n",
       "    }\n",
       "</style>\n",
       "<table border=\"1\" class=\"dataframe\">\n",
       "  <thead>\n",
       "    <tr style=\"text-align: right;\">\n",
       "      <th></th>\n",
       "      <th>f1</th>\n",
       "      <th>precision</th>\n",
       "      <th>recall</th>\n",
       "      <th>accuracy</th>\n",
       "      <th>auc_roc</th>\n",
       "      <th>auc_pr</th>\n",
       "      <th>confusion_matrix</th>\n",
       "    </tr>\n",
       "  </thead>\n",
       "  <tbody>\n",
       "    <tr>\n",
       "      <th>0</th>\n",
       "      <td>0.75</td>\n",
       "      <td>0.857143</td>\n",
       "      <td>0.666667</td>\n",
       "      <td>0.820896</td>\n",
       "      <td>0.795833</td>\n",
       "      <td>0.437814</td>\n",
       "      <td>[[74, 6], [18, 36]]</td>\n",
       "    </tr>\n",
       "  </tbody>\n",
       "</table>\n",
       "</div>"
      ],
      "text/plain": [
       "     f1  precision    recall  accuracy   auc_roc    auc_pr     confusion_matrix\n",
       "0  0.75   0.857143  0.666667  0.820896  0.795833  0.437814  [[74, 6], [18, 36]]"
      ]
     },
     "execution_count": 73,
     "metadata": {},
     "output_type": "execute_result"
    }
   ],
   "source": [
    "# XGBoost with Default Parameters\n",
    "\n",
    "xgb = XGBClassifier(n_jobs = -1, random_state = 100)\n",
    "\n",
    "xgb = xgb.fit(X_train.values, y_train.values.ravel())\n",
    "\n",
    "# Get the Score Metrics and plots\n",
    "scores = []\n",
    "\n",
    "scores = get_scores(scores, xgb, X_test)\n",
    "\n",
    "# Tabulate results\n",
    "sampling_results = pd.DataFrame(scores, columns = ['f1', 'precision', 'recall', 'accuracy',\n",
    "                                                   'auc_roc', 'auc_pr', 'confusion_matrix'])\n",
    "sampling_results"
   ]
  },
  {
   "cell_type": "markdown",
   "metadata": {},
   "source": [
    "## Hyperparameter Tuning for XGBoost\n",
    "\n",
    "#### XGBoost - HyperTuning max_depth"
   ]
  },
  {
   "cell_type": "code",
   "execution_count": 74,
   "metadata": {},
   "outputs": [
    {
     "name": "stdout",
     "output_type": "stream",
     "text": [
      "Fitting 5 folds for each of 36 candidates, totalling 180 fits\n"
     ]
    },
    {
     "name": "stderr",
     "output_type": "stream",
     "text": [
      "[Parallel(n_jobs=15)]: Using backend LokyBackend with 15 concurrent workers.\n",
      "[Parallel(n_jobs=15)]: Done  11 tasks      | elapsed:   11.0s\n",
      "[Parallel(n_jobs=15)]: Done 132 tasks      | elapsed:   16.7s\n",
      "[Parallel(n_jobs=15)]: Done 180 out of 180 | elapsed:   18.5s finished\n"
     ]
    },
    {
     "data": {
      "image/png": "[encoded data removed]",
      "text/plain": [
       "<Figure size 432x288 with 1 Axes>"
      ]
     },
     "metadata": {
      "needs_background": "light"
     },
     "output_type": "display_data"
    },
    {
     "data": {
      "text/plain": [
       "{'max_depth': 4}"
      ]
     },
     "execution_count": 74,
     "metadata": {},
     "output_type": "execute_result"
    }
   ],
   "source": [
    "# GridSearchCV to find optimal max_depth\n",
    "\n",
    "xgb = XGBClassifier(n_jobs = -1, random_state = 100)\n",
    "\n",
    "parameter = 'max_depth'\n",
    "\n",
    "param_grid = {parameter: range(4, 40)}\n",
    "\n",
    "gcv = tune_hyper_parameter(X_train, y_train, param_grid, 'Individual', xgb)\n",
    "    \n",
    "# scores of GridSearch CV\n",
    "scores = gcv.cv_results_\n",
    "\n",
    "# Plot the scores\n",
    "hypertuning_plot(scores, parameter)\n",
    "\n",
    "# Get the best value\n",
    "gcv.best_params_"
   ]
  },
  {
   "cell_type": "markdown",
   "metadata": {},
   "source": [
    "#### XGBoost - HyperTuning learning_rate"
   ]
  },
  {
   "cell_type": "code",
   "execution_count": 75,
   "metadata": {},
   "outputs": [
    {
     "name": "stdout",
     "output_type": "stream",
     "text": [
      "Fitting 5 folds for each of 9 candidates, totalling 45 fits\n"
     ]
    },
    {
     "name": "stderr",
     "output_type": "stream",
     "text": [
      "[Parallel(n_jobs=15)]: Using backend LokyBackend with 15 concurrent workers.\n",
      "[Parallel(n_jobs=15)]: Done  11 tasks      | elapsed:    0.3s\n",
      "[Parallel(n_jobs=15)]: Done  39 out of  45 | elapsed:    0.8s remaining:    0.0s\n",
      "[Parallel(n_jobs=15)]: Done  45 out of  45 | elapsed:    0.9s finished\n"
     ]
    },
    {
     "data": {
      "image/png": "[encoded data removed]",
      "text/plain": [
       "<Figure size 432x288 with 1 Axes>"
      ]
     },
     "metadata": {
      "needs_background": "light"
     },
     "output_type": "display_data"
    },
    {
     "data": {
      "text/plain": [
       "{'learning_rate': 0.1}"
      ]
     },
     "execution_count": 75,
     "metadata": {},
     "output_type": "execute_result"
    }
   ],
   "source": [
    "# GridSearchCV to find optimal learning_rate\n",
    "\n",
    "xgb = XGBClassifier(max_depth = 4, n_jobs = -1, random_state = 100)\n",
    "\n",
    "parameter = 'learning_rate'\n",
    "\n",
    "param_grid = {parameter: [0.001, 0.01, 0.1, 0.2, 0.3, 0.6, 0.9, 0.95, 0.99]}\n",
    "\n",
    "gc = tune_hyper_parameter(X_train, y_train, param_grid, 'Individual', xgb)\n",
    "    \n",
    "# scores of GridSearch CV\n",
    "scores = gc.cv_results_\n",
    "\n",
    "# Plot the scores\n",
    "hypertuning_plot(scores, parameter)\n",
    "\n",
    "# Get the best value\n",
    "gc.best_params_"
   ]
  },
  {
   "cell_type": "markdown",
   "metadata": {},
   "source": [
    "#### XGBoost - HyperTuning n_estimators"
   ]
  },
  {
   "cell_type": "code",
   "execution_count": 76,
   "metadata": {},
   "outputs": [
    {
     "name": "stderr",
     "output_type": "stream",
     "text": [
      "[Parallel(n_jobs=15)]: Using backend LokyBackend with 15 concurrent workers.\n"
     ]
    },
    {
     "name": "stdout",
     "output_type": "stream",
     "text": [
      "Fitting 5 folds for each of 10 candidates, totalling 50 fits\n"
     ]
    },
    {
     "name": "stderr",
     "output_type": "stream",
     "text": [
      "[Parallel(n_jobs=15)]: Done  11 tasks      | elapsed:    0.7s\n",
      "[Parallel(n_jobs=15)]: Done  21 out of  50 | elapsed:    1.7s remaining:    2.4s\n",
      "[Parallel(n_jobs=15)]: Done  50 out of  50 | elapsed:    5.6s finished\n"
     ]
    },
    {
     "data": {
      "image/png": "[encoded data removed]",
      "text/plain": [
       "<Figure size 432x288 with 1 Axes>"
      ]
     },
     "metadata": {
      "needs_background": "light"
     },
     "output_type": "display_data"
    },
    {
     "data": {
      "text/plain": [
       "{'n_estimators': 100}"
      ]
     },
     "execution_count": 76,
     "metadata": {},
     "output_type": "execute_result"
    }
   ],
   "source": [
    "# GridSearchCV to find optimal n_estimators\n",
    "\n",
    "xgb = XGBClassifier(max_depth = 4, learning_rate = 0.1, n_jobs = -1, random_state = 100)\n",
    "\n",
    "parameter = 'n_estimators'\n",
    "\n",
    "param_grid = {parameter: range(100, 1100, 100)}\n",
    "\n",
    "gc = tune_hyper_parameter(X_train, y_train, param_grid, 'Individual', xgb)\n",
    "    \n",
    "# scores of GridSearch CV\n",
    "scores = gc.cv_results_\n",
    "\n",
    "# Plot the scores\n",
    "hypertuning_plot(scores, parameter)\n",
    "\n",
    "# Get the best value\n",
    "gc.best_params_"
   ]
  },
  {
   "cell_type": "markdown",
   "metadata": {},
   "source": [
    "#### XGBoost - HyperTuning min_child_weight"
   ]
  },
  {
   "cell_type": "code",
   "execution_count": 77,
   "metadata": {},
   "outputs": [
    {
     "name": "stdout",
     "output_type": "stream",
     "text": [
      "Fitting 5 folds for each of 10 candidates, totalling 50 fits\n"
     ]
    },
    {
     "name": "stderr",
     "output_type": "stream",
     "text": [
      "[Parallel(n_jobs=15)]: Using backend LokyBackend with 15 concurrent workers.\n",
      "[Parallel(n_jobs=15)]: Done  11 tasks      | elapsed:    0.3s\n",
      "[Parallel(n_jobs=15)]: Done  47 out of  50 | elapsed:    0.9s remaining:    0.0s\n",
      "[Parallel(n_jobs=15)]: Done  50 out of  50 | elapsed:    1.0s finished\n"
     ]
    },
    {
     "data": {
      "image/png": "[encoded data removed]",
      "text/plain": [
       "<Figure size 432x288 with 1 Axes>"
      ]
     },
     "metadata": {
      "needs_background": "light"
     },
     "output_type": "display_data"
    },
    {
     "data": {
      "text/plain": [
       "{'min_child_weight': 1}"
      ]
     },
     "execution_count": 77,
     "metadata": {},
     "output_type": "execute_result"
    }
   ],
   "source": [
    "# GridSearchCV to find optimal min_child_weight\n",
    "\n",
    "xgb = XGBClassifier(max_depth = 4, learning_rate = 0.1, n_estimators = 100, n_jobs = -1, random_state = 100)\n",
    "\n",
    "parameter = 'min_child_weight'\n",
    "\n",
    "param_grid = {parameter: range(1, 11)}\n",
    "\n",
    "gc = tune_hyper_parameter(X_train, y_train, param_grid, 'Individual', xgb)\n",
    "    \n",
    "# scores of GridSearch CV\n",
    "scores = gc.cv_results_\n",
    "\n",
    "# Plot the scores\n",
    "hypertuning_plot(scores, parameter)\n",
    "\n",
    "# Get the best value\n",
    "gc.best_params_"
   ]
  },
  {
   "cell_type": "markdown",
   "metadata": {},
   "source": [
    "#### XGBoost - HyperTuning subsample"
   ]
  },
  {
   "cell_type": "code",
   "execution_count": 78,
   "metadata": {},
   "outputs": [
    {
     "name": "stdout",
     "output_type": "stream",
     "text": [
      "Fitting 5 folds for each of 10 candidates, totalling 50 fits\n"
     ]
    },
    {
     "name": "stderr",
     "output_type": "stream",
     "text": [
      "[Parallel(n_jobs=15)]: Using backend LokyBackend with 15 concurrent workers.\n",
      "[Parallel(n_jobs=15)]: Done  21 out of  50 | elapsed:    0.3s remaining:    0.5s\n",
      "[Parallel(n_jobs=15)]: Done  50 out of  50 | elapsed:    1.1s finished\n"
     ]
    },
    {
     "data": {
      "image/png": "[encoded data removed]",
      "text/plain": [
       "<Figure size 432x288 with 1 Axes>"
      ]
     },
     "metadata": {
      "needs_background": "light"
     },
     "output_type": "display_data"
    },
    {
     "data": {
      "text/plain": [
       "{'subsample': 1.0}"
      ]
     },
     "execution_count": 78,
     "metadata": {},
     "output_type": "execute_result"
    }
   ],
   "source": [
    "# GridSearchCV to find optimal subsample: \n",
    "\n",
    "xgb = XGBClassifier(max_depth = 4, learning_rate = 0.1, n_estimators = 100, min_child_weight = 8,\n",
    "                    n_jobs = -1, random_state = 100)\n",
    "\n",
    "parameter = 'subsample'\n",
    "\n",
    "param_grid = {parameter: np.arange(0.1, 1.1, 0.1)}\n",
    "\n",
    "gc = tune_hyper_parameter(X_train, y_train, param_grid, 'Individual', xgb)\n",
    "    \n",
    "# scores of GridSearch CV\n",
    "scores = gc.cv_results_\n",
    "\n",
    "# Plot the scores\n",
    "hypertuning_plot(scores, parameter)\n",
    "\n",
    "# Get the best value\n",
    "gc.best_params_"
   ]
  },
  {
   "cell_type": "markdown",
   "metadata": {},
   "source": [
    "#### XGBoost - HyperTuning colsample_bytree"
   ]
  },
  {
   "cell_type": "code",
   "execution_count": 79,
   "metadata": {},
   "outputs": [
    {
     "name": "stdout",
     "output_type": "stream",
     "text": [
      "Fitting 5 folds for each of 10 candidates, totalling 50 fits\n"
     ]
    },
    {
     "name": "stderr",
     "output_type": "stream",
     "text": [
      "[Parallel(n_jobs=15)]: Using backend LokyBackend with 15 concurrent workers.\n",
      "[Parallel(n_jobs=15)]: Done  21 out of  50 | elapsed:    0.3s remaining:    0.5s\n",
      "[Parallel(n_jobs=15)]: Done  50 out of  50 | elapsed:    1.0s finished\n"
     ]
    },
    {
     "data": {
      "image/png": "[encoded data removed]",
      "text/plain": [
       "<Figure size 432x288 with 1 Axes>"
      ]
     },
     "metadata": {
      "needs_background": "light"
     },
     "output_type": "display_data"
    },
    {
     "data": {
      "text/plain": [
       "{'colsample_bytree': 0.6}"
      ]
     },
     "execution_count": 79,
     "metadata": {},
     "output_type": "execute_result"
    }
   ],
   "source": [
    "# GridSearchCV to find optimal colsample_bytree: \n",
    "\n",
    "xgb = XGBClassifier(max_depth = 4, learning_rate = 0.1, n_estimators = 100, min_child_weight = 8,\n",
    "                    subsample = 1.0, n_jobs = -1, random_state = 100)\n",
    "\n",
    "parameter = 'colsample_bytree'\n",
    "\n",
    "param_grid = {parameter: np.arange(0.1, 1.1, 0.1)}\n",
    "\n",
    "gc = tune_hyper_parameter(X_train, y_train, param_grid, 'Individual', xgb)\n",
    "    \n",
    "# scores of GridSearch CV\n",
    "scores = gc.cv_results_\n",
    "\n",
    "# Plot the scores\n",
    "hypertuning_plot(scores, parameter)\n",
    "\n",
    "# Get the best value\n",
    "gc.best_params_"
   ]
  },
  {
   "cell_type": "markdown",
   "metadata": {},
   "source": [
    "#### Running the XGBoost with best parameters obtained from grid search - "
   ]
  },
  {
   "cell_type": "code",
   "execution_count": 80,
   "metadata": {},
   "outputs": [
    {
     "data": {
      "image/png": "[encoded data removed]",
      "text/plain": [
       "<Figure size 1008x432 with 2 Axes>"
      ]
     },
     "metadata": {
      "needs_background": "light"
     },
     "output_type": "display_data"
    },
    {
     "data": {
      "text/html": [
       "<div>\n",
       "<style scoped>\n",
       "    .dataframe tbody tr th:only-of-type {\n",
       "        vertical-align: middle;\n",
       "    }\n",
       "\n",
       "    .dataframe tbody tr th {\n",
       "        vertical-align: top;\n",
       "    }\n",
       "\n",
       "    .dataframe thead th {\n",
       "        text-align: right;\n",
       "    }\n",
       "</style>\n",
       "<table border=\"1\" class=\"dataframe\">\n",
       "  <thead>\n",
       "    <tr style=\"text-align: right;\">\n",
       "      <th></th>\n",
       "      <th>f1</th>\n",
       "      <th>precision</th>\n",
       "      <th>recall</th>\n",
       "      <th>accuracy</th>\n",
       "      <th>auc_roc</th>\n",
       "      <th>auc_pr</th>\n",
       "      <th>confusion_matrix</th>\n",
       "    </tr>\n",
       "  </thead>\n",
       "  <tbody>\n",
       "    <tr>\n",
       "      <th>0</th>\n",
       "      <td>0.783505</td>\n",
       "      <td>0.883721</td>\n",
       "      <td>0.703704</td>\n",
       "      <td>0.843284</td>\n",
       "      <td>0.820602</td>\n",
       "      <td>0.463509</td>\n",
       "      <td>[[75, 5], [16, 38]]</td>\n",
       "    </tr>\n",
       "  </tbody>\n",
       "</table>\n",
       "</div>"
      ],
      "text/plain": [
       "         f1  precision    recall  accuracy   auc_roc    auc_pr     confusion_matrix\n",
       "0  0.783505   0.883721  0.703704  0.843284  0.820602  0.463509  [[75, 5], [16, 38]]"
      ]
     },
     "execution_count": 80,
     "metadata": {},
     "output_type": "execute_result"
    }
   ],
   "source": [
    "# Random Forest with best parameters obtained from grid search\n",
    "\n",
    "xgb = XGBClassifier(max_depth = 4, learning_rate = 0.1, n_estimators = 100, min_child_weight = 8,\n",
    "                    subsample = 1.0, colsample_bytree = 1.0, n_jobs = -1, random_state = 100)\n",
    "\n",
    "xgb = xgb.fit(X_train.values, y_train.values.ravel())\n",
    "\n",
    "# Get the Score Metrics and plots\n",
    "scores = []\n",
    "\n",
    "scores = get_scores(scores, xgb, X_test)\n",
    "\n",
    "# Tabulate results\n",
    "sampling_results = pd.DataFrame(scores, columns = ['f1', 'precision', 'recall', 'accuracy',\n",
    "                                                   'auc_roc', 'auc_pr', 'confusion_matrix'])\n",
    "sampling_results"
   ]
  },
  {
   "cell_type": "markdown",
   "metadata": {},
   "source": [
    "## 2. LightGBM\n",
    "\n",
    "### Running the LightGBM Classifier with default parameters."
   ]
  },
  {
   "cell_type": "code",
   "execution_count": 81,
   "metadata": {},
   "outputs": [
    {
     "data": {
      "image/png": "[encoded data removed]",
      "text/plain": [
       "<Figure size 1008x432 with 2 Axes>"
      ]
     },
     "metadata": {
      "needs_background": "light"
     },
     "output_type": "display_data"
    },
    {
     "data": {
      "text/html": [
       "<div>\n",
       "<style scoped>\n",
       "    .dataframe tbody tr th:only-of-type {\n",
       "        vertical-align: middle;\n",
       "    }\n",
       "\n",
       "    .dataframe tbody tr th {\n",
       "        vertical-align: top;\n",
       "    }\n",
       "\n",
       "    .dataframe thead th {\n",
       "        text-align: right;\n",
       "    }\n",
       "</style>\n",
       "<table border=\"1\" class=\"dataframe\">\n",
       "  <thead>\n",
       "    <tr style=\"text-align: right;\">\n",
       "      <th></th>\n",
       "      <th>f1</th>\n",
       "      <th>precision</th>\n",
       "      <th>recall</th>\n",
       "      <th>accuracy</th>\n",
       "      <th>auc_roc</th>\n",
       "      <th>auc_pr</th>\n",
       "      <th>confusion_matrix</th>\n",
       "    </tr>\n",
       "  </thead>\n",
       "  <tbody>\n",
       "    <tr>\n",
       "      <th>0</th>\n",
       "      <td>0.75</td>\n",
       "      <td>0.857143</td>\n",
       "      <td>0.666667</td>\n",
       "      <td>0.820896</td>\n",
       "      <td>0.795833</td>\n",
       "      <td>0.408894</td>\n",
       "      <td>[[74, 6], [18, 36]]</td>\n",
       "    </tr>\n",
       "  </tbody>\n",
       "</table>\n",
       "</div>"
      ],
      "text/plain": [
       "     f1  precision    recall  accuracy   auc_roc    auc_pr     confusion_matrix\n",
       "0  0.75   0.857143  0.666667  0.820896  0.795833  0.408894  [[74, 6], [18, 36]]"
      ]
     },
     "execution_count": 81,
     "metadata": {},
     "output_type": "execute_result"
    }
   ],
   "source": [
    "# LightGBM with Default Parameters\n",
    "\n",
    "lgb = LGBMClassifier(objective = 'binary', n_jobs = -1, random_state = 100)\n",
    "\n",
    "lgb = lgb.fit(X_train.values, y_train.values.ravel())\n",
    "\n",
    "# Get the Score Metrics and plots\n",
    "scores = []\n",
    "\n",
    "scores = get_scores(scores, lgb, X_test)\n",
    "\n",
    "# Tabulate results\n",
    "sampling_results = pd.DataFrame(scores, columns = ['f1', 'precision', 'recall', 'accuracy',\n",
    "                                                   'auc_roc', 'auc_pr', 'confusion_matrix'])\n",
    "sampling_results"
   ]
  },
  {
   "cell_type": "markdown",
   "metadata": {},
   "source": [
    "## LightGBM - HyperTuning\n",
    "\n",
    "#### LightGBM - HyperTuning num_leaves"
   ]
  },
  {
   "cell_type": "code",
   "execution_count": 82,
   "metadata": {},
   "outputs": [
    {
     "name": "stdout",
     "output_type": "stream",
     "text": [
      "Fitting 5 folds for each of 52 candidates, totalling 260 fits\n"
     ]
    },
    {
     "name": "stderr",
     "output_type": "stream",
     "text": [
      "[Parallel(n_jobs=15)]: Using backend LokyBackend with 15 concurrent workers.\n",
      "[Parallel(n_jobs=15)]: Done  11 tasks      | elapsed:    0.2s\n",
      "[Parallel(n_jobs=15)]: Done 260 out of 260 | elapsed:    3.2s finished\n"
     ]
    },
    {
     "data": {
      "image/png": "[encoded data removed]",
      "text/plain": [
       "<Figure size 432x288 with 1 Axes>"
      ]
     },
     "metadata": {
      "needs_background": "light"
     },
     "output_type": "display_data"
    },
    {
     "data": {
      "text/plain": [
       "{'num_leaves': 20}"
      ]
     },
     "execution_count": 82,
     "metadata": {},
     "output_type": "execute_result"
    }
   ],
   "source": [
    "# GridSearchCV to find optimal num_leaves\n",
    "\n",
    "lgb = LGBMClassifier(objective = 'binary', n_jobs = -1, random_state = 100)\n",
    "\n",
    "parameter = 'num_leaves'\n",
    "\n",
    "param_grid = {parameter: range(20, 72)}\n",
    "\n",
    "gc = tune_hyper_parameter(X_train, y_train, param_grid, 'Individual', lgb)\n",
    "    \n",
    "# scores of GridSearch CV\n",
    "scores = gc.cv_results_\n",
    "\n",
    "# Plot the scores\n",
    "hypertuning_plot(scores, parameter)\n",
    "\n",
    "# Get the best value\n",
    "gc.best_params_"
   ]
  },
  {
   "cell_type": "markdown",
   "metadata": {},
   "source": [
    "#### LightGBM - HyperTuning max_depth"
   ]
  },
  {
   "cell_type": "code",
   "execution_count": 83,
   "metadata": {},
   "outputs": [
    {
     "name": "stdout",
     "output_type": "stream",
     "text": [
      "Fitting 5 folds for each of 64 candidates, totalling 320 fits\n"
     ]
    },
    {
     "name": "stderr",
     "output_type": "stream",
     "text": [
      "[Parallel(n_jobs=15)]: Using backend LokyBackend with 15 concurrent workers.\n",
      "[Parallel(n_jobs=15)]: Done  11 tasks      | elapsed:    0.1s\n",
      "[Parallel(n_jobs=15)]: Done 320 out of 320 | elapsed:    3.5s finished\n"
     ]
    },
    {
     "data": {
      "image/png": "[encoded data removed]",
      "text/plain": [
       "<Figure size 432x288 with 1 Axes>"
      ]
     },
     "metadata": {
      "needs_background": "light"
     },
     "output_type": "display_data"
    },
    {
     "data": {
      "text/plain": [
       "{'max_depth': 14}"
      ]
     },
     "execution_count": 83,
     "metadata": {},
     "output_type": "execute_result"
    }
   ],
   "source": [
    "# GridSearchCV to find optimal max_depth\n",
    "\n",
    "lgb = LGBMClassifier(num_leaves = 20, objective = 'binary', n_jobs = -1, random_state = 100)\n",
    "\n",
    "parameter = 'max_depth'\n",
    "\n",
    "param_grid = {parameter: range(8, 72)}\n",
    "\n",
    "gc = tune_hyper_parameter(X_train, y_train, param_grid, 'Individual', lgb)\n",
    "    \n",
    "# scores of GridSearch CV\n",
    "scores = gc.cv_results_\n",
    "\n",
    "# Plot the scores\n",
    "hypertuning_plot(scores, parameter)\n",
    "\n",
    "# Get the best value\n",
    "gc.best_params_"
   ]
  },
  {
   "cell_type": "markdown",
   "metadata": {},
   "source": [
    "#### LightGBM - HyperTuning learning_rate"
   ]
  },
  {
   "cell_type": "code",
   "execution_count": 84,
   "metadata": {},
   "outputs": [
    {
     "name": "stdout",
     "output_type": "stream",
     "text": [
      "Fitting 5 folds for each of 10 candidates, totalling 50 fits\n"
     ]
    },
    {
     "name": "stderr",
     "output_type": "stream",
     "text": [
      "[Parallel(n_jobs=15)]: Using backend LokyBackend with 15 concurrent workers.\n",
      "[Parallel(n_jobs=15)]: Done  21 out of  50 | elapsed:    0.2s remaining:    0.3s\n",
      "[Parallel(n_jobs=15)]: Done  50 out of  50 | elapsed:    0.4s finished\n"
     ]
    },
    {
     "data": {
      "image/png": "[encoded data removed]",
      "text/plain": [
       "<Figure size 432x288 with 1 Axes>"
      ]
     },
     "metadata": {
      "needs_background": "light"
     },
     "output_type": "display_data"
    },
    {
     "data": {
      "text/plain": [
       "{'learning_rate': 0.1}"
      ]
     },
     "execution_count": 84,
     "metadata": {},
     "output_type": "execute_result"
    }
   ],
   "source": [
    "# GridSearchCV to find optimal learning_rate\n",
    "\n",
    "lgb = LGBMClassifier(num_leaves = 20, max_depth = 8, objective = 'binary', n_jobs = -1, random_state = 100)\n",
    "\n",
    "parameter = 'learning_rate'\n",
    "\n",
    "param_grid = {parameter: np.arange(0.1, 1.1, 0.1)}\n",
    "\n",
    "gc = tune_hyper_parameter(X_train, y_train, param_grid, 'Individual', lgb)\n",
    "    \n",
    "# scores of GridSearch CV\n",
    "scores = gc.cv_results_\n",
    "\n",
    "# Plot the scores\n",
    "hypertuning_plot(scores, parameter)\n",
    "\n",
    "# Get the best value\n",
    "gc.best_params_"
   ]
  },
  {
   "cell_type": "markdown",
   "metadata": {},
   "source": [
    "#### LightGBM - HyperTuning n_estimators"
   ]
  },
  {
   "cell_type": "code",
   "execution_count": 85,
   "metadata": {},
   "outputs": [
    {
     "name": "stdout",
     "output_type": "stream",
     "text": [
      "Fitting 5 folds for each of 10 candidates, totalling 50 fits\n"
     ]
    },
    {
     "name": "stderr",
     "output_type": "stream",
     "text": [
      "[Parallel(n_jobs=15)]: Using backend LokyBackend with 15 concurrent workers.\n",
      "[Parallel(n_jobs=15)]: Done  21 out of  50 | elapsed:    0.7s remaining:    1.0s\n",
      "[Parallel(n_jobs=15)]: Done  50 out of  50 | elapsed:    3.7s finished\n"
     ]
    },
    {
     "data": {
      "image/png": "[encoded data removed]",
      "text/plain": [
       "<Figure size 432x288 with 1 Axes>"
      ]
     },
     "metadata": {
      "needs_background": "light"
     },
     "output_type": "display_data"
    },
    {
     "data": {
      "text/plain": [
       "{'n_estimators': 100}"
      ]
     },
     "execution_count": 85,
     "metadata": {},
     "output_type": "execute_result"
    }
   ],
   "source": [
    "# GridSearchCV to find optimal n_estimators\n",
    "\n",
    "lgb = LGBMClassifier(num_leaves = 20, max_depth = 8, learning_rate = 0.1, objective = 'binary',\n",
    "                     n_jobs = -1, random_state = 100)\n",
    "\n",
    "parameter = 'n_estimators'\n",
    "\n",
    "param_grid = {parameter: range(100, 1100, 100)}\n",
    "\n",
    "gc = tune_hyper_parameter(X_train, y_train, param_grid, 'Individual', lgb)\n",
    "    \n",
    "# scores of GridSearch CV\n",
    "scores = gc.cv_results_\n",
    "\n",
    "# Plot the scores\n",
    "hypertuning_plot(scores, parameter)\n",
    "\n",
    "# Get the best value\n",
    "gc.best_params_"
   ]
  },
  {
   "cell_type": "markdown",
   "metadata": {},
   "source": [
    "#### LightGBM - HyperTuning min_child_samples"
   ]
  },
  {
   "cell_type": "code",
   "execution_count": 86,
   "metadata": {},
   "outputs": [
    {
     "name": "stdout",
     "output_type": "stream",
     "text": [
      "Fitting 5 folds for each of 25 candidates, totalling 125 fits\n"
     ]
    },
    {
     "name": "stderr",
     "output_type": "stream",
     "text": [
      "[Parallel(n_jobs=15)]: Using backend LokyBackend with 15 concurrent workers.\n",
      "[Parallel(n_jobs=15)]: Done  11 tasks      | elapsed:    0.1s\n",
      "[Parallel(n_jobs=15)]: Done 125 out of 125 | elapsed:    1.3s finished\n"
     ]
    },
    {
     "data": {
      "image/png": "[encoded data removed]",
      "text/plain": [
       "<Figure size 432x288 with 1 Axes>"
      ]
     },
     "metadata": {
      "needs_background": "light"
     },
     "output_type": "display_data"
    },
    {
     "data": {
      "text/plain": [
       "{'min_child_samples': 8}"
      ]
     },
     "execution_count": 86,
     "metadata": {},
     "output_type": "execute_result"
    }
   ],
   "source": [
    "# GridSearchCV to find optimal min_child_samples\n",
    "\n",
    "lgb = LGBMClassifier(num_leaves = 20, max_depth = 8, learning_rate = 0.1, n_estimators = 100,\n",
    "                     objective = 'binary', n_jobs = -1, random_state = 100)\n",
    "\n",
    "parameter = 'min_child_samples'\n",
    "\n",
    "param_grid = {parameter: range(1, 26)}\n",
    "\n",
    "gc = tune_hyper_parameter(X_train, y_train, param_grid, 'Individual', lgb)\n",
    "    \n",
    "# scores of GridSearch CV\n",
    "scores = gc.cv_results_\n",
    "\n",
    "# Plot the scores\n",
    "hypertuning_plot(scores, parameter)\n",
    "\n",
    "# Get the best value\n",
    "gc.best_params_"
   ]
  },
  {
   "cell_type": "markdown",
   "metadata": {},
   "source": [
    "#### LightGBM - HyperTuning subsample¶"
   ]
  },
  {
   "cell_type": "code",
   "execution_count": 87,
   "metadata": {},
   "outputs": [
    {
     "name": "stdout",
     "output_type": "stream",
     "text": [
      "Fitting 5 folds for each of 10 candidates, totalling 50 fits\n"
     ]
    },
    {
     "name": "stderr",
     "output_type": "stream",
     "text": [
      "[Parallel(n_jobs=15)]: Using backend LokyBackend with 15 concurrent workers.\n",
      "[Parallel(n_jobs=15)]: Done  21 out of  50 | elapsed:    0.2s remaining:    0.3s\n",
      "[Parallel(n_jobs=15)]: Done  50 out of  50 | elapsed:    0.5s finished\n"
     ]
    },
    {
     "data": {
      "image/png": "[encoded data removed]",
      "text/plain": [
       "<Figure size 432x288 with 1 Axes>"
      ]
     },
     "metadata": {
      "needs_background": "light"
     },
     "output_type": "display_data"
    },
    {
     "data": {
      "text/plain": [
       "{'subsample': 0.1}"
      ]
     },
     "execution_count": 87,
     "metadata": {},
     "output_type": "execute_result"
    }
   ],
   "source": [
    "# GridSearchCV to find optimal subsample: \n",
    "\n",
    "lgb = LGBMClassifier(num_leaves = 20, max_depth = 8, learning_rate = 0.1, n_estimators = 100, min_child_samples = 4,\n",
    "                     objective = 'binary', n_jobs = -1, random_state = 100)\n",
    "\n",
    "parameter = 'subsample'\n",
    "\n",
    "param_grid = {parameter: np.arange(0.1, 1.1, 0.1)}\n",
    "\n",
    "gc = tune_hyper_parameter( X_train, y_train, param_grid, 'Individual', lgb)\n",
    "    \n",
    "# scores of GridSearch CV\n",
    "scores = gc.cv_results_\n",
    "\n",
    "# Plot the scores\n",
    "hypertuning_plot(scores, parameter)\n",
    "\n",
    "# Get the best value\n",
    "gc.best_params_"
   ]
  },
  {
   "cell_type": "markdown",
   "metadata": {},
   "source": [
    "#### LightGBM - HyperTuning colsample_bytree"
   ]
  },
  {
   "cell_type": "code",
   "execution_count": 88,
   "metadata": {},
   "outputs": [
    {
     "name": "stdout",
     "output_type": "stream",
     "text": [
      "Fitting 5 folds for each of 10 candidates, totalling 50 fits\n"
     ]
    },
    {
     "name": "stderr",
     "output_type": "stream",
     "text": [
      "[Parallel(n_jobs=15)]: Using backend LokyBackend with 15 concurrent workers.\n",
      "[Parallel(n_jobs=15)]: Done  21 out of  50 | elapsed:    0.1s remaining:    0.2s\n",
      "[Parallel(n_jobs=15)]: Done  50 out of  50 | elapsed:    0.6s finished\n"
     ]
    },
    {
     "data": {
      "image/png": "[encoded data removed]",
      "text/plain": [
       "<Figure size 432x288 with 1 Axes>"
      ]
     },
     "metadata": {
      "needs_background": "light"
     },
     "output_type": "display_data"
    },
    {
     "data": {
      "text/plain": [
       "{'colsample_bytree': 0.2}"
      ]
     },
     "execution_count": 88,
     "metadata": {},
     "output_type": "execute_result"
    }
   ],
   "source": [
    "# GridSearchCV to find optimal colsample_bytree: \n",
    "\n",
    "lgb = LGBMClassifier(num_leaves = 20, max_depth = 8, learning_rate = 0.1, n_estimators = 100, min_child_samples = 4,\n",
    "                     subsample = 0.1, objective = 'binary', n_jobs = -1, random_state = 100)\n",
    "\n",
    "parameter = 'colsample_bytree'\n",
    "\n",
    "param_grid = {parameter: np.arange(0.1, 1.1, 0.1)}\n",
    "\n",
    "gc = tune_hyper_parameter(X_train, y_train, param_grid, 'Individual', lgb)\n",
    "    \n",
    "# scores of GridSearch CV\n",
    "scores = gc.cv_results_\n",
    "\n",
    "# Plot the scores\n",
    "hypertuning_plot(scores, parameter)\n",
    "\n",
    "# Get the best value\n",
    "gc.best_params_"
   ]
  },
  {
   "cell_type": "markdown",
   "metadata": {},
   "source": [
    "#### Running the LightGBM with best parameters obtained from grid search - "
   ]
  },
  {
   "cell_type": "code",
   "execution_count": 89,
   "metadata": {},
   "outputs": [
    {
     "data": {
      "image/png": "[encoded data removed]",
      "text/plain": [
       "<Figure size 1008x432 with 2 Axes>"
      ]
     },
     "metadata": {
      "needs_background": "light"
     },
     "output_type": "display_data"
    },
    {
     "data": {
      "text/html": [
       "<div>\n",
       "<style scoped>\n",
       "    .dataframe tbody tr th:only-of-type {\n",
       "        vertical-align: middle;\n",
       "    }\n",
       "\n",
       "    .dataframe tbody tr th {\n",
       "        vertical-align: top;\n",
       "    }\n",
       "\n",
       "    .dataframe thead th {\n",
       "        text-align: right;\n",
       "    }\n",
       "</style>\n",
       "<table border=\"1\" class=\"dataframe\">\n",
       "  <thead>\n",
       "    <tr style=\"text-align: right;\">\n",
       "      <th></th>\n",
       "      <th>f1</th>\n",
       "      <th>precision</th>\n",
       "      <th>recall</th>\n",
       "      <th>accuracy</th>\n",
       "      <th>auc_roc</th>\n",
       "      <th>auc_pr</th>\n",
       "      <th>confusion_matrix</th>\n",
       "    </tr>\n",
       "  </thead>\n",
       "  <tbody>\n",
       "    <tr>\n",
       "      <th>0</th>\n",
       "      <td>0.787879</td>\n",
       "      <td>0.866667</td>\n",
       "      <td>0.722222</td>\n",
       "      <td>0.843284</td>\n",
       "      <td>0.823611</td>\n",
       "      <td>0.439898</td>\n",
       "      <td>[[74, 6], [15, 39]]</td>\n",
       "    </tr>\n",
       "  </tbody>\n",
       "</table>\n",
       "</div>"
      ],
      "text/plain": [
       "         f1  precision    recall  accuracy   auc_roc    auc_pr     confusion_matrix\n",
       "0  0.787879   0.866667  0.722222  0.843284  0.823611  0.439898  [[74, 6], [15, 39]]"
      ]
     },
     "execution_count": 89,
     "metadata": {},
     "output_type": "execute_result"
    }
   ],
   "source": [
    "# LightGBM with best parameters obtained from grid search\n",
    "\n",
    "lgb = LGBMClassifier(num_leaves = 20, max_depth = 8, learning_rate = 0.1, n_estimators = 100, min_child_samples = 4,\n",
    "                     subsample = 0.1, colsample_bytree = 0.2, objective = 'binary', n_jobs = -1, random_state = 100)\n",
    "\n",
    "lgb = lgb.fit(X_train.values, y_train.values.ravel())\n",
    "\n",
    "# Get the Score Metrics and plots\n",
    "scores = []\n",
    "\n",
    "scores = get_scores(scores, lgb, X_test)\n",
    "\n",
    "# Tabulate results\n",
    "sampling_results = pd.DataFrame(scores, columns = ['f1', 'precision', 'recall', 'accuracy',\n",
    "                                                   'auc_roc', 'auc_pr', 'confusion_matrix'])\n",
    "sampling_results"
   ]
  },
  {
   "cell_type": "markdown",
   "metadata": {},
   "source": [
    "# Predictions"
   ]
  },
  {
   "cell_type": "code",
   "execution_count": 90,
   "metadata": {},
   "outputs": [],
   "source": [
    "xgb_pred = xgb.predict(titanic_test_data.values)\n",
    "\n",
    "xg_pred_file = pd.DataFrame({'PassengerId' : titanic_test_passengerId['PassengerId'],\n",
    "                       'Survived': xgb_pred.T})\n",
    "xg_pred_file.to_csv(\"submit_xg.csv\", index=False)"
   ]
  },
  {
   "cell_type": "code",
   "execution_count": 91,
   "metadata": {},
   "outputs": [],
   "source": [
    "lgb_pred = lgb.predict(titanic_test_data)\n",
    "\n",
    "lg_pred_file = pd.DataFrame({'PassengerId' : titanic_test_passengerId['PassengerId'],\n",
    "                       'Survived': lgb_pred.T})\n",
    "lg_pred_file.to_csv(\"submit_lgbm.csv\", index=False)"
   ]
  }
 ],
 "metadata": {
  "kernelspec": {
   "display_name": "Python 3",
   "language": "python",
   "name": "python3"
  },
  "language_info": {
   "codemirror_mode": {
    "name": "ipython",
    "version": 3
   },
   "file_extension": ".py",
   "mimetype": "text/x-python",
   "name": "python",
   "nbconvert_exporter": "python",
   "pygments_lexer": "ipython3",
   "version": "3.6.8"
  }
 },
 "nbformat": 4,
 "nbformat_minor": 2
}
